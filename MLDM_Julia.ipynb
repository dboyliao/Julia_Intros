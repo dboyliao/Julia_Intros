{
 "cells": [
  {
   "cell_type": "markdown",
   "metadata": {
    "slideshow": {
     "slide_type": "slide"
    }
   },
   "source": [
    "# MLDM Monday - Introduction to Julia\n",
    "\n",
    "<h2>\n",
    "<font color='black'>\n",
    "Yin-Chen Liao (Dboy)\n",
    "</font>\n",
    "</h2>"
   ]
  },
  {
   "cell_type": "markdown",
   "metadata": {
    "slideshow": {
     "slide_type": "slide"
    }
   },
   "source": [
    "# Is Julia Object-Oriented, Functional or What?\n",
    "\n",
    "我想在座的各位身為 R, Python 或其他許多主流語言的使用者，\n",
    "\n",
    "對於 OOP 或 Functional Programming 應該都不陌生，\n",
    "\n",
    "在接觸 Julia 這個新語言的時候，\n",
    "\n",
    "想必很自然地會問這樣的問題: Julia 到底是個怎樣的語言?\n"
   ]
  },
  {
   "cell_type": "markdown",
   "metadata": {
    "slideshow": {
     "slide_type": "subslide"
    }
   },
   "source": [
    "### 引自 Julia [官方文件](http://julia.readthedocs.org/en/latest/manual/introduction/):\n",
    "\n",
    "<pre>\n",
    "Julia features optional typing, multiple dispatch, and good performance, achieved using type inference and just-in-time (JIT) compilation, implemented using LLVM. <strong>It is multi-paradigm, combining features of imperative, functional, and object-oriented programming.</strong>\n",
    "</pre>\n",
    "\n",
    "所以我想，如果 Julia 是活生生的動物的話，\n",
    "\n",
    "大概長這樣吧....\n"
   ]
  },
  {
   "cell_type": "markdown",
   "metadata": {
    "slideshow": {
     "slide_type": "fragment"
    }
   },
   "source": [
    "<center>\n",
    "<img src=http://163.20.173.57/stud96/919/33/p2/1.jpg />\n",
    "</center>"
   ]
  },
  {
   "cell_type": "markdown",
   "metadata": {
    "slideshow": {
     "slide_type": "subslide"
    }
   },
   "source": [
    "\n",
    "\n",
    "因此會著重在下面幾個重點:\n",
    "\n",
    "1. Julia 的 Type System\n",
    "2. Methods\n",
    "3. 聽說 Julia 很快? \n",
    "  - Loops in Julia: 以碎形為例。(Gadfly 圖超美的!)\n",
    "  - Recursion in Julia: 萬年經典例子 -- 費式數列\n",
    "  - 實作 Simple Neural Network: Julia v.s Python(Numpy)\n",
    "4. 如何學習 Julia:\n",
    "  - Document 。\n",
    "  - 看看 Julia 原始碼。例如 base.jl --> 重要的 Julia 核心 code"
   ]
  },
  {
   "cell_type": "markdown",
   "metadata": {
    "slideshow": {
     "slide_type": "subslide"
    }
   },
   "source": [
    "有時間的機會的話....\n",
    "\n",
    " - Parallel Computation in Julia (CPU-bound)\n",
    " - Socket Programming in Julia"
   ]
  },
  {
   "cell_type": "markdown",
   "metadata": {
    "slideshow": {
     "slide_type": "slide"
    }
   },
   "source": [
    "## Type System\n",
    "\n",
    "<pre>\n",
    "Describing Julia in the lingo of type systems, <strong>it is: dynamic, nominative and parametric.</strong> Generic types can be parameterized, and the hierarchical relationships between types are explicitly declared, rather than implied by compatible structure. \n",
    "</pre>\n",
    "\n",
    "- Abstract Type\n",
    "- Concrete Type\n",
    "- Composite Type (常用于自定義資料結構 --> 類似 C 的 struct)\n",
    "- Parametric Type (類似 C++ 的 Template )"
   ]
  },
  {
   "cell_type": "markdown",
   "metadata": {
    "slideshow": {
     "slide_type": "subslide"
    }
   },
   "source": [
    "嗯....我知道有說等於沒說\n",
    "\n",
    "我們來看一些例子。"
   ]
  },
  {
   "cell_type": "code",
   "execution_count": 1,
   "metadata": {
    "collapsed": true,
    "slideshow": {
     "slide_type": "slide"
    }
   },
   "outputs": [],
   "source": [
    "# 自定義 \"男人\" 類別 \n",
    "type Man\n",
    "    gender::String       # 屬性 (attribute):: 資料形態\n",
    "    first_name::String\n",
    "    last_name::String\n",
    "    \n",
    "    function Man(fn::String, ln::String)\n",
    "        gender = \"Male\"\n",
    "        new(gender, fn, ln)\n",
    "    end\n",
    "end"
   ]
  },
  {
   "cell_type": "code",
   "execution_count": 2,
   "metadata": {
    "collapsed": true,
    "slideshow": {
     "slide_type": "fragment"
    }
   },
   "outputs": [],
   "source": [
    "type Woman\n",
    "    gender::String\n",
    "    first_name::String\n",
    "    last_name::String\n",
    "    \n",
    "    function Woman(fn::String, ln::String)\n",
    "        gender = \"Female\"\n",
    "        new(gender, fn, ln)\n",
    "    end\n",
    "end"
   ]
  },
  {
   "cell_type": "code",
   "execution_count": 7,
   "metadata": {
    "collapsed": false,
    "slideshow": {
     "slide_type": "subslide"
    }
   },
   "outputs": [
    {
     "name": "stdout",
     "output_type": "stream",
     "text": [
      "Man:\n",
      "My first name is Yin-Chen.\n",
      "My last name is Liao.\n",
      "\n",
      "Woman:\n",
      "I, Donot Exists, am Yin-Chen's girl friend.\n"
     ]
    }
   ],
   "source": [
    "# String Interpolation\n",
    "me = Man(\"Yin-Chen\", \"Liao\");\n",
    "println(\"Man:\")\n",
    "println(\"My first name is $(me.first_name).\")\n",
    "println(\"My last name is \", me.last_name, '.')\n",
    "println()\n",
    "\n",
    "girl_friend = Woman(\"Donot\", \"Exists\")\n",
    "println(\"Woman:\")\n",
    "println(\"I, $(girl_friend.first_name) $(girl_friend.last_name),\", \" am $(me.first_name)'s girl friend.\")"
   ]
  },
  {
   "cell_type": "code",
   "execution_count": 13,
   "metadata": {
    "collapsed": false,
    "slideshow": {
     "slide_type": "subslide"
    }
   },
   "outputs": [
    {
     "data": {
      "text/plain": [
       "+ (generic function with 121 methods)"
      ]
     },
     "execution_count": 13,
     "metadata": {},
     "output_type": "execute_result"
    }
   ],
   "source": [
    "# 自定義 + 法\n",
    "function +(man::Man, woman::Woman)\n",
    "    ind = rand(1:2)\n",
    "    child_first_name = woman.first_name\n",
    "    child_last_name = man.last_name\n",
    "    if ind == 2\n",
    "        child_first_name, child_last_name = man.first_name, woman.last_name\n",
    "        return Woman(child_first_name, child_last_name)\n",
    "    end\n",
    "    return Man(child_first_name, child_last_name)\n",
    "end\n",
    "\n",
    "+(woman::Woman, man::Man) = +(man, woman)"
   ]
  },
  {
   "cell_type": "code",
   "execution_count": 14,
   "metadata": {
    "collapsed": false,
    "slideshow": {
     "slide_type": "subslide"
    }
   },
   "outputs": [
    {
     "data": {
      "text/plain": [
       "Man(\"Male\",\"Donot\",\"Liao\")"
      ]
     },
     "execution_count": 14,
     "metadata": {},
     "output_type": "execute_result"
    }
   ],
   "source": [
    "me + girl_friend"
   ]
  },
  {
   "cell_type": "code",
   "execution_count": 15,
   "metadata": {
    "collapsed": false,
    "slideshow": {
     "slide_type": "fragment"
    }
   },
   "outputs": [
    {
     "data": {
      "text/plain": [
       "Woman(\"Female\",\"Yin-Chen\",\"Exists\")"
      ]
     },
     "execution_count": 15,
     "metadata": {},
     "output_type": "execute_result"
    }
   ],
   "source": [
    "me + girl_friend"
   ]
  },
  {
   "cell_type": "markdown",
   "metadata": {
    "slideshow": {
     "slide_type": "subslide"
    }
   },
   "source": [
    "### 用行動支持多元成家!\n",
    "\n",
    "誰說只有 \"男人 + 女人\" 或者 \"女人 + 男人\" !?\n",
    "\n",
    "只要有愛，人人皆可成家。\n"
   ]
  },
  {
   "cell_type": "markdown",
   "metadata": {
    "slideshow": {
     "slide_type": "subslide"
    }
   },
   "source": [
    "但懶惰如我或工程師心中獨白: 要定義 4 個 `+` 好麻煩喔....。\n",
    "\n",
    "用 `Abstract Type` 簡化 code:"
   ]
  },
  {
   "cell_type": "code",
   "execution_count": 1,
   "metadata": {
    "collapsed": false,
    "slideshow": {
     "slide_type": "fragment"
    }
   },
   "outputs": [],
   "source": [
    "# 定義一個 abstract type\n",
    "abstract Human \n",
    "\n",
    "type Man <: Human  # 簡單加上這一行\n",
    "    gender::String\n",
    "    first_name::String\n",
    "    last_name::String\n",
    "    \n",
    "    function Man(fn::String, ln::String)\n",
    "        gender = \"Male\"\n",
    "        new(gender, fn, ln)\n",
    "    end\n",
    "end\n",
    "\n",
    "type Woman <: Human # 簡單加上這一行\n",
    "    gender::String\n",
    "    first_name::String\n",
    "    last_name::String\n",
    "    \n",
    "    function Woman(fn::String, ln::String)\n",
    "        gender = \"Female\"\n",
    "        new(gender, fn, ln)\n",
    "    end\n",
    "end"
   ]
  },
  {
   "cell_type": "code",
   "execution_count": 16,
   "metadata": {
    "collapsed": false,
    "slideshow": {
     "slide_type": "subslide"
    }
   },
   "outputs": [
    {
     "data": {
      "text/plain": [
       "+ (generic function with 121 methods)"
      ]
     },
     "execution_count": 16,
     "metadata": {},
     "output_type": "execute_result"
    }
   ],
   "source": [
    "# 只要定義一次 + 就可以用在所有男人跟女人的組合上。\n",
    "function +(h1::Human, h2::Human)  \n",
    "    child_gender = h1.gender\n",
    "    child_first_name = h2.first_name\n",
    "    child_last_name = h1.last_name\n",
    "    ind1 = rand(1:2)\n",
    "    ind2 = rand(1:2)\n",
    "    if ind2 == 2\n",
    "        child_first_name, child_last_name = h1.first_name, h2.last_name\n",
    "    end\n",
    "    if ind1 == 2\n",
    "        child_gender = h2.gender\n",
    "    end\n",
    "    if child_gender == \"Male\"\n",
    "        return Man(child_first_name, child_last_name)\n",
    "    else\n",
    "        return Woman(child_first_name, child_last_name)\n",
    "    end\n",
    "end"
   ]
  },
  {
   "cell_type": "code",
   "execution_count": 17,
   "metadata": {
    "collapsed": false,
    "slideshow": {
     "slide_type": "subslide"
    }
   },
   "outputs": [
    {
     "name": "stdout",
     "output_type": "stream",
     "text": [
      "Charlie and Lucy have a child: Man(\"Male\",\"Lucy\",\"Brown\")\n",
      "Charlie and Linusvan adopt a child: Man(\"Male\",\"Linusvan\",\"Brown\")\n",
      "Sally and Lucy adopt another child: Woman(\"Female\",\"Sally\",\"Pelt\")\n"
     ]
    }
   ],
   "source": [
    "# 如果我不小心毀了你對 Snoopy 的印象....I'm sorry.\n",
    "\n",
    "charlie = Man(\"Charlie\", \"Brown\")\n",
    "linusvan = Man(\"Linusvan\", \"Pelt\")\n",
    "lucy = Woman(\"Lucy\", \"Pelt\")\n",
    "sally = Woman(\"Sally\", \"Brown\")\n",
    "\n",
    "println(\"Charlie and Lucy have a child: \", charlie + lucy)\n",
    "println(\"Charlie and Linusvan adopt a child: \", charlie + linusvan)\n",
    "println(\"Sally and Lucy adopt another child: \", sally + lucy)"
   ]
  },
  {
   "cell_type": "markdown",
   "metadata": {
    "slideshow": {
     "slide_type": "slide"
    }
   },
   "source": [
    "## Parametric Type\n",
    "\n",
    "- 在 Julia 裡，可以為 type 加上 parameter 。\n",
    "- 很抱歉我沒想到什麼通俗的例子\n",
    "  - 關於這個主題我會用線性代數裡的 Vector space 來做例子\n"
   ]
  },
  {
   "cell_type": "markdown",
   "metadata": {
    "slideshow": {
     "slide_type": "fragment"
    }
   },
   "source": [
    "試想你想要在操作一個 2 維的向量空間，\n",
    "\n",
    "同樣是 2 為向量空間可以有不同的 field 。"
   ]
  },
  {
   "cell_type": "markdown",
   "metadata": {
    "slideshow": {
     "slide_type": "fragment"
    }
   },
   "source": [
    "舉例來說 $\\mathbb{R}^2$, $\\mathbb{C}^2$ ...etc。\n",
    "\n",
    "那你可能會這樣做:"
   ]
  },
  {
   "cell_type": "code",
   "execution_count": 1,
   "metadata": {
    "collapsed": false,
    "slideshow": {
     "slide_type": "subslide"
    }
   },
   "outputs": [],
   "source": [
    "# Vector space over R^2\n",
    "type VectorOverR\n",
    "    x::Float64\n",
    "    y::Float64\n",
    "end\n",
    "\n",
    "# Vector space over C^2\n",
    "type VectorOverC\n",
    "    x::Complex{Float64}\n",
    "    y::Complex{Float64}\n",
    "end\n",
    "\n",
    "v_r = VectorOverR(1.1, 2.3);\n",
    "v_c = VectorOverC(1. + 3.im, 2.1 + 3.5im);"
   ]
  },
  {
   "cell_type": "code",
   "execution_count": 2,
   "metadata": {
    "collapsed": false,
    "slideshow": {
     "slide_type": "subslide"
    }
   },
   "outputs": [
    {
     "name": "stdout",
     "output_type": "stream",
     "text": [
      "v_r: VectorOverR(1.1,2.3)\n",
      "v_c: VectorOverC(1.0 + 3.0im,2.1 + 3.5im)\n"
     ]
    }
   ],
   "source": [
    "println(\"v_r: \", v_r)\n",
    "println(\"v_c: \", v_c)"
   ]
  },
  {
   "cell_type": "markdown",
   "metadata": {
    "slideshow": {
     "slide_type": "fragment"
    }
   },
   "source": [
    "OK....我知道這會動，但是...."
   ]
  },
  {
   "cell_type": "markdown",
   "metadata": {
    "slideshow": {
     "slide_type": "subslide"
    }
   },
   "source": [
    "- 難不成我有 10 種 Field 我就要寫 10 種 Vector space!?\n",
    "- 這些 code 都長好像喔，我一定要浪費時間在這種重複性的 code 嗎?\n",
    "- 你不知道 python 有個很好的準則叫做 DRY 嗎? (Donot Repeat Yourself)\n",
    "- 我不想寫這種 code !!(吼)\n"
   ]
  },
  {
   "cell_type": "markdown",
   "metadata": {
    "slideshow": {
     "slide_type": "fragment"
    }
   },
   "source": [
    "用 parametric type 去簡化 code:\n"
   ]
  },
  {
   "cell_type": "code",
   "execution_count": 3,
   "metadata": {
    "collapsed": false,
    "slideshow": {
     "slide_type": "subslide"
    }
   },
   "outputs": [],
   "source": [
    "type VectorSpace{T}\n",
    "    x::T\n",
    "    y::T\n",
    "end\n",
    "\n",
    "v_r = VectorSpace{Float64}(1.1, 2.3);\n",
    "v_c = VectorSpace{Complex{Float64}}(1., 2.);"
   ]
  },
  {
   "cell_type": "code",
   "execution_count": 4,
   "metadata": {
    "collapsed": false,
    "slideshow": {
     "slide_type": "fragment"
    }
   },
   "outputs": [
    {
     "name": "stdout",
     "output_type": "stream",
     "text": [
      "v_r: VectorSpace{Float64}(1.1,2.3)\n",
      "v_c: VectorSpace{Complex{Float64}}(1.0 + 0.0im,2.0 + 0.0im)\n"
     ]
    }
   ],
   "source": [
    "println(\"v_r: \", v_r)\n",
    "println(\"v_c: \", v_c)"
   ]
  },
  {
   "cell_type": "markdown",
   "metadata": {
    "slideshow": {
     "slide_type": "slide"
    }
   },
   "source": [
    "## References\n",
    "\n",
    "- [Julia 官方文件](http://julia.readthedocs.org/en/latest/)\n",
    "- [JIT (Just-In-Time) compiler](http://stackoverflow.com/questions/95635/what-does-a-just-in-time-jit-compiler-do)  [StackOverflow]\n",
    "- [LLVM](http://aosabook.org/en/llvm.html)"
   ]
  },
  {
   "cell_type": "markdown",
   "metadata": {
    "slideshow": {
     "slide_type": "subslide"
    }
   },
   "source": [
    "<div class='reveal'>\n",
    " <center>\n",
    " <font size=16> Thanks for your attention </font>\n",
    " </center>\n",
    "</div>\n",
    "<br>\n",
    "<br>\n",
    "<div class='reveal'>\n",
    "  <div class='fragment'>\n",
    "  <center>\n",
    "    <font size=10 color=blue>Q/A</font>\n",
    "  </center>\n",
    "  </div>\n",
    "</div>"
   ]
  },
  {
   "cell_type": "markdown",
   "metadata": {
    "slideshow": {
     "slide_type": "slide"
    }
   },
   "source": [
    "## Typos Found in the Doc\n",
    "\n",
    "- [C Interface](http://julia.readthedocs.org/en/latest/manual/calling-c-and-fortran-code/)"
   ]
  },
  {
   "cell_type": "code",
   "execution_count": 31,
   "metadata": {
    "collapsed": false,
    "slideshow": {
     "slide_type": "subslide"
    }
   },
   "outputs": [
    {
     "data": {
      "text/plain": [
       "Ptr{T}"
      ]
     },
     "execution_count": 31,
     "metadata": {},
     "output_type": "execute_result"
    }
   ],
   "source": [
    "# Pointer type in Julia\n",
    "Ptr"
   ]
  },
  {
   "cell_type": "code",
   "execution_count": 49,
   "metadata": {
    "collapsed": false,
    "slideshow": {
     "slide_type": "subslide"
    }
   },
   "outputs": [
    {
     "data": {
      "text/plain": [
       "getenv (generic function with 1 method)"
      ]
     },
     "execution_count": 49,
     "metadata": {},
     "output_type": "execute_result"
    }
   ],
   "source": [
    "function getenv(var::String)\n",
    "  val = ccall((:getenv, \"libc\"),\n",
    "    Ptr{Uint8}, (Ptr{Uint8},), var)\n",
    "  if val == C_NULL\n",
    "    error(\"getenv: undefined variable: \", var)\n",
    "  end\n",
    "  bytestring(val)\n",
    "end"
   ]
  },
  {
   "cell_type": "code",
   "execution_count": 50,
   "metadata": {
    "collapsed": false,
    "slideshow": {
     "slide_type": "subslide"
    }
   },
   "outputs": [
    {
     "data": {
      "text/plain": [
       "\"/bin/bash\""
      ]
     },
     "execution_count": 50,
     "metadata": {},
     "output_type": "execute_result"
    }
   ],
   "source": [
    "getenv(\"SHELL\")"
   ]
  }
 ],
 "metadata": {
  "celltoolbar": "Slideshow",
  "kernelspec": {
   "display_name": "Julia 0.3.6",
   "language": "julia",
   "name": "julia 0.3"
  },
  "language_info": {
   "name": "julia",
   "version": "0.3.6"
  }
 },
 "nbformat": 4,
 "nbformat_minor": 0
}
