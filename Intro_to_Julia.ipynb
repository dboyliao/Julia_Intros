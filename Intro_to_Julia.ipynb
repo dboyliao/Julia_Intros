{
 "cells": [
  {
   "cell_type": "code",
   "execution_count": 1,
   "metadata": {
    "collapsed": false
   },
   "outputs": [
    {
     "name": "stderr",
     "output_type": "stream",
     "text": [
      "INFO: Nothing to be done\n",
      "INFO: METADATA is out-of-date — you may not have the latest version of Gadfly\n",
      "INFO: Use `Pkg.update()` to get the latest versions of your packages\n"
     ]
    }
   ],
   "source": [
    "Pkg.add(\"Gadfly\")"
   ]
  },
  {
   "cell_type": "code",
   "execution_count": 2,
   "metadata": {
    "collapsed": true
   },
   "outputs": [],
   "source": [
    "import Gadfly"
   ]
  },
  {
   "cell_type": "code",
   "execution_count": 3,
   "metadata": {
    "collapsed": false
   },
   "outputs": [
    {
     "data": {
      "text/plain": [
       "\"\""
      ]
     },
     "execution_count": 3,
     "metadata": {},
     "output_type": "execute_result"
    }
   ],
   "source": [
    "dirname(Base.source_path())"
   ]
  },
  {
   "cell_type": "code",
   "execution_count": 1,
   "metadata": {
    "collapsed": false
   },
   "outputs": [
    {
     "data": {
      "text/plain": [
       "10"
      ]
     },
     "execution_count": 1,
     "metadata": {},
     "output_type": "execute_result"
    }
   ],
   "source": [
    "α = 10"
   ]
  },
  {
   "cell_type": "code",
   "execution_count": 2,
   "metadata": {
    "collapsed": false
   },
   "outputs": [
    {
     "name": "stdout",
     "output_type": "stream",
     "text": [
      "α = 10\n"
     ]
    }
   ],
   "source": [
    "println(\"α = \", α)"
   ]
  },
  {
   "cell_type": "code",
   "execution_count": 3,
   "metadata": {
    "collapsed": false
   },
   "outputs": [
    {
     "name": "stderr",
     "output_type": "stream",
     "text": [
      "INFO: Loading help data...\n"
     ]
    },
    {
     "name": "stdout",
     "output_type": "stream",
     "text": [
      "Base.print(x)\n",
      "\n",
      "   Write (to the default output stream) a canonical (un-decorated)\n",
      "   text representation of a value if there is one, otherwise call\n",
      "   \"show\". The representation used by \"print\" includes minimal\n",
      "   formatting and tries to avoid Julia-specific details.\n"
     ]
    }
   ],
   "source": [
    "?print"
   ]
  },
  {
   "cell_type": "code",
   "execution_count": 4,
   "metadata": {
    "collapsed": false
   },
   "outputs": [
    {
     "name": "stdout",
     "output_type": "stream",
     "text": [
      "Base.println(x)\n",
      "\n",
      "   Print (using \"print()\") \"x\" followed by a newline.\n"
     ]
    }
   ],
   "source": [
    "?println"
   ]
  },
  {
   "cell_type": "code",
   "execution_count": 5,
   "metadata": {
    "collapsed": false
   },
   "outputs": [
    {
     "data": {
      "text/plain": [
       "g (generic function with 1 method)"
      ]
     },
     "execution_count": 5,
     "metadata": {},
     "output_type": "execute_result"
    }
   ],
   "source": [
    "f(x) = 2x^2 + 3x + 1\n",
    "g(x) = f(x) - (2x + 1)*(x + 1)"
   ]
  },
  {
   "cell_type": "code",
   "execution_count": 6,
   "metadata": {
    "collapsed": false
   },
   "outputs": [
    {
     "data": {
      "text/plain": [
       "28"
      ]
     },
     "execution_count": 6,
     "metadata": {},
     "output_type": "execute_result"
    }
   ],
   "source": [
    "f(3)"
   ]
  },
  {
   "cell_type": "code",
   "execution_count": 7,
   "metadata": {
    "collapsed": false
   },
   "outputs": [
    {
     "data": {
      "text/plain": [
       "0.0"
      ]
     },
     "execution_count": 7,
     "metadata": {},
     "output_type": "execute_result"
    }
   ],
   "source": [
    "g(3.5)"
   ]
  },
  {
   "cell_type": "code",
   "execution_count": 8,
   "metadata": {
    "collapsed": false
   },
   "outputs": [
    {
     "name": "stdout",
     "output_type": "stream",
     "text": [
      "μ is 5, 66\n"
     ]
    }
   ],
   "source": [
    "μ = 5\n",
    "\n",
    "println(\"μ is $μ, $(f(μ))\") # '' stands for character in julia whereas \"\" stands for string."
   ]
  },
  {
   "cell_type": "code",
   "execution_count": 9,
   "metadata": {
    "collapsed": false
   },
   "outputs": [
    {
     "ename": "LoadError",
     "evalue": "syntax: invalid character literal\nwhile loading In[9], in expression starting on line 1",
     "output_type": "error",
     "traceback": [
      "syntax: invalid character literal\nwhile loading In[9], in expression starting on line 1",
      ""
     ]
    }
   ],
   "source": [
    "println('μ is $μ, $(f(μ))') # Julia 根本是 Linux 中毒了....XDDD"
   ]
  },
  {
   "cell_type": "code",
   "execution_count": 10,
   "metadata": {
    "collapsed": false
   },
   "outputs": [
    {
     "data": {
      "text/plain": [
       "'a'"
      ]
     },
     "execution_count": 10,
     "metadata": {},
     "output_type": "execute_result"
    }
   ],
   "source": [
    "a = 'a'"
   ]
  },
  {
   "cell_type": "code",
   "execution_count": 11,
   "metadata": {
    "collapsed": false
   },
   "outputs": [
    {
     "data": {
      "text/plain": [
       "-8446744073709551616"
      ]
     },
     "execution_count": 11,
     "metadata": {},
     "output_type": "execute_result"
    }
   ],
   "source": [
    "a = int(1e18)\n",
    "a * 10 # overflow"
   ]
  },
  {
   "cell_type": "code",
   "execution_count": 12,
   "metadata": {
    "collapsed": false
   },
   "outputs": [
    {
     "data": {
      "text/plain": [
       "100000000000000000"
      ]
     },
     "execution_count": 12,
     "metadata": {},
     "output_type": "execute_result"
    }
   ],
   "source": [
    "b = int(1e16)\n",
    "b*10"
   ]
  },
  {
   "cell_type": "code",
   "execution_count": 13,
   "metadata": {
    "collapsed": false
   },
   "outputs": [
    {
     "data": {
      "text/plain": [
       "BigInt (constructor with 10 methods)"
      ]
     },
     "execution_count": 13,
     "metadata": {},
     "output_type": "execute_result"
    }
   ],
   "source": [
    "c = big(10)\n",
    "typeof(c)"
   ]
  },
  {
   "cell_type": "code",
   "execution_count": 14,
   "metadata": {
    "collapsed": false
   },
   "outputs": [
    {
     "data": {
      "text/plain": [
       "1000000000000000000000000000000000000000000000000000000000000000000000000000000000000000000000000000000000000000000000000000000000000000000000000000000000000000000000000000000000000000000000000000000000000000000000000000000000000000000000000000000000000000000000000000000000000000000000000000000000000"
      ]
     },
     "execution_count": 14,
     "metadata": {},
     "output_type": "execute_result"
    }
   ],
   "source": [
    "c^300 # Correct result"
   ]
  },
  {
   "cell_type": "code",
   "execution_count": 15,
   "metadata": {
    "collapsed": false
   },
   "outputs": [
    {
     "data": {
      "text/plain": [
       "7766279631452241920"
      ]
     },
     "execution_count": 15,
     "metadata": {},
     "output_type": "execute_result"
    }
   ],
   "source": [
    "d = int(10)\n",
    "d^20 # overflow"
   ]
  },
  {
   "cell_type": "code",
   "execution_count": 16,
   "metadata": {
    "collapsed": false
   },
   "outputs": [
    {
     "data": {
      "text/plain": [
       "1526376"
      ]
     },
     "execution_count": 16,
     "metadata": {},
     "output_type": "execute_result"
    }
   ],
   "source": [
    "c = big(1526376)"
   ]
  },
  {
   "cell_type": "code",
   "execution_count": 17,
   "metadata": {
    "collapsed": false
   },
   "outputs": [
    {
     "data": {
      "text/plain": [
       "323478829756681364186380569218377111649304385630166052951677606613076968600708413285453637855023563903318810123065555806936167192846543091579038527098464481055587759086829299113840869376"
      ]
     },
     "execution_count": 17,
     "metadata": {},
     "output_type": "execute_result"
    }
   ],
   "source": [
    "c^30"
   ]
  },
  {
   "cell_type": "code",
   "execution_count": 18,
   "metadata": {
    "collapsed": true
   },
   "outputs": [],
   "source": [
    "l = [1, \"2\"];"
   ]
  },
  {
   "cell_type": "code",
   "execution_count": 19,
   "metadata": {
    "collapsed": false
   },
   "outputs": [
    {
     "data": {
      "text/plain": [
       "2-element Array{Int64,1}:\n",
       "  1\n",
       " 97"
      ]
     },
     "execution_count": 19,
     "metadata": {},
     "output_type": "execute_result"
    }
   ],
   "source": [
    "lll = [1, 'a']"
   ]
  },
  {
   "cell_type": "code",
   "execution_count": 20,
   "metadata": {
    "collapsed": false
   },
   "outputs": [
    {
     "data": {
      "text/plain": [
       "\"2\""
      ]
     },
     "execution_count": 20,
     "metadata": {},
     "output_type": "execute_result"
    }
   ],
   "source": [
    "l[2]"
   ]
  },
  {
   "cell_type": "code",
   "execution_count": 21,
   "metadata": {
    "collapsed": false
   },
   "outputs": [
    {
     "data": {
      "text/plain": [
       "Array{Any,1}"
      ]
     },
     "execution_count": 21,
     "metadata": {},
     "output_type": "execute_result"
    }
   ],
   "source": [
    "typeof(l)"
   ]
  },
  {
   "cell_type": "code",
   "execution_count": 22,
   "metadata": {
    "collapsed": false
   },
   "outputs": [
    {
     "data": {
      "text/plain": [
       "4-element Array{Int64,1}:\n",
       " 1\n",
       " 2\n",
       " 3\n",
       " 4"
      ]
     },
     "execution_count": 22,
     "metadata": {},
     "output_type": "execute_result"
    }
   ],
   "source": [
    "ll = [[1, 2]; [3, 4]]"
   ]
  },
  {
   "cell_type": "code",
   "execution_count": 23,
   "metadata": {
    "collapsed": false
   },
   "outputs": [
    {
     "data": {
      "text/plain": [
       "([1,2,3,4],2,2)"
      ]
     },
     "execution_count": 23,
     "metadata": {},
     "output_type": "execute_result"
    }
   ],
   "source": [
    "(ll, 2, 2)"
   ]
  },
  {
   "cell_type": "code",
   "execution_count": 24,
   "metadata": {
    "collapsed": false
   },
   "outputs": [
    {
     "data": {
      "text/plain": [
       "4-element Array{Int64,1}:\n",
       " 1\n",
       " 2\n",
       " 3\n",
       " 4"
      ]
     },
     "execution_count": 24,
     "metadata": {},
     "output_type": "execute_result"
    }
   ],
   "source": [
    "ll"
   ]
  },
  {
   "cell_type": "code",
   "execution_count": 25,
   "metadata": {
    "collapsed": false
   },
   "outputs": [
    {
     "data": {
      "text/html": [
       "22 methods for generic function <b>push!</b>:<ul><li> push!(a::<b>Array{Any,1}</b>,item) at <a href=\"https://github.com/JuliaLang/julia/tree/0c24dca65c031820b91721139f0291068086955c/base/array.jl#L467\" target=\"_blank\">array.jl:467</a><li> push!<i>{T}</i>(a::<b>Array{T,1}</b>,item) at <a href=\"https://github.com/JuliaLang/julia/tree/0c24dca65c031820b91721139f0291068086955c/base/array.jl#L456\" target=\"_blank\">array.jl:456</a><li> push!(B::<b>BitArray{1}</b>,item) at <a href=\"https://github.com/JuliaLang/julia/tree/0c24dca65c031820b91721139f0291068086955c/base/bitarray.jl#L454\" target=\"_blank\">bitarray.jl:454</a><li> push!(s::<b>IntSet</b>,n::<b>Integer</b>) at <a href=\"https://github.com/JuliaLang/julia/tree/0c24dca65c031820b91721139f0291068086955c/base/intset.jl#L32\" target=\"_blank\">intset.jl:32</a><li> push!(::<b>EnvHash</b>,k::<b>String</b>,v) at <a href=\"https://github.com/JuliaLang/julia/tree/0c24dca65c031820b91721139f0291068086955c/base/env.jl#L114\" target=\"_blank\">env.jl:114</a><li> push!(t::<b>Associative{K,V}</b>,key,v) at <a href=\"https://github.com/JuliaLang/julia/tree/0c24dca65c031820b91721139f0291068086955c/base/dict.jl#L241\" target=\"_blank\">dict.jl:241</a><li> push!(s::<b>Set{T}</b>,x) at <a href=\"https://github.com/JuliaLang/julia/tree/0c24dca65c031820b91721139f0291068086955c/base/set.jl#L18\" target=\"_blank\">set.jl:18</a><li> push!<i>{T}</i>(q::<b>Deque{T}</b>,x) at <a href=\"https://github.com/JuliaLang/DataStructures.jl/tree/d5308421daea7370a60d3e2718e1b3fc5fe47f50/src/deque.jl#L189\" target=\"_blank\">/Users/DboyLiao/.julia/v0.3/DataStructures/src/deque.jl:189</a><li> push!(s::<b>Stack{S}</b>,x) at <a href=\"https://github.com/JuliaLang/DataStructures.jl/tree/d5308421daea7370a60d3e2718e1b3fc5fe47f50/src/stack.jl#L16\" target=\"_blank\">/Users/DboyLiao/.julia/v0.3/DataStructures/src/stack.jl:16</a><li> push!<i>{T,V<:Number,V2<:Number}</i>(ct::<b>Accumulator{T,V<:Number}</b>,r::<b>Accumulator{T,V2<:Number}</b>) at <a href=\"https://github.com/JuliaLang/DataStructures.jl/tree/d5308421daea7370a60d3e2718e1b3fc5fe47f50/src/accumulator.jl#L50\" target=\"_blank\">/Users/DboyLiao/.julia/v0.3/DataStructures/src/accumulator.jl:50</a><li> push!<i>{T,V<:Number}</i>(ct::<b>Accumulator{T,V<:Number}</b>,x::<b>T</b>,a::<b>V<:Number</b>) at <a href=\"https://github.com/JuliaLang/DataStructures.jl/tree/d5308421daea7370a60d3e2718e1b3fc5fe47f50/src/accumulator.jl#L45\" target=\"_blank\">/Users/DboyLiao/.julia/v0.3/DataStructures/src/accumulator.jl:45</a><li> push!<i>{T,V<:Number,V2<:Number}</i>(ct::<b>Accumulator{T,V<:Number}</b>,x::<b>T</b>,a::<b>V2<:Number</b>) at <a href=\"https://github.com/JuliaLang/DataStructures.jl/tree/d5308421daea7370a60d3e2718e1b3fc5fe47f50/src/accumulator.jl#L46\" target=\"_blank\">/Users/DboyLiao/.julia/v0.3/DataStructures/src/accumulator.jl:46</a><li> push!<i>{T,V<:Number}</i>(ct::<b>Accumulator{T,V<:Number}</b>,x::<b>T</b>) at <a href=\"https://github.com/JuliaLang/DataStructures.jl/tree/d5308421daea7370a60d3e2718e1b3fc5fe47f50/src/accumulator.jl#L47\" target=\"_blank\">/Users/DboyLiao/.julia/v0.3/DataStructures/src/accumulator.jl:47</a><li> push!<i>{K,C}</i>(cc::<b>ClassifiedCollections{K,C}</b>,key::<b>K</b>,e) at <a href=\"https://github.com/JuliaLang/DataStructures.jl/tree/d5308421daea7370a60d3e2718e1b3fc5fe47f50/src/classifiedcollections.jl#L44\" target=\"_blank\">/Users/DboyLiao/.julia/v0.3/DataStructures/src/classifiedcollections.jl:44</a><li> push!(s::<b>IntDisjointSets</b>) at <a href=\"https://github.com/JuliaLang/DataStructures.jl/tree/d5308421daea7370a60d3e2718e1b3fc5fe47f50/src/disjoint_set.jl#L82\" target=\"_blank\">/Users/DboyLiao/.julia/v0.3/DataStructures/src/disjoint_set.jl:82</a><li> push!<i>{T}</i>(s::<b>DisjointSets{T}</b>,x::<b>T</b>) at <a href=\"https://github.com/JuliaLang/DataStructures.jl/tree/d5308421daea7370a60d3e2718e1b3fc5fe47f50/src/disjoint_set.jl#L127\" target=\"_blank\">/Users/DboyLiao/.julia/v0.3/DataStructures/src/disjoint_set.jl:127</a><li> push!<i>{T}</i>(h::<b>BinaryHeap{T,Comp}</b>,v::<b>T</b>) at <a href=\"https://github.com/JuliaLang/DataStructures.jl/tree/d5308421daea7370a60d3e2718e1b3fc5fe47f50/src/heaps/binary_heap.jl#L138\" target=\"_blank\">/Users/DboyLiao/.julia/v0.3/DataStructures/src/heaps/binary_heap.jl:138</a><li> push!<i>{T}</i>(h::<b>MutableBinaryHeap{T,Comp}</b>,v::<b>T</b>) at <a href=\"https://github.com/JuliaLang/DataStructures.jl/tree/d5308421daea7370a60d3e2718e1b3fc5fe47f50/src/heaps/mutable_binary_heap.jl#L201\" target=\"_blank\">/Users/DboyLiao/.julia/v0.3/DataStructures/src/heaps/mutable_binary_heap.jl:201</a><li> push!(s::<b>OrderedSet{T}</b>,x) at <a href=\"https://github.com/JuliaLang/DataStructures.jl/tree/d5308421daea7370a60d3e2718e1b3fc5fe47f50/src/orderedset.jl#L26\" target=\"_blank\">/Users/DboyLiao/.julia/v0.3/DataStructures/src/orderedset.jl:26</a><li> push!(A) at <a href=\"https://github.com/JuliaLang/julia/tree/0c24dca65c031820b91721139f0291068086955c/base/abstractarray.jl#L1394\" target=\"_blank\">abstractarray.jl:1394</a><li> push!(A,a,b) at <a href=\"https://github.com/JuliaLang/julia/tree/0c24dca65c031820b91721139f0291068086955c/base/abstractarray.jl#L1395\" target=\"_blank\">abstractarray.jl:1395</a><li> push!(A,a,b,c...) at <a href=\"https://github.com/JuliaLang/julia/tree/0c24dca65c031820b91721139f0291068086955c/base/abstractarray.jl#L1396\" target=\"_blank\">abstractarray.jl:1396</a></ul>"
      ],
      "text/plain": [
       "# 22 methods for generic function \"push!\":\n",
       "push!(a::Array{Any,1},item) at array.jl:467\n",
       "push!{T}(a::Array{T,1},item) at array.jl:456\n",
       "push!(B::BitArray{1},item) at bitarray.jl:454\n",
       "push!(s::IntSet,n::Integer) at intset.jl:32\n",
       "push!(::EnvHash,k::String,v) at env.jl:114\n",
       "push!(t::Associative{K,V},key,v) at dict.jl:241\n",
       "push!(s::Set{T},x) at set.jl:18\n",
       "push!{T}(q::Deque{T},x) at /Users/DboyLiao/.julia/v0.3/DataStructures/src/deque.jl:189\n",
       "push!(s::Stack{S},x) at /Users/DboyLiao/.julia/v0.3/DataStructures/src/stack.jl:16\n",
       "push!{T,V<:Number,V2<:Number}(ct::Accumulator{T,V<:Number},r::Accumulator{T,V2<:Number}) at /Users/DboyLiao/.julia/v0.3/DataStructures/src/accumulator.jl:50\n",
       "push!{T,V<:Number}(ct::Accumulator{T,V<:Number},x::T,a::V<:Number) at /Users/DboyLiao/.julia/v0.3/DataStructures/src/accumulator.jl:45\n",
       "push!{T,V<:Number,V2<:Number}(ct::Accumulator{T,V<:Number},x::T,a::V2<:Number) at /Users/DboyLiao/.julia/v0.3/DataStructures/src/accumulator.jl:46\n",
       "push!{T,V<:Number}(ct::Accumulator{T,V<:Number},x::T) at /Users/DboyLiao/.julia/v0.3/DataStructures/src/accumulator.jl:47\n",
       "push!{K,C}(cc::ClassifiedCollections{K,C},key::K,e) at /Users/DboyLiao/.julia/v0.3/DataStructures/src/classifiedcollections.jl:44\n",
       "push!(s::IntDisjointSets) at /Users/DboyLiao/.julia/v0.3/DataStructures/src/disjoint_set.jl:82\n",
       "push!{T}(s::DisjointSets{T},x::T) at /Users/DboyLiao/.julia/v0.3/DataStructures/src/disjoint_set.jl:127\n",
       "push!{T}(h::BinaryHeap{T,Comp},v::T) at /Users/DboyLiao/.julia/v0.3/DataStructures/src/heaps/binary_heap.jl:138\n",
       "push!{T}(h::MutableBinaryHeap{T,Comp},v::T) at /Users/DboyLiao/.julia/v0.3/DataStructures/src/heaps/mutable_binary_heap.jl:201\n",
       "push!(s::OrderedSet{T},x) at /Users/DboyLiao/.julia/v0.3/DataStructures/src/orderedset.jl:26\n",
       "push!(A) at abstractarray.jl:1394\n",
       "push!(A,a,b) at abstractarray.jl:1395\n",
       "push!(A,a,b,c...) at abstractarray.jl:1396"
      ]
     },
     "execution_count": 25,
     "metadata": {},
     "output_type": "execute_result"
    }
   ],
   "source": [
    "methods(push!)"
   ]
  },
  {
   "cell_type": "code",
   "execution_count": 26,
   "metadata": {
    "collapsed": false
   },
   "outputs": [
    {
     "data": {
      "text/html": [
       "103-element Array{Method,1}:<ul><li> Message(a::<b>Array{T,N}</b>) at <a href=\"https://github.com/JuliaLang/ZMQ.jl/tree/e5038a7bdb9fdbd336a4dca0492cc4f52b88fda5/src/ZMQ.jl#L406\" target=\"_blank\">/Users/DboyLiao/.julia/v0.3/ZMQ/src/ZMQ.jl:406</a><li> sub<i>{T,N}</i>(A::<b>Array{T,N}</b>,i::<b>(Range{Int64},)</b>) at <a href=\"https://github.com/JuliaLang/julia/tree/0c24dca65c031820b91721139f0291068086955c/base/subarray.jl#L52\" target=\"_blank\">subarray.jl:52</a><li> repeat<i>{T}</i>(A::<b>Array{T,N}</b>) at <a href=\"https://github.com/JuliaLang/julia/tree/0c24dca65c031820b91721139f0291068086955c/base/abstractarray.jl#L1092\" target=\"_blank\">abstractarray.jl:1092</a><li> read<i>{T,N}</i>(t::<b>UnixTerminal</b>,x::<b>Array{T,N}</b>) at <a href=\"https://github.com/JuliaLang/julia/tree/0c24dca65c031820b91721139f0291068086955c/base/Terminals.jl#L189\" target=\"_blank\">Terminals.jl:189</a><li> read(from::<b>IOBuffer</b>,a::<b>Array{T,N}</b>) at <a href=\"https://github.com/JuliaLang/julia/tree/0c24dca65c031820b91721139f0291068086955c/base/deprecated.jl#L26\" target=\"_blank\">deprecated.jl:26</a><li> read(s::<b>IOStream</b>,a::<b>Array{T,N}</b>) at <a href=\"https://github.com/JuliaLang/julia/tree/0c24dca65c031820b91721139f0291068086955c/base/deprecated.jl#L26\" target=\"_blank\">deprecated.jl:26</a><li> read(this::<b>AsyncStream</b>,a::<b>Array{T,N}</b>) at <a href=\"https://github.com/JuliaLang/julia/tree/0c24dca65c031820b91721139f0291068086955c/base/deprecated.jl#L26\" target=\"_blank\">deprecated.jl:26</a><li> read(f::<b>File</b>,a::<b>Array{T,N}</b>,nel) at <a href=\"https://github.com/JuliaLang/julia/tree/0c24dca65c031820b91721139f0291068086955c/base/deprecated.jl#L26\" target=\"_blank\">deprecated.jl:26</a><li> read(f::<b>File</b>,a::<b>Array{T,N}</b>) at <a href=\"https://github.com/JuliaLang/julia/tree/0c24dca65c031820b91721139f0291068086955c/base/deprecated.jl#L26\" target=\"_blank\">deprecated.jl:26</a><li> read(s::<b>IO</b>,a::<b>Array{T,N}</b>) at <a href=\"https://github.com/JuliaLang/julia/tree/0c24dca65c031820b91721139f0291068086955c/base/deprecated.jl#L26\" target=\"_blank\">deprecated.jl:26</a><li> reshape<i>{T,N}</i>(a::<b>Array{T,N}</b>,dims::<b>NTuple{N,Int64}</b>) at <a href=\"https://github.com/JuliaLang/julia/tree/0c24dca65c031820b91721139f0291068086955c/base/array.jl#L88\" target=\"_blank\">array.jl:88</a><li> reshape<i>{T,N}</i>(a::<b>Array{T,N}</b>,dims::<b>NTuple{N,Int64}</b>) at <a href=\"https://github.com/JuliaLang/julia/tree/0c24dca65c031820b91721139f0291068086955c/base/array.jl#L99\" target=\"_blank\">array.jl:99</a><li> size(a::<b>Array{T,N}</b>) at <a href=\"https://github.com/JuliaLang/julia/tree/0c24dca65c031820b91721139f0291068086955c/base/array.jl#L18\" target=\"_blank\">array.jl:18</a><li> size(a::<b>Array{T,N}</b>,d) at <a href=\"https://github.com/JuliaLang/julia/tree/0c24dca65c031820b91721139f0291068086955c/base/array.jl#L19\" target=\"_blank\">array.jl:19</a><li> reinterpret<i>{T,S}</i>(::<b>Type{T}</b>,a::<b>Array{S,N}</b>) at <a href=\"https://github.com/JuliaLang/julia/tree/0c24dca65c031820b91721139f0291068086955c/base/array.jl#L66\" target=\"_blank\">array.jl:66</a><li> reinterpret<i>{T,S,N}</i>(::<b>Type{T}</b>,a::<b>Array{S,N}</b>,dims::<b>NTuple{N,Int64}</b>) at <a href=\"https://github.com/JuliaLang/julia/tree/0c24dca65c031820b91721139f0291068086955c/base/array.jl#L73\" target=\"_blank\">array.jl:73</a><li> convert(::<b>Type{Ptr{None}}</b>,a::<b>Array{T,N}</b>) at <a href=\"https://github.com/JuliaLang/julia/tree/0c24dca65c031820b91721139f0291068086955c/base/pointer.jl#L23\" target=\"_blank\">pointer.jl:23</a><li> convert<i>{T}</i>(::<b>Type{Ptr{T}}</b>,a::<b>Array{T,N}</b>) at <a href=\"https://github.com/JuliaLang/julia/tree/0c24dca65c031820b91721139f0291068086955c/base/pointer.jl#L22\" target=\"_blank\">pointer.jl:22</a><li> convert<i>{T,n}</i>(::<b>Type{Array{T,n}}</b>,x::<b>Array{T,n}</b>) at <a href=\"https://github.com/JuliaLang/julia/tree/0c24dca65c031820b91721139f0291068086955c/base/array.jl#L218\" target=\"_blank\">array.jl:218</a><li> convert<i>{T,n,S}</i>(::<b>Type{Array{T,n}}</b>,x::<b>Array{S,n}</b>) at <a href=\"https://github.com/JuliaLang/julia/tree/0c24dca65c031820b91721139f0291068086955c/base/array.jl#L220\" target=\"_blank\">array.jl:220</a><li> convert<i>{T,n}</i>(::<b>Type{Array{T,N}}</b>,x::<b>Array{T,n}</b>) at <a href=\"https://github.com/JuliaLang/julia/tree/0c24dca65c031820b91721139f0291068086955c/base/array.jl#L217\" target=\"_blank\">array.jl:217</a><li> convert<i>{T,n,S}</i>(::<b>Type{Array{T,N}}</b>,x::<b>Array{S,n}</b>) at <a href=\"https://github.com/JuliaLang/julia/tree/0c24dca65c031820b91721139f0291068086955c/base/array.jl#L219\" target=\"_blank\">array.jl:219</a><li> convert<i>{TS,TA,N}</i>(::<b>Type{SharedArray{TS,N}}</b>,A::<b>Array{TA,N}</b>) at <a href=\"https://github.com/JuliaLang/julia/tree/0c24dca65c031820b91721139f0291068086955c/base/sharedarray.jl#L142\" target=\"_blank\">sharedarray.jl:142</a><li> convert<i>{T}</i>(::<b>Type{SharedArray{T,N}}</b>,A::<b>Array{T,N}</b>) at <a href=\"https://github.com/JuliaLang/julia/tree/0c24dca65c031820b91721139f0291068086955c/base/sharedarray.jl#L141\" target=\"_blank\">sharedarray.jl:141</a><li> convert(::<b>Type{SharedArray{T,N}}</b>,A::<b>Array{T,N}</b>) at <a href=\"https://github.com/JuliaLang/julia/tree/0c24dca65c031820b91721139f0291068086955c/base/sharedarray.jl#L140\" target=\"_blank\">sharedarray.jl:140</a><li> convert<i>{T}</i>(p::<b>Type{Ptr{T}}</b>,a::<b>Array{T,N}</b>) at <a href=\"https://github.com/JuliaLang/julia/tree/0c24dca65c031820b91721139f0291068086955c/base/deprecated.jl#L26\" target=\"_blank\">deprecated.jl:26</a><li> getindex(a::<b>Array{T,N}</b>) at <a href=\"https://github.com/JuliaLang/julia/tree/0c24dca65c031820b91721139f0291068086955c/base/array.jl#L244\" target=\"_blank\">array.jl:244</a><li> getindex(A::<b>Array{T,N}</b>,i0::<b>Real</b>) at <a href=\"https://github.com/JuliaLang/julia/tree/0c24dca65c031820b91721139f0291068086955c/base/array.jl#L246\" target=\"_blank\">array.jl:246</a><li> getindex(A::<b>Array{T,N}</b>,i0::<b>Real</b>,i1::<b>Real</b>) at <a href=\"https://github.com/JuliaLang/julia/tree/0c24dca65c031820b91721139f0291068086955c/base/array.jl#L247\" target=\"_blank\">array.jl:247</a><li> getindex(A::<b>Array{T,N}</b>,i0::<b>Real</b>,i1::<b>Real</b>,i2::<b>Real</b>) at <a href=\"https://github.com/JuliaLang/julia/tree/0c24dca65c031820b91721139f0291068086955c/base/array.jl#L248\" target=\"_blank\">array.jl:248</a><li> getindex(A::<b>Array{T,N}</b>,i0::<b>Real</b>,i1::<b>Real</b>,i2::<b>Real</b>,i3::<b>Real</b>) at <a href=\"https://github.com/JuliaLang/julia/tree/0c24dca65c031820b91721139f0291068086955c/base/array.jl#L250\" target=\"_blank\">array.jl:250</a><li> getindex(A::<b>Array{T,N}</b>,i0::<b>Real</b>,i1::<b>Real</b>,i2::<b>Real</b>,i3::<b>Real</b>,i4::<b>Real</b>) at <a href=\"https://github.com/JuliaLang/julia/tree/0c24dca65c031820b91721139f0291068086955c/base/array.jl#L252\" target=\"_blank\">array.jl:252</a><li> getindex(A::<b>Array{T,N}</b>,i0::<b>Real</b>,i1::<b>Real</b>,i2::<b>Real</b>,i3::<b>Real</b>,i4::<b>Real</b>,i5::<b>Real</b>) at <a href=\"https://github.com/JuliaLang/julia/tree/0c24dca65c031820b91721139f0291068086955c/base/array.jl#L254\" target=\"_blank\">array.jl:254</a><li> getindex(A::<b>Array{T,N}</b>,i0::<b>Real</b>,i1::<b>Real</b>,i2::<b>Real</b>,i3::<b>Real</b>,i4::<b>Real</b>,i5::<b>Real</b>,I::<b>Real...</b>) at <a href=\"https://github.com/JuliaLang/julia/tree/0c24dca65c031820b91721139f0291068086955c/base/array.jl#L257\" target=\"_blank\">array.jl:257</a><li> getindex(A::<b>Array{T,N}</b>,I::<b>UnitRange{Int64}</b>) at <a href=\"https://github.com/JuliaLang/julia/tree/0c24dca65c031820b91721139f0291068086955c/base/array.jl#L262\" target=\"_blank\">array.jl:262</a><li> getindex(A::<b>Array{T,N}</b>,I::<b>AbstractArray{Bool,1}</b>) at <a href=\"https://github.com/JuliaLang/julia/tree/0c24dca65c031820b91721139f0291068086955c/base/array.jl#L300\" target=\"_blank\">array.jl:300</a><li> getindex<i>{T<:Real}</i>(A::<b>Array{T,N}</b>,I::<b>AbstractArray{T<:Real,1}</b>) at <a href=\"https://github.com/JuliaLang/julia/tree/0c24dca65c031820b91721139f0291068086955c/base/array.jl#L271\" target=\"_blank\">array.jl:271</a><li> getindex(A::<b>Array{T,N}</b>,I::<b>AbstractArray{Bool,N}</b>) at <a href=\"https://github.com/JuliaLang/julia/tree/0c24dca65c031820b91721139f0291068086955c/base/array.jl#L301\" target=\"_blank\">array.jl:301</a><li> getindex(A::<b>Array{T,N}</b>,I_1::<b>Union(Real,AbstractArray{T,1})</b>) at <a href=\"https://github.com/JuliaLang/julia/tree/0c24dca65c031820b91721139f0291068086955c/base/multidimensional.jl#L49\" target=\"_blank\">multidimensional.jl:49</a><li> getindex(A::<b>Array{T,N}</b>,I_1::<b>Union(Real,AbstractArray{T,1})</b>,I_2::<b>Union(Real,AbstractArray{T,1})</b>) at <a href=\"https://github.com/JuliaLang/julia/tree/0c24dca65c031820b91721139f0291068086955c/base/multidimensional.jl#L49\" target=\"_blank\">multidimensional.jl:49</a><li> getindex(A::<b>Array{T,N}</b>,I_1::<b>Union(Real,AbstractArray{T,1})</b>,I_2::<b>Union(Real,AbstractArray{T,1})</b>,I_3::<b>Union(Real,AbstractArray{T,1})</b>) at <a href=\"https://github.com/JuliaLang/julia/tree/0c24dca65c031820b91721139f0291068086955c/base/multidimensional.jl#L49\" target=\"_blank\">multidimensional.jl:49</a><li> getindex(A::<b>Array{T,N}</b>,I_1::<b>Union(Real,AbstractArray{T,1})</b>,I_2::<b>Union(Real,AbstractArray{T,1})</b>,I_3::<b>Union(Real,AbstractArray{T,1})</b>,I_4::<b>Union(Real,AbstractArray{T,1})</b>) at <a href=\"https://github.com/JuliaLang/julia/tree/0c24dca65c031820b91721139f0291068086955c/base/multidimensional.jl#L49\" target=\"_blank\">multidimensional.jl:49</a><li> getindex(A::<b>Array{T,N}</b>,I::<b>Union(Real,AbstractArray{T,1})...</b>) at <a href=\"https://github.com/JuliaLang/julia/tree/0c24dca65c031820b91721139f0291068086955c/base/multidimensional.jl#L49\" target=\"_blank\">multidimensional.jl:49</a><li> .\\(A::<b>SparseMatrixCSC{Tv,Ti<:Integer}</b>,B::<b>Array{T,N}</b>) at <a href=\"https://github.com/JuliaLang/julia/tree/0c24dca65c031820b91721139f0291068086955c/base/sparse/sparsematrix.jl#L654\" target=\"_blank\">sparse/sparsematrix.jl:654</a><li> .\\(A::<b>Array{T,N}</b>,B::<b>SparseMatrixCSC{Tv,Ti<:Integer}</b>) at <a href=\"https://github.com/JuliaLang/julia/tree/0c24dca65c031820b91721139f0291068086955c/base/sparse/sparsematrix.jl#L655\" target=\"_blank\">sparse/sparsematrix.jl:655</a><li> unsafe_copy!<i>{T}</i>(dest::<b>Array{T,N}</b>,dsto,src::<b>Array{T,N}</b>,so,N) at <a href=\"https://github.com/JuliaLang/julia/tree/0c24dca65c031820b91721139f0291068086955c/base/array.jl#L40\" target=\"_blank\">array.jl:40</a><li> .^(A::<b>SparseMatrixCSC{Tv,Ti<:Integer}</b>,B::<b>Array{T,N}</b>) at <a href=\"https://github.com/JuliaLang/julia/tree/0c24dca65c031820b91721139f0291068086955c/base/sparse/sparsematrix.jl#L662\" target=\"_blank\">sparse/sparsematrix.jl:662</a><li> .^(A::<b>Array{T,N}</b>,B::<b>SparseMatrixCSC{Tv,Ti<:Integer}</b>) at <a href=\"https://github.com/JuliaLang/julia/tree/0c24dca65c031820b91721139f0291068086955c/base/sparse/sparsematrix.jl#L663\" target=\"_blank\">sparse/sparsematrix.jl:663</a><li> similar(a::<b>Array{T,N}</b>,T,dims::<b>(Int64...,)</b>) at <a href=\"https://github.com/JuliaLang/julia/tree/0c24dca65c031820b91721139f0291068086955c/base/array.jl#L107\" target=\"_blank\">array.jl:107</a><li> slicedim(A::<b>Array{T,N}</b>,d::<b>Integer</b>,i::<b>Integer</b>) at <a href=\"https://github.com/JuliaLang/julia/tree/0c24dca65c031820b91721139f0291068086955c/base/array.jl#L846\" target=\"_blank\">array.jl:846</a><li> write(to::<b>IOBuffer</b>,a::<b>Array{T,N}</b>) at <a href=\"https://github.com/JuliaLang/julia/tree/0c24dca65c031820b91721139f0291068086955c/base/iobuffer.jl#L262\" target=\"_blank\">iobuffer.jl:262</a><li> write<i>{T}</i>(s::<b>IOStream</b>,a::<b>Array{T,N}</b>) at <a href=\"https://github.com/JuliaLang/julia/tree/0c24dca65c031820b91721139f0291068086955c/base/iostream.jl#L148\" target=\"_blank\">iostream.jl:148</a><li> write<i>{T}</i>(s::<b>AsyncStream</b>,a::<b>Array{T,N}</b>) at <a href=\"https://github.com/JuliaLang/julia/tree/0c24dca65c031820b91721139f0291068086955c/base/stream.jl#L782\" target=\"_blank\">stream.jl:782</a><li> write<i>{T}</i>(f::<b>File</b>,a::<b>Array{T,N}</b>) at <a href=\"https://github.com/JuliaLang/julia/tree/0c24dca65c031820b91721139f0291068086955c/base/fs.jl#L189\" target=\"_blank\">fs.jl:189</a><li> write<i>{T,N}</i>(t::<b>UnixTerminal</b>,a::<b>Array{T,N}</b>) at <a href=\"https://github.com/JuliaLang/julia/tree/0c24dca65c031820b91721139f0291068086955c/base/Terminals.jl#L185\" target=\"_blank\">Terminals.jl:185</a><li> read!(from::<b>IOBuffer</b>,a::<b>Array{T,N}</b>) at <a href=\"https://github.com/JuliaLang/julia/tree/0c24dca65c031820b91721139f0291068086955c/base/iobuffer.jl#L55\" target=\"_blank\">iobuffer.jl:55</a><li> read!<i>{T}</i>(s::<b>IOStream</b>,a::<b>Array{T,N}</b>) at <a href=\"https://github.com/JuliaLang/julia/tree/0c24dca65c031820b91721139f0291068086955c/base/iostream.jl#L192\" target=\"_blank\">iostream.jl:192</a><li> read!<i>{T}</i>(s::<b>AsyncStream</b>,a::<b>Array{T,N}</b>) at <a href=\"https://github.com/JuliaLang/julia/tree/0c24dca65c031820b91721139f0291068086955c/base/stream.jl#L657\" target=\"_blank\">stream.jl:657</a><li> read!<i>{T}</i>(f::<b>File</b>,a::<b>Array{T,N}</b>) at <a href=\"https://github.com/JuliaLang/julia/tree/0c24dca65c031820b91721139f0291068086955c/base/fs.jl#L215\" target=\"_blank\">fs.jl:215</a><li> read!<i>{T}</i>(f::<b>File</b>,a::<b>Array{T,N}</b>,nel) at <a href=\"https://github.com/JuliaLang/julia/tree/0c24dca65c031820b91721139f0291068086955c/base/fs.jl#L215\" target=\"_blank\">fs.jl:215</a><li> read!<i>{T}</i>(s::<b>IO</b>,a::<b>Array{T,N}</b>) at <a href=\"https://github.com/JuliaLang/julia/tree/0c24dca65c031820b91721139f0291068086955c/base/io.jl#L126\" target=\"_blank\">io.jl:126</a><li> .*(A::<b>SparseMatrixCSC{Tv,Ti<:Integer}</b>,B::<b>Array{T,N}</b>) at <a href=\"https://github.com/JuliaLang/julia/tree/0c24dca65c031820b91721139f0291068086955c/base/sparse/sparsematrix.jl#L643\" target=\"_blank\">sparse/sparsematrix.jl:643</a><li> .*(A::<b>Array{T,N}</b>,B::<b>SparseMatrixCSC{Tv,Ti<:Integer}</b>) at <a href=\"https://github.com/JuliaLang/julia/tree/0c24dca65c031820b91721139f0291068086955c/base/sparse/sparsematrix.jl#L644\" target=\"_blank\">sparse/sparsematrix.jl:644</a><li> +(A::<b>SparseMatrixCSC{Tv,Ti<:Integer}</b>,B::<b>Array{T,N}</b>) at <a href=\"https://github.com/JuliaLang/julia/tree/0c24dca65c031820b91721139f0291068086955c/base/sparse/sparsematrix.jl#L632\" target=\"_blank\">sparse/sparsematrix.jl:632</a><li> +(A::<b>Array{T,N}</b>,B::<b>SparseMatrixCSC{Tv,Ti<:Integer}</b>) at <a href=\"https://github.com/JuliaLang/julia/tree/0c24dca65c031820b91721139f0291068086955c/base/sparse/sparsematrix.jl#L634\" target=\"_blank\">sparse/sparsematrix.jl:634</a><li> msync<i>{T}</i>(A::<b>Array{T,N}</b>) at <a href=\"https://github.com/JuliaLang/julia/tree/0c24dca65c031820b91721139f0291068086955c/base/mmap.jl#L6\" target=\"_blank\">mmap.jl:6</a><li> flipdim<i>{T}</i>(A::<b>Array{T,N}</b>,d::<b>Integer</b>) at <a href=\"https://github.com/JuliaLang/julia/tree/0c24dca65c031820b91721139f0291068086955c/base/array.jl#L877\" target=\"_blank\">array.jl:877</a><li> ./(A::<b>SparseMatrixCSC{Tv,Ti<:Integer}</b>,B::<b>Array{T,N}</b>) at <a href=\"https://github.com/JuliaLang/julia/tree/0c24dca65c031820b91721139f0291068086955c/base/sparse/sparsematrix.jl#L648\" target=\"_blank\">sparse/sparsematrix.jl:648</a><li> ./(A::<b>Array{T,N}</b>,B::<b>SparseMatrixCSC{Tv,Ti<:Integer}</b>) at <a href=\"https://github.com/JuliaLang/julia/tree/0c24dca65c031820b91721139f0291068086955c/base/sparse/sparsematrix.jl#L649\" target=\"_blank\">sparse/sparsematrix.jl:649</a><li> rand!<i>{T}</i>(A::<b>Array{T,N}</b>) at <a href=\"https://github.com/JuliaLang/julia/tree/0c24dca65c031820b91721139f0291068086955c/base/random.jl#L129\" target=\"_blank\">random.jl:129</a><li> length(a::<b>Array{T,N}</b>) at <a href=\"https://github.com/JuliaLang/julia/tree/0c24dca65c031820b91721139f0291068086955c/base/array.jl#L21\" target=\"_blank\">array.jl:21</a><li> copy!<i>{T}</i>(dest::<b>Array{T,N}</b>,dsto::<b>Integer</b>,src::<b>Array{T,N}</b>,so::<b>Integer</b>,N::<b>Integer</b>) at <a href=\"https://github.com/JuliaLang/julia/tree/0c24dca65c031820b91721139f0291068086955c/base/array.jl#L51\" target=\"_blank\">array.jl:51</a><li> copy!<i>{T}</i>(dest::<b>Array{T,N}</b>,src::<b>Array{T,N}</b>) at <a href=\"https://github.com/JuliaLang/julia/tree/0c24dca65c031820b91721139f0291068086955c/base/array.jl#L57\" target=\"_blank\">array.jl:57</a><li> copy!(S::<b>SharedArray{T,N}</b>,A::<b>Array{T,N}</b>) at <a href=\"https://github.com/JuliaLang/julia/tree/0c24dca65c031820b91721139f0291068086955c/base/sharedarray.jl#L290\" target=\"_blank\">sharedarray.jl:290</a><li> sizeof(a::<b>Array{T,N}</b>) at <a href=\"https://github.com/JuliaLang/julia/tree/0c24dca65c031820b91721139f0291068086955c/base/array.jl#L23\" target=\"_blank\">array.jl:23</a><li> -(A::<b>Array{T,N}</b>,B::<b>SparseMatrixCSC{Tv,Ti<:Integer}</b>) at <a href=\"https://github.com/JuliaLang/julia/tree/0c24dca65c031820b91721139f0291068086955c/base/sparse/sparsematrix.jl#L639\" target=\"_blank\">sparse/sparsematrix.jl:639</a><li> -(A::<b>SparseMatrixCSC{Tv,Ti<:Integer}</b>,B::<b>Array{T,N}</b>) at <a href=\"https://github.com/JuliaLang/julia/tree/0c24dca65c031820b91721139f0291068086955c/base/sparse/sparsematrix.jl#L637\" target=\"_blank\">sparse/sparsematrix.jl:637</a><li> setindex!<i>{T}</i>(A::<b>Array{T,N}</b>,X::<b>Array{T,N}</b>,I::<b>UnitRange{Int64}</b>) at <a href=\"https://github.com/JuliaLang/julia/tree/0c24dca65c031820b91721139f0291068086955c/base/array.jl#L329\" target=\"_blank\">array.jl:329</a><li> setindex!(a::<b>Array{T,N}</b>,d::<b>DArray{T,N,A}</b>,I::<b>UnitRange{Int64}...</b>) at <a href=\"https://github.com/JuliaLang/julia/tree/0c24dca65c031820b91721139f0291068086955c/base/darray.jl#L254\" target=\"_blank\">darray.jl:254</a><li> setindex!(a::<b>Array{T,N}</b>,s::<b>SubArray{T,N,D<:DArray{T,N,A},I<:(Union(Range{Int64},Int64)...,)}</b>,I::<b>UnitRange{Int64}...</b>) at <a href=\"https://github.com/JuliaLang/julia/tree/0c24dca65c031820b91721139f0291068086955c/base/darray.jl#L265\" target=\"_blank\">darray.jl:265</a><li> setindex!(a::<b>Array{T,N}</b>,d::<b>Union(SubArray{T,N,D<:DArray{T,N,A},I<:(Union(Range{Int64},Int64)...,)},DArray{T,N,A})</b>,I::<b>Union(Int64,UnitRange{Int64})...</b>) at <a href=\"https://github.com/JuliaLang/julia/tree/0c24dca65c031820b91721139f0291068086955c/base/darray.jl#L296\" target=\"_blank\">darray.jl:296</a><li> setindex!(A::<b>Array{T,N}</b>,X::<b>AbstractArray{T,N}</b>,I::<b>AbstractArray{Bool,1}</b>) at <a href=\"https://github.com/JuliaLang/julia/tree/0c24dca65c031820b91721139f0291068086955c/base/array.jl#L382\" target=\"_blank\">array.jl:382</a><li> setindex!<i>{T<:Real}</i>(A::<b>Array{T,N}</b>,X::<b>AbstractArray{T,N}</b>,I::<b>AbstractArray{T<:Real,1}</b>) at <a href=\"https://github.com/JuliaLang/julia/tree/0c24dca65c031820b91721139f0291068086955c/base/array.jl#L337\" target=\"_blank\">array.jl:337</a><li> setindex!(A::<b>Array{T,N}</b>,x,I::<b>AbstractArray{Bool,1}</b>) at <a href=\"https://github.com/JuliaLang/julia/tree/0c24dca65c031820b91721139f0291068086955c/base/array.jl#L384\" target=\"_blank\">array.jl:384</a><li> setindex!<i>{T<:Real}</i>(A::<b>Array{T,N}</b>,x,I::<b>AbstractArray{T<:Real,1}</b>) at <a href=\"https://github.com/JuliaLang/julia/tree/0c24dca65c031820b91721139f0291068086955c/base/array.jl#L322\" target=\"_blank\">array.jl:322</a><li> setindex!(A::<b>Array{T,N}</b>,X::<b>AbstractArray{T,N}</b>,I::<b>AbstractArray{Bool,N}</b>) at <a href=\"https://github.com/JuliaLang/julia/tree/0c24dca65c031820b91721139f0291068086955c/base/array.jl#L383\" target=\"_blank\">array.jl:383</a><li> setindex!<i>{T}</i>(A::<b>Array{T,N}</b>,x) at <a href=\"https://github.com/JuliaLang/julia/tree/0c24dca65c031820b91721139f0291068086955c/base/array.jl#L305\" target=\"_blank\">array.jl:305</a><li> setindex!<i>{T}</i>(A::<b>Array{T,N}</b>,x,i0::<b>Real</b>) at <a href=\"https://github.com/JuliaLang/julia/tree/0c24dca65c031820b91721139f0291068086955c/base/array.jl#L307\" target=\"_blank\">array.jl:307</a><li> setindex!<i>{T}</i>(A::<b>Array{T,N}</b>,x,i0::<b>Real</b>,i1::<b>Real</b>) at <a href=\"https://github.com/JuliaLang/julia/tree/0c24dca65c031820b91721139f0291068086955c/base/array.jl#L308\" target=\"_blank\">array.jl:308</a><li> setindex!<i>{T}</i>(A::<b>Array{T,N}</b>,x,i0::<b>Real</b>,i1::<b>Real</b>,i2::<b>Real</b>) at <a href=\"https://github.com/JuliaLang/julia/tree/0c24dca65c031820b91721139f0291068086955c/base/array.jl#L310\" target=\"_blank\">array.jl:310</a><li> setindex!<i>{T}</i>(A::<b>Array{T,N}</b>,x,i0::<b>Real</b>,i1::<b>Real</b>,i2::<b>Real</b>,i3::<b>Real</b>) at <a href=\"https://github.com/JuliaLang/julia/tree/0c24dca65c031820b91721139f0291068086955c/base/array.jl#L312\" target=\"_blank\">array.jl:312</a><li> setindex!<i>{T}</i>(A::<b>Array{T,N}</b>,x,i0::<b>Real</b>,i1::<b>Real</b>,i2::<b>Real</b>,i3::<b>Real</b>,i4::<b>Real</b>) at <a href=\"https://github.com/JuliaLang/julia/tree/0c24dca65c031820b91721139f0291068086955c/base/array.jl#L314\" target=\"_blank\">array.jl:314</a><li> setindex!<i>{T}</i>(A::<b>Array{T,N}</b>,x,i0::<b>Real</b>,i1::<b>Real</b>,i2::<b>Real</b>,i3::<b>Real</b>,i4::<b>Real</b>,i5::<b>Real</b>) at <a href=\"https://github.com/JuliaLang/julia/tree/0c24dca65c031820b91721139f0291068086955c/base/array.jl#L316\" target=\"_blank\">array.jl:316</a><li> setindex!<i>{T}</i>(A::<b>Array{T,N}</b>,x,i0::<b>Real</b>,i1::<b>Real</b>,i2::<b>Real</b>,i3::<b>Real</b>,i4::<b>Real</b>,i5::<b>Real</b>,I::<b>Real...</b>) at <a href=\"https://github.com/JuliaLang/julia/tree/0c24dca65c031820b91721139f0291068086955c/base/array.jl#L318\" target=\"_blank\">array.jl:318</a><li> setindex!(A::<b>Array{T,N}</b>,x,I::<b>AbstractArray{Bool,N}</b>) at <a href=\"https://github.com/JuliaLang/julia/tree/0c24dca65c031820b91721139f0291068086955c/base/array.jl#L385\" target=\"_blank\">array.jl:385</a><li> setindex!(A::<b>Array{T,N}</b>,x,J_1::<b>Union(Real,AbstractArray{T,N})</b>) at <a href=\"https://github.com/JuliaLang/julia/tree/0c24dca65c031820b91721139f0291068086955c/base/multidimensional.jl#L61\" target=\"_blank\">multidimensional.jl:61</a><li> setindex!(A::<b>Array{T,N}</b>,x,J_1::<b>Union(Real,AbstractArray{T,N})</b>,J_2::<b>Union(Real,AbstractArray{T,N})</b>) at <a href=\"https://github.com/JuliaLang/julia/tree/0c24dca65c031820b91721139f0291068086955c/base/multidimensional.jl#L61\" target=\"_blank\">multidimensional.jl:61</a><li> setindex!(A::<b>Array{T,N}</b>,x,J_1::<b>Union(Real,AbstractArray{T,N})</b>,J_2::<b>Union(Real,AbstractArray{T,N})</b>,J_3::<b>Union(Real,AbstractArray{T,N})</b>) at <a href=\"https://github.com/JuliaLang/julia/tree/0c24dca65c031820b91721139f0291068086955c/base/multidimensional.jl#L61\" target=\"_blank\">multidimensional.jl:61</a><li> setindex!(A::<b>Array{T,N}</b>,x,J_1::<b>Union(Real,AbstractArray{T,N})</b>,J_2::<b>Union(Real,AbstractArray{T,N})</b>,J_3::<b>Union(Real,AbstractArray{T,N})</b>,J_4::<b>Union(Real,AbstractArray{T,N})</b>) at <a href=\"https://github.com/JuliaLang/julia/tree/0c24dca65c031820b91721139f0291068086955c/base/multidimensional.jl#L61\" target=\"_blank\">multidimensional.jl:61</a><li> setindex!(A::<b>Array{T,N}</b>,x,J::<b>Union(AbstractArray{T,N},Real)...</b>) at <a href=\"https://github.com/JuliaLang/julia/tree/0c24dca65c031820b91721139f0291068086955c/base/cartesian.jl#L100\" target=\"_blank\">cartesian.jl:100</a><li> permutedims!<i>{T,N}</i>(P::<b>Array{T,N}</b>,B::<b>Union(DenseArray{T,N},SubArray{T,N,A<:DenseArray{T,N},I<:(Union(Range{Int64},Int64)...,)})</b>,perm) at <a href=\"https://github.com/JuliaLang/julia/tree/0c24dca65c031820b91721139f0291068086955c/base/cartesian.jl#L100\" target=\"_blank\">cartesian.jl:100</a><li> xdump(fn::<b>Function</b>,io::<b>IO</b>,x::<b>Array{T,N}</b>,n::<b>Int64</b>,indent) at <a href=\"https://github.com/JuliaLang/julia/tree/0c24dca65c031820b91721139f0291068086955c/base/show.jl#L718\" target=\"_blank\">show.jl:718</a><li> serialize(s,a::<b>Array{T,N}</b>) at <a href=\"https://github.com/JuliaLang/julia/tree/0c24dca65c031820b91721139f0291068086955c/base/serialize.jl#L119\" target=\"_blank\">serialize.jl:119</a></ul>"
      ],
      "text/plain": [
       "103-element Array{Method,1}:\n",
       " Message(a::Array{T,N}) at /Users/DboyLiao/.julia/v0.3/ZMQ/src/ZMQ.jl:406                                                                                                                            \n",
       " sub{T,N}(A::Array{T,N},i::(Range{Int64},)) at subarray.jl:52                                                                                                                                        \n",
       " repeat{T}(A::Array{T,N}) at abstractarray.jl:1092                                                                                                                                                   \n",
       " read{T,N}(t::UnixTerminal,x::Array{T,N}) at Terminals.jl:189                                                                                                                                        \n",
       " read(from::IOBuffer,a::Array{T,N}) at deprecated.jl:26                                                                                                                                              \n",
       " read(s::IOStream,a::Array{T,N}) at deprecated.jl:26                                                                                                                                                 \n",
       " read(this::AsyncStream,a::Array{T,N}) at deprecated.jl:26                                                                                                                                           \n",
       " read(f::File,a::Array{T,N},nel) at deprecated.jl:26                                                                                                                                                 \n",
       " read(f::File,a::Array{T,N}) at deprecated.jl:26                                                                                                                                                     \n",
       " read(s::IO,a::Array{T,N}) at deprecated.jl:26                                                                                                                                                       \n",
       " reshape{T,N}(a::Array{T,N},dims::NTuple{N,Int64}) at array.jl:88                                                                                                                                    \n",
       " reshape{T,N}(a::Array{T,N},dims::NTuple{N,Int64}) at array.jl:99                                                                                                                                    \n",
       " size(a::Array{T,N}) at array.jl:18                                                                                                                                                                  \n",
       " ⋮                                                                                                                                                                                                   \n",
       " setindex!{T}(A::Array{T,N},x,i0::Real,i1::Real,i2::Real,i3::Real,i4::Real) at array.jl:314                                                                                                          \n",
       " setindex!{T}(A::Array{T,N},x,i0::Real,i1::Real,i2::Real,i3::Real,i4::Real,i5::Real) at array.jl:316                                                                                                 \n",
       " setindex!{T}(A::Array{T,N},x,i0::Real,i1::Real,i2::Real,i3::Real,i4::Real,i5::Real,I::Real...) at array.jl:318                                                                                      \n",
       " setindex!(A::Array{T,N},x,I::AbstractArray{Bool,N}) at array.jl:385                                                                                                                                 \n",
       " setindex!(A::Array{T,N},x,J_1::Union(Real,AbstractArray{T,N})) at multidimensional.jl:61                                                                                                            \n",
       " setindex!(A::Array{T,N},x,J_1::Union(Real,AbstractArray{T,N}),J_2::Union(Real,AbstractArray{T,N})) at multidimensional.jl:61                                                                        \n",
       " setindex!(A::Array{T,N},x,J_1::Union(Real,AbstractArray{T,N}),J_2::Union(Real,AbstractArray{T,N}),J_3::Union(Real,AbstractArray{T,N})) at multidimensional.jl:61                                    \n",
       " setindex!(A::Array{T,N},x,J_1::Union(Real,AbstractArray{T,N}),J_2::Union(Real,AbstractArray{T,N}),J_3::Union(Real,AbstractArray{T,N}),J_4::Union(Real,AbstractArray{T,N})) at multidimensional.jl:61\n",
       " setindex!(A::Array{T,N},x,J::Union(AbstractArray{T,N},Real)...) at cartesian.jl:100                                                                                                                 \n",
       " permutedims!{T,N}(P::Array{T,N},B::Union(DenseArray{T,N},SubArray{T,N,A<:DenseArray{T,N},I<:(Union(Range{Int64},Int64)...,)}),perm) at cartesian.jl:100                                             \n",
       " xdump(fn::Function,io::IO,x::Array{T,N},n::Int64,indent) at show.jl:718                                                                                                                             \n",
       " serialize(s,a::Array{T,N}) at serialize.jl:119                                                                                                                                                      "
      ]
     },
     "execution_count": 26,
     "metadata": {},
     "output_type": "execute_result"
    }
   ],
   "source": [
    "methodswith(Array)"
   ]
  },
  {
   "cell_type": "code",
   "execution_count": 27,
   "metadata": {
    "collapsed": false
   },
   "outputs": [
    {
     "data": {
      "text/plain": [
       "4-element Array{Int64,1}:\n",
       "  1\n",
       "  2\n",
       "  3\n",
       " 12"
      ]
     },
     "execution_count": 27,
     "metadata": {},
     "output_type": "execute_result"
    }
   ],
   "source": [
    "l = [1, 2, 3];\n",
    "push!(l, 12)"
   ]
  },
  {
   "cell_type": "code",
   "execution_count": 28,
   "metadata": {
    "collapsed": false
   },
   "outputs": [
    {
     "ename": "LoadError",
     "evalue": "InexactError()\nwhile loading In[28], in expression starting on line 1",
     "output_type": "error",
     "traceback": [
      "InexactError()\nwhile loading In[28], in expression starting on line 1",
      "",
      " in push! at array.jl:460"
     ]
    }
   ],
   "source": [
    "push!(l, 12.1)"
   ]
  },
  {
   "cell_type": "code",
   "execution_count": 29,
   "metadata": {
    "collapsed": false
   },
   "outputs": [
    {
     "name": "stdout",
     "output_type": "stream",
     "text": [
      "Base                          Module\n",
      "Compat                        Module\n",
      "Core                          Module\n",
      "DataStructures                Module\n",
      "IJulia                        Module\n",
      "IPythonDisplay                Module\n",
      "JSON                          Module\n",
      "Main                          Module\n",
      "Nettle                        Module\n",
      "ZMQ                           Module\n",
      "a                             Int64\n",
      "b                             Int64\n",
      "c                             BigInt\n",
      "d                             Int64\n",
      "f                             Function\n",
      "g                             Function\n",
      "l                             4-element Array{Int64,1}\n",
      "ll                            4-element Array{Int64,1}\n",
      "lll                           2-element Array{Int64,1}\n",
      "α                             Int64\n",
      "μ                             Int64\n"
     ]
    }
   ],
   "source": [
    "whos()"
   ]
  },
  {
   "cell_type": "code",
   "execution_count": 30,
   "metadata": {
    "collapsed": false
   },
   "outputs": [
    {
     "name": "stdout",
     "output_type": "stream",
     "text": [
      "Base.summary(x)\n",
      "\n",
      "   Return a string giving a brief description of a value. By default\n",
      "   returns \"string(typeof(x))\". For arrays, returns strings like\n",
      "   \"2x2 Float64 Array\".\n"
     ]
    }
   ],
   "source": [
    "?summary"
   ]
  },
  {
   "cell_type": "code",
   "execution_count": 31,
   "metadata": {
    "collapsed": false
   },
   "outputs": [
    {
     "data": {
      "text/plain": [
       "baby_root (generic function with 1 method)"
      ]
     },
     "execution_count": 31,
     "metadata": {},
     "output_type": "execute_result"
    }
   ],
   "source": [
    "function baby_root(y; max_iter=5000, init_x = 0.00001)\n",
    "    x = init_x;\n",
    "    for i = 1:max_iter\n",
    "        x = (x + y / x)/2\n",
    "    end\n",
    "    return x\n",
    "end"
   ]
  },
  {
   "cell_type": "code",
   "execution_count": 32,
   "metadata": {
    "collapsed": false
   },
   "outputs": [
    {
     "data": {
      "text/plain": [
       "1.414213562373095"
      ]
     },
     "execution_count": 32,
     "metadata": {},
     "output_type": "execute_result"
    }
   ],
   "source": [
    "baby_root(2)"
   ]
  },
  {
   "cell_type": "code",
   "execution_count": 33,
   "metadata": {
    "collapsed": false
   },
   "outputs": [
    {
     "name": "stdout",
     "output_type": "stream",
     "text": [
      "Not true\n"
     ]
    }
   ],
   "source": [
    "zz = 3;\n",
    "zz == 5 ? println(\"Hello.\") : println(\"Not true\")"
   ]
  },
  {
   "cell_type": "code",
   "execution_count": 34,
   "metadata": {
    "collapsed": false
   },
   "outputs": [
    {
     "name": "stdout",
     "output_type": "stream",
     "text": [
      "Array{T,2} is of type\n",
      "DataType   : TypeConstructor\n",
      "  supertype: Type{T<:Top}\n",
      "  fields   : (:parameters,:body)\n"
     ]
    }
   ],
   "source": [
    "?Matrix"
   ]
  },
  {
   "cell_type": "code",
   "execution_count": 35,
   "metadata": {
    "collapsed": false
   },
   "outputs": [
    {
     "name": "stdout",
     "output_type": "stream",
     "text": [
      "Array{T,2} is of type\n",
      "DataType   : TypeConstructor\n",
      "  supertype: Type{T<:Top}\n",
      "  fields   : (:parameters,:body)\n"
     ]
    }
   ],
   "source": [
    "?Matrix"
   ]
  },
  {
   "cell_type": "code",
   "execution_count": 36,
   "metadata": {
    "collapsed": false
   },
   "outputs": [
    {
     "name": "stdout",
     "output_type": "stream",
     "text": [
      "Base.Profile.clear_malloc_data()\n",
      "\n",
      "   Clears any stored memory allocation data when running julia with \"\n",
      "   --track-allocation\".  Execute the command(s) you want to test (to\n",
      "   force JIT-compilation), then call \"clear_malloc_data()\". Then\n",
      "   execute your command(s) again, quit julia, and examine the\n",
      "   resulting \"*.mem\" files.\n"
     ]
    }
   ],
   "source": [
    "?clear_malloc_data"
   ]
  },
  {
   "cell_type": "code",
   "execution_count": 37,
   "metadata": {
    "collapsed": true
   },
   "outputs": [],
   "source": [
    "clear_malloc_data()"
   ]
  },
  {
   "cell_type": "code",
   "execution_count": 38,
   "metadata": {
    "collapsed": false
   },
   "outputs": [],
   "source": [
    "gc()"
   ]
  },
  {
   "cell_type": "code",
   "execution_count": 39,
   "metadata": {
    "collapsed": false
   },
   "outputs": [
    {
     "data": {
      "text/plain": [
       "2x2 Array{Int64,2}:\n",
       " 1  2\n",
       " 3  4"
      ]
     },
     "execution_count": 39,
     "metadata": {},
     "output_type": "execute_result"
    }
   ],
   "source": [
    "# Matlab-like syntax\n",
    "m = [1 2; 3 4]"
   ]
  },
  {
   "cell_type": "code",
   "execution_count": 40,
   "metadata": {
    "collapsed": false
   },
   "outputs": [
    {
     "data": {
      "text/plain": [
       "5x5 Array{Float64,2}:\n",
       " 0.252601   0.625298  0.576181   0.34927    0.36711 \n",
       " 0.251078   0.395724  0.256455   0.807247   0.781752\n",
       " 0.0508662  0.782168  0.0553059  0.218086   0.969422\n",
       " 0.124573   0.487767  0.246744   0.552114   0.585237\n",
       " 0.0966284  0.632073  0.027771   0.0433066  0.531306"
      ]
     },
     "execution_count": 40,
     "metadata": {},
     "output_type": "execute_result"
    }
   ],
   "source": [
    "rand(5, 5)"
   ]
  },
  {
   "cell_type": "code",
   "execution_count": 41,
   "metadata": {
    "collapsed": false
   },
   "outputs": [
    {
     "name": "stdout",
     "output_type": "stream",
     "text": [
      "Base.rand!([rng], A)\n",
      "\n",
      "   Populate the array A with random number generated from the\n",
      "   specified RNG.\n"
     ]
    }
   ],
   "source": [
    "?rand!"
   ]
  },
  {
   "cell_type": "code",
   "execution_count": 42,
   "metadata": {
    "collapsed": false
   },
   "outputs": [
    {
     "data": {
      "text/plain": [
       "2-element Array{Int64,1}:\n",
       " 1\n",
       " 2"
      ]
     },
     "execution_count": 42,
     "metadata": {},
     "output_type": "execute_result"
    }
   ],
   "source": [
    "v = [1, 2]"
   ]
  },
  {
   "cell_type": "code",
   "execution_count": 43,
   "metadata": {
    "collapsed": false
   },
   "outputs": [
    {
     "data": {
      "text/plain": [
       "2-element Array{Int64,1}:\n",
       "  5\n",
       " 11"
      ]
     },
     "execution_count": 43,
     "metadata": {},
     "output_type": "execute_result"
    }
   ],
   "source": [
    "m * v"
   ]
  },
  {
   "cell_type": "code",
   "execution_count": 44,
   "metadata": {
    "collapsed": false
   },
   "outputs": [
    {
     "ename": "LoadError",
     "evalue": "M not defined\nwhile loading In[44], in expression starting on line 1",
     "output_type": "error",
     "traceback": [
      "M not defined\nwhile loading In[44], in expression starting on line 1",
      ""
     ]
    }
   ],
   "source": [
    "dot(M, v)"
   ]
  },
  {
   "cell_type": "code",
   "execution_count": 45,
   "metadata": {
    "collapsed": false
   },
   "outputs": [
    {
     "data": {
      "text/plain": [
       "5"
      ]
     },
     "execution_count": 45,
     "metadata": {},
     "output_type": "execute_result"
    }
   ],
   "source": [
    "dot(v, v)"
   ]
  },
  {
   "cell_type": "code",
   "execution_count": 46,
   "metadata": {
    "collapsed": false
   },
   "outputs": [
    {
     "data": {
      "text/html": [
       "115 methods for generic function <b>*</b>:<ul><li> *(x::<b>Bool</b>,y::<b>Bool</b>) at <a href=\"https://github.com/JuliaLang/julia/tree/0c24dca65c031820b91721139f0291068086955c/base/bool.jl#L41\" target=\"_blank\">bool.jl:41</a><li> *<i>{T<:Unsigned}</i>(x::<b>Bool</b>,y::<b>T<:Unsigned</b>) at <a href=\"https://github.com/JuliaLang/julia/tree/0c24dca65c031820b91721139f0291068086955c/base/bool.jl#L56\" target=\"_blank\">bool.jl:56</a><li> *(x::<b>Bool</b>,z::<b>Complex{T<:Real}</b>) at <a href=\"https://github.com/JuliaLang/julia/tree/0c24dca65c031820b91721139f0291068086955c/base/complex.jl#L116\" target=\"_blank\">complex.jl:116</a><li> *<i>{T<:Number}</i>(x::<b>Bool</b>,y::<b>T<:Number</b>) at <a href=\"https://github.com/JuliaLang/julia/tree/0c24dca65c031820b91721139f0291068086955c/base/bool.jl#L52\" target=\"_blank\">bool.jl:52</a><li> *(z::<b>Complex{T<:Real}</b>,x::<b>Bool</b>) at <a href=\"https://github.com/JuliaLang/julia/tree/0c24dca65c031820b91721139f0291068086955c/base/complex.jl#L117\" target=\"_blank\">complex.jl:117</a><li> *(y::<b>Number</b>,x::<b>Bool</b>) at <a href=\"https://github.com/JuliaLang/julia/tree/0c24dca65c031820b91721139f0291068086955c/base/bool.jl#L58\" target=\"_blank\">bool.jl:58</a><li> *<i>{T,S}</i>(A::<b>Union(DenseArray{T,2},SubArray{T,2,A<:DenseArray{T,N},I<:(Union(Range{Int64},Int64)...,)})</b>,B::<b>Union(DenseArray{S,2},SubArray{S,2,A<:DenseArray{T,N},I<:(Union(Range{Int64},Int64)...,)})</b>) at <a href=\"https://github.com/JuliaLang/julia/tree/0c24dca65c031820b91721139f0291068086955c/base/linalg/matmul.jl#L116\" target=\"_blank\">linalg/matmul.jl:116</a><li> *(A::<b>Union(Symmetric{T},Hermitian{T})</b>,B::<b>Union(Symmetric{T},Hermitian{T})</b>) at <a href=\"https://github.com/JuliaLang/julia/tree/0c24dca65c031820b91721139f0291068086955c/base/linalg/symmetric.jl#L35\" target=\"_blank\">linalg/symmetric.jl:35</a><li> *(A::<b>Union(Symmetric{T},Hermitian{T})</b>,B::<b>Union(DenseArray{T,2},SubArray{T,2,A<:DenseArray{T,N},I<:(Union(Range{Int64},Int64)...,)})</b>) at <a href=\"https://github.com/JuliaLang/julia/tree/0c24dca65c031820b91721139f0291068086955c/base/linalg/symmetric.jl#L36\" target=\"_blank\">linalg/symmetric.jl:36</a><li> *(A::<b>Union(DenseArray{T,2},SubArray{T,2,A<:DenseArray{T,N},I<:(Union(Range{Int64},Int64)...,)})</b>,B::<b>Union(Symmetric{T},Hermitian{T})</b>) at <a href=\"https://github.com/JuliaLang/julia/tree/0c24dca65c031820b91721139f0291068086955c/base/linalg/symmetric.jl#L37\" target=\"_blank\">linalg/symmetric.jl:37</a><li> *<i>{T<:Union(Complex{Float64},Float64,Complex{Float32},Float32),S<:Union(DenseArray{T,2},SubArray{T,2,A<:DenseArray{T,N},I<:(Union(Range{Int64},Int64)...,)}),UpLo,IsUnit}</i>(A::<b>Triangular{T<:Union(Complex{Float64},Float64,Complex{Float32},Float32),S<:Union(DenseArray{T,2},SubArray{T,2,A<:DenseArray{T,N},I<:(Union(Range{Int64},Int64)...,)}),UpLo,IsUnit}</b>,B::<b>Triangular{T<:Union(Complex{Float64},Float64,Complex{Float32},Float32),S<:Union(DenseArray{T,2},SubArray{T,2,A<:DenseArray{T,N},I<:(Union(Range{Int64},Int64)...,)}),UpLo,IsUnit}</b>) at <a href=\"https://github.com/JuliaLang/julia/tree/0c24dca65c031820b91721139f0291068086955c/base/linalg/triangular.jl#L23\" target=\"_blank\">linalg/triangular.jl:23</a><li> *(A::<b>Tridiagonal{T}</b>,B::<b>Triangular{T,S<:AbstractArray{T,2},UpLo,IsUnit}</b>) at <a href=\"https://github.com/JuliaLang/julia/tree/0c24dca65c031820b91721139f0291068086955c/base/linalg/triangular.jl#L206\" target=\"_blank\">linalg/triangular.jl:206</a><li> *<i>{TA,TB,SA<:AbstractArray{T,2},SB<:AbstractArray{T,2},UpLoA,UpLoB,IsUnitA,IsUnitB}</i>(A::<b>Triangular{TA,SA<:AbstractArray{T,2},UpLoA,IsUnitA}</b>,B::<b>Triangular{TB,SB<:AbstractArray{T,2},UpLoB,IsUnitB}</b>) at <a href=\"https://github.com/JuliaLang/julia/tree/0c24dca65c031820b91721139f0291068086955c/base/linalg/triangular.jl#L209\" target=\"_blank\">linalg/triangular.jl:209</a><li> *(Da::<b>Diagonal{T}</b>,Db::<b>Diagonal{T}</b>) at <a href=\"https://github.com/JuliaLang/julia/tree/0c24dca65c031820b91721139f0291068086955c/base/linalg/diagonal.jl#L53\" target=\"_blank\">linalg/diagonal.jl:53</a><li> *(A::<b>Union(SymTridiagonal{T},Diagonal{T},Tridiagonal{T},Bidiagonal{T},Triangular{T,S<:AbstractArray{T,2},UpLo,IsUnit})</b>,B::<b>Union(SymTridiagonal{T},Diagonal{T},Tridiagonal{T},Bidiagonal{T},Triangular{T,S<:AbstractArray{T,2},UpLo,IsUnit})</b>) at <a href=\"https://github.com/JuliaLang/julia/tree/0c24dca65c031820b91721139f0291068086955c/base/linalg/bidiag.jl#L114\" target=\"_blank\">linalg/bidiag.jl:114</a><li> *<i>{T<:Union(Int32,Int8,Int16)}</i>(x::<b>T<:Union(Int32,Int8,Int16)</b>,y::<b>T<:Union(Int32,Int8,Int16)</b>) at <a href=\"https://github.com/JuliaLang/julia/tree/0c24dca65c031820b91721139f0291068086955c/base/int.jl#L18\" target=\"_blank\">int.jl:18</a><li> *<i>{T<:Union(Uint8,Uint32,Uint16)}</i>(x::<b>T<:Union(Uint8,Uint32,Uint16)</b>,y::<b>T<:Union(Uint8,Uint32,Uint16)</b>) at <a href=\"https://github.com/JuliaLang/julia/tree/0c24dca65c031820b91721139f0291068086955c/base/int.jl#L22\" target=\"_blank\">int.jl:22</a><li> *(x::<b>Int64</b>,y::<b>Int64</b>) at <a href=\"https://github.com/JuliaLang/julia/tree/0c24dca65c031820b91721139f0291068086955c/base/int.jl#L47\" target=\"_blank\">int.jl:47</a><li> *(x::<b>Uint64</b>,y::<b>Uint64</b>) at <a href=\"https://github.com/JuliaLang/julia/tree/0c24dca65c031820b91721139f0291068086955c/base/int.jl#L48\" target=\"_blank\">int.jl:48</a><li> *(x::<b>Int128</b>,y::<b>Int128</b>) at <a href=\"https://github.com/JuliaLang/julia/tree/0c24dca65c031820b91721139f0291068086955c/base/int.jl#L586\" target=\"_blank\">int.jl:586</a><li> *(x::<b>Uint128</b>,y::<b>Uint128</b>) at <a href=\"https://github.com/JuliaLang/julia/tree/0c24dca65c031820b91721139f0291068086955c/base/int.jl#L587\" target=\"_blank\">int.jl:587</a><li> *(x::<b>Float32</b>,y::<b>Float32</b>) at <a href=\"https://github.com/JuliaLang/julia/tree/0c24dca65c031820b91721139f0291068086955c/base/float.jl#L123\" target=\"_blank\">float.jl:123</a><li> *(x::<b>Float64</b>,y::<b>Float64</b>) at <a href=\"https://github.com/JuliaLang/julia/tree/0c24dca65c031820b91721139f0291068086955c/base/float.jl#L124\" target=\"_blank\">float.jl:124</a><li> *(z::<b>Complex{T<:Real}</b>,w::<b>Complex{T<:Real}</b>) at <a href=\"https://github.com/JuliaLang/julia/tree/0c24dca65c031820b91721139f0291068086955c/base/complex.jl#L112\" target=\"_blank\">complex.jl:112</a><li> *(x::<b>Real</b>,z::<b>Complex{T<:Real}</b>) at <a href=\"https://github.com/JuliaLang/julia/tree/0c24dca65c031820b91721139f0291068086955c/base/complex.jl#L118\" target=\"_blank\">complex.jl:118</a><li> *(z::<b>Complex{T<:Real}</b>,x::<b>Real</b>) at <a href=\"https://github.com/JuliaLang/julia/tree/0c24dca65c031820b91721139f0291068086955c/base/complex.jl#L119\" target=\"_blank\">complex.jl:119</a><li> *(x::<b>Rational{T<:Integer}</b>,y::<b>Rational{T<:Integer}</b>) at <a href=\"https://github.com/JuliaLang/julia/tree/0c24dca65c031820b91721139f0291068086955c/base/rational.jl#L118\" target=\"_blank\">rational.jl:118</a><li> *(a::<b>Float16</b>,b::<b>Float16</b>) at <a href=\"https://github.com/JuliaLang/julia/tree/0c24dca65c031820b91721139f0291068086955c/base/float16.jl#L132\" target=\"_blank\">float16.jl:132</a><li> *(x::<b>BigInt</b>,y::<b>BigInt</b>) at <a href=\"https://github.com/JuliaLang/julia/tree/0c24dca65c031820b91721139f0291068086955c/base/gmp.jl#L195\" target=\"_blank\">gmp.jl:195</a><li> *(a::<b>BigInt</b>,b::<b>BigInt</b>,c::<b>BigInt</b>) at <a href=\"https://github.com/JuliaLang/julia/tree/0c24dca65c031820b91721139f0291068086955c/base/gmp.jl#L218\" target=\"_blank\">gmp.jl:218</a><li> *(a::<b>BigInt</b>,b::<b>BigInt</b>,c::<b>BigInt</b>,d::<b>BigInt</b>) at <a href=\"https://github.com/JuliaLang/julia/tree/0c24dca65c031820b91721139f0291068086955c/base/gmp.jl#L224\" target=\"_blank\">gmp.jl:224</a><li> *(a::<b>BigInt</b>,b::<b>BigInt</b>,c::<b>BigInt</b>,d::<b>BigInt</b>,e::<b>BigInt</b>) at <a href=\"https://github.com/JuliaLang/julia/tree/0c24dca65c031820b91721139f0291068086955c/base/gmp.jl#L231\" target=\"_blank\">gmp.jl:231</a><li> *(x::<b>BigInt</b>,c::<b>Union(Uint8,Uint32,Uint16,Uint64)</b>) at <a href=\"https://github.com/JuliaLang/julia/tree/0c24dca65c031820b91721139f0291068086955c/base/gmp.jl#L265\" target=\"_blank\">gmp.jl:265</a><li> *(c::<b>Union(Uint8,Uint32,Uint16,Uint64)</b>,x::<b>BigInt</b>) at <a href=\"https://github.com/JuliaLang/julia/tree/0c24dca65c031820b91721139f0291068086955c/base/gmp.jl#L269\" target=\"_blank\">gmp.jl:269</a><li> *(x::<b>BigInt</b>,c::<b>Union(Int32,Int64,Int8,Int16)</b>) at <a href=\"https://github.com/JuliaLang/julia/tree/0c24dca65c031820b91721139f0291068086955c/base/gmp.jl#L271\" target=\"_blank\">gmp.jl:271</a><li> *(c::<b>Union(Int32,Int64,Int8,Int16)</b>,x::<b>BigInt</b>) at <a href=\"https://github.com/JuliaLang/julia/tree/0c24dca65c031820b91721139f0291068086955c/base/gmp.jl#L275\" target=\"_blank\">gmp.jl:275</a><li> *(x::<b>BigFloat</b>,y::<b>BigFloat</b>) at <a href=\"https://github.com/JuliaLang/julia/tree/0c24dca65c031820b91721139f0291068086955c/base/mpfr.jl#L149\" target=\"_blank\">mpfr.jl:149</a><li> *(x::<b>BigFloat</b>,c::<b>Union(Uint8,Uint32,Uint16,Uint64)</b>) at <a href=\"https://github.com/JuliaLang/julia/tree/0c24dca65c031820b91721139f0291068086955c/base/mpfr.jl#L156\" target=\"_blank\">mpfr.jl:156</a><li> *(c::<b>Union(Uint8,Uint32,Uint16,Uint64)</b>,x::<b>BigFloat</b>) at <a href=\"https://github.com/JuliaLang/julia/tree/0c24dca65c031820b91721139f0291068086955c/base/mpfr.jl#L160\" target=\"_blank\">mpfr.jl:160</a><li> *(x::<b>BigFloat</b>,c::<b>Union(Int32,Int64,Int8,Int16)</b>) at <a href=\"https://github.com/JuliaLang/julia/tree/0c24dca65c031820b91721139f0291068086955c/base/mpfr.jl#L164\" target=\"_blank\">mpfr.jl:164</a><li> *(c::<b>Union(Int32,Int64,Int8,Int16)</b>,x::<b>BigFloat</b>) at <a href=\"https://github.com/JuliaLang/julia/tree/0c24dca65c031820b91721139f0291068086955c/base/mpfr.jl#L168\" target=\"_blank\">mpfr.jl:168</a><li> *(x::<b>BigFloat</b>,c::<b>Union(Float16,Float64,Float32)</b>) at <a href=\"https://github.com/JuliaLang/julia/tree/0c24dca65c031820b91721139f0291068086955c/base/mpfr.jl#L172\" target=\"_blank\">mpfr.jl:172</a><li> *(c::<b>Union(Float16,Float64,Float32)</b>,x::<b>BigFloat</b>) at <a href=\"https://github.com/JuliaLang/julia/tree/0c24dca65c031820b91721139f0291068086955c/base/mpfr.jl#L176\" target=\"_blank\">mpfr.jl:176</a><li> *(x::<b>BigFloat</b>,c::<b>BigInt</b>) at <a href=\"https://github.com/JuliaLang/julia/tree/0c24dca65c031820b91721139f0291068086955c/base/mpfr.jl#L180\" target=\"_blank\">mpfr.jl:180</a><li> *(c::<b>BigInt</b>,x::<b>BigFloat</b>) at <a href=\"https://github.com/JuliaLang/julia/tree/0c24dca65c031820b91721139f0291068086955c/base/mpfr.jl#L184\" target=\"_blank\">mpfr.jl:184</a><li> *(a::<b>BigFloat</b>,b::<b>BigFloat</b>,c::<b>BigFloat</b>) at <a href=\"https://github.com/JuliaLang/julia/tree/0c24dca65c031820b91721139f0291068086955c/base/mpfr.jl#L255\" target=\"_blank\">mpfr.jl:255</a><li> *(a::<b>BigFloat</b>,b::<b>BigFloat</b>,c::<b>BigFloat</b>,d::<b>BigFloat</b>) at <a href=\"https://github.com/JuliaLang/julia/tree/0c24dca65c031820b91721139f0291068086955c/base/mpfr.jl#L261\" target=\"_blank\">mpfr.jl:261</a><li> *(a::<b>BigFloat</b>,b::<b>BigFloat</b>,c::<b>BigFloat</b>,d::<b>BigFloat</b>,e::<b>BigFloat</b>) at <a href=\"https://github.com/JuliaLang/julia/tree/0c24dca65c031820b91721139f0291068086955c/base/mpfr.jl#L268\" target=\"_blank\">mpfr.jl:268</a><li> *(x::<b>MathConst{sym}</b>,y::<b>MathConst{sym}</b>) at <a href=\"https://github.com/JuliaLang/julia/tree/0c24dca65c031820b91721139f0291068086955c/base/constants.jl#L23\" target=\"_blank\">constants.jl:23</a><li> *<i>{T<:Number}</i>(x::<b>T<:Number</b>,y::<b>T<:Number</b>) at <a href=\"https://github.com/JuliaLang/julia/tree/0c24dca65c031820b91721139f0291068086955c/base/promotion.jl#L189\" target=\"_blank\">promotion.jl:189</a><li> *(x::<b>Number</b>,y::<b>Number</b>) at <a href=\"https://github.com/JuliaLang/julia/tree/0c24dca65c031820b91721139f0291068086955c/base/promotion.jl#L159\" target=\"_blank\">promotion.jl:159</a><li> *<i>{T<:Number}</i>(x::<b>T<:Number</b>,D::<b>Diagonal{T}</b>) at <a href=\"https://github.com/JuliaLang/julia/tree/0c24dca65c031820b91721139f0291068086955c/base/linalg/diagonal.jl#L50\" target=\"_blank\">linalg/diagonal.jl:50</a><li> *(s::<b>Real</b>,p::<b>Vec2</b>) at <a href=\"https://github.com/JuliaLang/julia/tree/0c24dca65c031820b91721139f0291068086955c/base/graphics.jl#L64\" target=\"_blank\">graphics.jl:64</a><li> *(s::<b>Real</b>,bb::<b>BoundingBox</b>) at <a href=\"https://github.com/JuliaLang/julia/tree/0c24dca65c031820b91721139f0291068086955c/base/graphics.jl#L151\" target=\"_blank\">graphics.jl:151</a><li> *(x::<b>Number</b>) at <a href=\"https://github.com/JuliaLang/julia/tree/0c24dca65c031820b91721139f0291068086955c/base/operators.jl#L72\" target=\"_blank\">operators.jl:72</a><li> *<i>{T<:Union(Complex{Float64},Float64,Complex{Float32},Float32),S}</i>(A::<b>Union(DenseArray{T<:Union(Complex{Float64},Float64,Complex{Float32},Float32),2},SubArray{T<:Union(Complex{Float64},Float64,Complex{Float32},Float32),2,A<:DenseArray{T,N},I<:(Union(Range{Int64},Int64)...,)})</b>,x::<b>Union(SubArray{S,1,A<:DenseArray{T,N},I<:(Union(Range{Int64},Int64)...,)},DenseArray{S,1})</b>) at <a href=\"https://github.com/JuliaLang/julia/tree/0c24dca65c031820b91721139f0291068086955c/base/linalg/matmul.jl#L67\" target=\"_blank\">linalg/matmul.jl:67</a><li> *(A::<b>SymTridiagonal{T}</b>,B::<b>Number</b>) at <a href=\"https://github.com/JuliaLang/julia/tree/0c24dca65c031820b91721139f0291068086955c/base/linalg/tridiag.jl#L59\" target=\"_blank\">linalg/tridiag.jl:59</a><li> *(A::<b>Tridiagonal{T}</b>,B::<b>Number</b>) at <a href=\"https://github.com/JuliaLang/julia/tree/0c24dca65c031820b91721139f0291068086955c/base/linalg/tridiag.jl#L249\" target=\"_blank\">linalg/tridiag.jl:249</a><li> *<i>{T<:Union(Complex{Float64},Float64,Complex{Float32},Float32),S<:Union(DenseArray{T,2},SubArray{T,2,A<:DenseArray{T,N},I<:(Union(Range{Int64},Int64)...,)}),UpLo,IsUnit}</i>(A::<b>Triangular{T<:Union(Complex{Float64},Float64,Complex{Float32},Float32),S<:Union(DenseArray{T,2},SubArray{T,2,A<:DenseArray{T,N},I<:(Union(Range{Int64},Int64)...,)}),UpLo,IsUnit}</b>,B::<b>Union(DenseArray{T,2},DenseArray{T,1},SubArray{T,2,A<:DenseArray{T,N},I<:(Union(Range{Int64},Int64)...,)},SubArray{T,1,A<:DenseArray{T,N},I<:(Union(Range{Int64},Int64)...,)})</b>) at <a href=\"https://github.com/JuliaLang/julia/tree/0c24dca65c031820b91721139f0291068086955c/base/linalg/triangular.jl#L24\" target=\"_blank\">linalg/triangular.jl:24</a><li> *<i>{T,S,UpLo,IsUnit}</i>(A::<b>Triangular{T,S,UpLo,IsUnit}</b>,x::<b>Number</b>) at <a href=\"https://github.com/JuliaLang/julia/tree/0c24dca65c031820b91721139f0291068086955c/base/linalg/triangular.jl#L157\" target=\"_blank\">linalg/triangular.jl:157</a><li> *<i>{TvA,TiA}</i>(X::<b>Triangular{T,S<:AbstractArray{T,2},UpLo,IsUnit}</b>,A::<b>SparseMatrixCSC{TvA,TiA}</b>) at <a href=\"https://github.com/JuliaLang/julia/tree/0c24dca65c031820b91721139f0291068086955c/base/linalg/sparse.jl#L129\" target=\"_blank\">linalg/sparse.jl:129</a><li> *<i>{T,S<:AbstractArray{T,2},UpLo,IsUnit}</i>(A::<b>Triangular{T,S<:AbstractArray{T,2},UpLo,IsUnit}</b>,B::<b>Union(AbstractArray{T,2},AbstractArray{T,1})</b>) at <a href=\"https://github.com/JuliaLang/julia/tree/0c24dca65c031820b91721139f0291068086955c/base/linalg/triangular.jl#L210\" target=\"_blank\">linalg/triangular.jl:210</a><li> *<i>{TA,Tb}</i>(A::<b>Union(QRCompactWYQ{TA},QRPackedQ{TA})</b>,b::<b>Union(DenseArray{Tb,1},SubArray{Tb,1,A<:DenseArray{T,N},I<:(Union(Range{Int64},Int64)...,)})</b>) at <a href=\"https://github.com/JuliaLang/julia/tree/0c24dca65c031820b91721139f0291068086955c/base/linalg/factorization.jl#L277\" target=\"_blank\">linalg/factorization.jl:277</a><li> *<i>{TA,TB}</i>(A::<b>Union(QRCompactWYQ{TA},QRPackedQ{TA})</b>,B::<b>Union(SubArray{TB,2,A<:DenseArray{T,N},I<:(Union(Range{Int64},Int64)...,)},DenseArray{TB,2})</b>) at <a href=\"https://github.com/JuliaLang/julia/tree/0c24dca65c031820b91721139f0291068086955c/base/linalg/factorization.jl#L283\" target=\"_blank\">linalg/factorization.jl:283</a><li> *<i>{TA,TQ,N}</i>(A::<b>Union(SubArray{TA,N,A<:DenseArray{T,N},I<:(Union(Range{Int64},Int64)...,)},DenseArray{TA,N})</b>,Q::<b>Union(QRPackedQ{TQ},QRCompactWYQ{TQ})</b>) at <a href=\"https://github.com/JuliaLang/julia/tree/0c24dca65c031820b91721139f0291068086955c/base/linalg/factorization.jl#L345\" target=\"_blank\">linalg/factorization.jl:345</a><li> *(W::<b>Woodbury{T}</b>,B::<b>Union(DenseArray{T,2},DenseArray{T,1},SubArray{T,2,A<:DenseArray{T,N},I<:(Union(Range{Int64},Int64)...,)},SubArray{T,1,A<:DenseArray{T,N},I<:(Union(Range{Int64},Int64)...,)})</b>) at <a href=\"https://github.com/JuliaLang/julia/tree/0c24dca65c031820b91721139f0291068086955c/base/linalg/woodbury.jl#L70\" target=\"_blank\">linalg/woodbury.jl:70</a><li> *<i>{T<:Number}</i>(D::<b>Diagonal{T}</b>,x::<b>T<:Number</b>) at <a href=\"https://github.com/JuliaLang/julia/tree/0c24dca65c031820b91721139f0291068086955c/base/linalg/diagonal.jl#L51\" target=\"_blank\">linalg/diagonal.jl:51</a><li> *(D::<b>Diagonal{T}</b>,V::<b>Array{T,1}</b>) at <a href=\"https://github.com/JuliaLang/julia/tree/0c24dca65c031820b91721139f0291068086955c/base/linalg/diagonal.jl#L54\" target=\"_blank\">linalg/diagonal.jl:54</a><li> *(A::<b>Array{T,2}</b>,D::<b>Diagonal{T}</b>) at <a href=\"https://github.com/JuliaLang/julia/tree/0c24dca65c031820b91721139f0291068086955c/base/linalg/diagonal.jl#L55\" target=\"_blank\">linalg/diagonal.jl:55</a><li> *(D::<b>Diagonal{T}</b>,A::<b>Array{T,2}</b>) at <a href=\"https://github.com/JuliaLang/julia/tree/0c24dca65c031820b91721139f0291068086955c/base/linalg/diagonal.jl#L56\" target=\"_blank\">linalg/diagonal.jl:56</a><li> *(A::<b>Bidiagonal{T}</b>,B::<b>Number</b>) at <a href=\"https://github.com/JuliaLang/julia/tree/0c24dca65c031820b91721139f0291068086955c/base/linalg/bidiag.jl#L108\" target=\"_blank\">linalg/bidiag.jl:108</a><li> *<i>{T}</i>(A::<b>Bidiagonal{T}</b>,B::<b>AbstractArray{T,1}</b>) at <a href=\"https://github.com/JuliaLang/julia/tree/0c24dca65c031820b91721139f0291068086955c/base/linalg/bidiag.jl#L119\" target=\"_blank\">linalg/bidiag.jl:119</a><li> *(B::<b>BitArray{2}</b>,J::<b>UniformScaling{T<:Number}</b>) at <a href=\"https://github.com/JuliaLang/julia/tree/0c24dca65c031820b91721139f0291068086955c/base/linalg/uniformscaling.jl#L68\" target=\"_blank\">linalg/uniformscaling.jl:68</a><li> *(S::<b>SparseMatrixCSC{Tv,Ti<:Integer}</b>,J::<b>UniformScaling{T<:Number}</b>) at <a href=\"https://github.com/JuliaLang/julia/tree/0c24dca65c031820b91721139f0291068086955c/base/linalg/uniformscaling.jl#L70\" target=\"_blank\">linalg/uniformscaling.jl:70</a><li> *<i>{T}</i>(G1::<b>Givens{T}</b>,G2::<b>Givens{T}</b>) at <a href=\"https://github.com/JuliaLang/julia/tree/0c24dca65c031820b91721139f0291068086955c/base/linalg/givens.jl#L197\" target=\"_blank\">linalg/givens.jl:197</a><li> *(G::<b>Givens{T}</b>,B::<b>BitArray{2}</b>) at <a href=\"https://github.com/JuliaLang/julia/tree/0c24dca65c031820b91721139f0291068086955c/base/linalg/givens.jl#L198\" target=\"_blank\">linalg/givens.jl:198</a><li> *<i>{TBf,TBi}</i>(G::<b>Givens{T}</b>,B::<b>SparseMatrixCSC{TBf,TBi}</b>) at <a href=\"https://github.com/JuliaLang/julia/tree/0c24dca65c031820b91721139f0291068086955c/base/linalg/givens.jl#L199\" target=\"_blank\">linalg/givens.jl:199</a><li> *(R::<b>Union(Givens{T},Rotation{T})</b>,A::<b>AbstractArray{T,2}</b>) at <a href=\"https://github.com/JuliaLang/julia/tree/0c24dca65c031820b91721139f0291068086955c/base/linalg/givens.jl#L200\" target=\"_blank\">linalg/givens.jl:200</a><li> *<i>{Tv,Ti}</i>(A::<b>SparseMatrixCSC{Tv,Ti}</b>,B::<b>SparseMatrixCSC{Tv,Ti}</b>) at <a href=\"https://github.com/JuliaLang/julia/tree/0c24dca65c031820b91721139f0291068086955c/base/linalg/sparse.jl#L143\" target=\"_blank\">linalg/sparse.jl:143</a><li> *<i>{TvA,TiA,TvB,TiB}</i>(A::<b>SparseMatrixCSC{TvA,TiA}</b>,B::<b>SparseMatrixCSC{TvB,TiB}</b>) at <a href=\"https://github.com/JuliaLang/julia/tree/0c24dca65c031820b91721139f0291068086955c/base/linalg/sparse.jl#L4\" target=\"_blank\">linalg/sparse.jl:4</a><li> *<i>{TvA,TiA}</i>(A::<b>SparseMatrixCSC{TvA,TiA}</b>,X::<b>BitArray{1}</b>) at <a href=\"https://github.com/JuliaLang/julia/tree/0c24dca65c031820b91721139f0291068086955c/base/linalg/sparse.jl#L11\" target=\"_blank\">linalg/sparse.jl:11</a><li> *<i>{TvA,TiA}</i>(A::<b>SparseMatrixCSC{TvA,TiA}</b>,X::<b>BitArray{2}</b>) at <a href=\"https://github.com/JuliaLang/julia/tree/0c24dca65c031820b91721139f0291068086955c/base/linalg/sparse.jl#L109\" target=\"_blank\">linalg/sparse.jl:109</a><li> *<i>{TA,S,Tx}</i>(A::<b>SparseMatrixCSC{TA,S}</b>,x::<b>AbstractArray{Tx,1}</b>) at <a href=\"https://github.com/JuliaLang/julia/tree/0c24dca65c031820b91721139f0291068086955c/base/linalg/sparse.jl#L32\" target=\"_blank\">linalg/sparse.jl:32</a><li> *(X::<b>BitArray{1}</b>,A::<b>SparseMatrixCSC{Tv,Ti<:Integer}</b>) at <a href=\"https://github.com/JuliaLang/julia/tree/0c24dca65c031820b91721139f0291068086955c/base/linalg/sparse.jl#L95\" target=\"_blank\">linalg/sparse.jl:95</a><li> *<i>{TvA,TiA,TX}</i>(A::<b>SparseMatrixCSC{TvA,TiA}</b>,X::<b>AbstractArray{TX,2}</b>) at <a href=\"https://github.com/JuliaLang/julia/tree/0c24dca65c031820b91721139f0291068086955c/base/linalg/sparse.jl#L111\" target=\"_blank\">linalg/sparse.jl:111</a><li> *<i>{TvA,TiA}</i>(X::<b>BitArray{2}</b>,A::<b>SparseMatrixCSC{TvA,TiA}</b>) at <a href=\"https://github.com/JuliaLang/julia/tree/0c24dca65c031820b91721139f0291068086955c/base/linalg/sparse.jl#L126\" target=\"_blank\">linalg/sparse.jl:126</a><li> *<i>{TX,TvA,TiA}</i>(X::<b>Tridiagonal{TX}</b>,A::<b>SparseMatrixCSC{TvA,TiA}</b>) at <a href=\"https://github.com/JuliaLang/julia/tree/0c24dca65c031820b91721139f0291068086955c/base/linalg/sparse.jl#L128\" target=\"_blank\">linalg/sparse.jl:128</a><li> *<i>{T<:Number}</i>(x::<b>AbstractArray{T<:Number,N}</b>) at <a href=\"https://github.com/JuliaLang/julia/tree/0c24dca65c031820b91721139f0291068086955c/base/abstractarray.jl#L363\" target=\"_blank\">abstractarray.jl:363</a><li> *(B::<b>Number</b>,A::<b>SymTridiagonal{T}</b>) at <a href=\"https://github.com/JuliaLang/julia/tree/0c24dca65c031820b91721139f0291068086955c/base/linalg/tridiag.jl#L60\" target=\"_blank\">linalg/tridiag.jl:60</a><li> *(B::<b>Number</b>,A::<b>Tridiagonal{T}</b>) at <a href=\"https://github.com/JuliaLang/julia/tree/0c24dca65c031820b91721139f0291068086955c/base/linalg/tridiag.jl#L250\" target=\"_blank\">linalg/tridiag.jl:250</a><li> *<i>{T,S,UpLo,IsUnit}</i>(x::<b>Number</b>,A::<b>Triangular{T,S,UpLo,IsUnit}</b>) at <a href=\"https://github.com/JuliaLang/julia/tree/0c24dca65c031820b91721139f0291068086955c/base/linalg/triangular.jl#L167\" target=\"_blank\">linalg/triangular.jl:167</a><li> *(B::<b>Number</b>,A::<b>Bidiagonal{T}</b>) at <a href=\"https://github.com/JuliaLang/julia/tree/0c24dca65c031820b91721139f0291068086955c/base/linalg/bidiag.jl#L109\" target=\"_blank\">linalg/bidiag.jl:109</a><li> *(A::<b>Number</b>,B::<b>AbstractArray{T,N}</b>) at <a href=\"https://github.com/JuliaLang/julia/tree/0c24dca65c031820b91721139f0291068086955c/base/abstractarray.jl#L367\" target=\"_blank\">abstractarray.jl:367</a><li> *(A::<b>AbstractArray{T,N}</b>,B::<b>Number</b>) at <a href=\"https://github.com/JuliaLang/julia/tree/0c24dca65c031820b91721139f0291068086955c/base/abstractarray.jl#L368\" target=\"_blank\">abstractarray.jl:368</a><li> *(s::<b>String...</b>) at <a href=\"https://github.com/JuliaLang/julia/tree/0c24dca65c031820b91721139f0291068086955c/base/string.jl#L76\" target=\"_blank\">string.jl:76</a><li> *<i>{T,S<:AbstractArray{T,2},UpLo,IsUnit}</i>(A::<b>AbstractArray{T,2}</b>,B::<b>Triangular{T,S<:AbstractArray{T,2},UpLo,IsUnit}</b>) at <a href=\"https://github.com/JuliaLang/julia/tree/0c24dca65c031820b91721139f0291068086955c/base/linalg/triangular.jl#L211\" target=\"_blank\">linalg/triangular.jl:211</a><li> *<i>{TX,TvA,TiA}</i>(X::<b>AbstractArray{TX,2}</b>,A::<b>SparseMatrixCSC{TvA,TiA}</b>) at <a href=\"https://github.com/JuliaLang/julia/tree/0c24dca65c031820b91721139f0291068086955c/base/linalg/sparse.jl#L131\" target=\"_blank\">linalg/sparse.jl:131</a><li> *<i>{T,S}</i>(A::<b>AbstractArray{T,2}</b>,x::<b>AbstractArray{S,1}</b>) at <a href=\"https://github.com/JuliaLang/julia/tree/0c24dca65c031820b91721139f0291068086955c/base/linalg/matmul.jl#L71\" target=\"_blank\">linalg/matmul.jl:71</a><li> *<i>{T1,T2}</i>(X::<b>AbstractArray{T1,1}</b>,A::<b>SparseMatrixCSC{T2,Ti<:Integer}</b>) at <a href=\"https://github.com/JuliaLang/julia/tree/0c24dca65c031820b91721139f0291068086955c/base/linalg/sparse.jl#L99\" target=\"_blank\">linalg/sparse.jl:99</a><li> *(A::<b>AbstractArray{T,1}</b>,B::<b>AbstractArray{T,2}</b>) at <a href=\"https://github.com/JuliaLang/julia/tree/0c24dca65c031820b91721139f0291068086955c/base/linalg/matmul.jl#L74\" target=\"_blank\">linalg/matmul.jl:74</a><li> *(J1::<b>UniformScaling{T<:Number}</b>,J2::<b>UniformScaling{T<:Number}</b>) at <a href=\"https://github.com/JuliaLang/julia/tree/0c24dca65c031820b91721139f0291068086955c/base/linalg/uniformscaling.jl#L67\" target=\"_blank\">linalg/uniformscaling.jl:67</a><li> *(J::<b>UniformScaling{T<:Number}</b>,B::<b>BitArray{2}</b>) at <a href=\"https://github.com/JuliaLang/julia/tree/0c24dca65c031820b91721139f0291068086955c/base/linalg/uniformscaling.jl#L69\" target=\"_blank\">linalg/uniformscaling.jl:69</a><li> *<i>{Tv,Ti}</i>(J::<b>UniformScaling{T<:Number}</b>,S::<b>SparseMatrixCSC{Tv,Ti}</b>) at <a href=\"https://github.com/JuliaLang/julia/tree/0c24dca65c031820b91721139f0291068086955c/base/linalg/uniformscaling.jl#L71\" target=\"_blank\">linalg/uniformscaling.jl:71</a><li> *(A::<b>AbstractArray{T,2}</b>,J::<b>UniformScaling{T<:Number}</b>) at <a href=\"https://github.com/JuliaLang/julia/tree/0c24dca65c031820b91721139f0291068086955c/base/linalg/uniformscaling.jl#L72\" target=\"_blank\">linalg/uniformscaling.jl:72</a><li> *(J::<b>UniformScaling{T<:Number}</b>,A::<b>Union(AbstractArray{T,2},AbstractArray{T,1})</b>) at <a href=\"https://github.com/JuliaLang/julia/tree/0c24dca65c031820b91721139f0291068086955c/base/linalg/uniformscaling.jl#L73\" target=\"_blank\">linalg/uniformscaling.jl:73</a><li> *(x::<b>Number</b>,J::<b>UniformScaling{T<:Number}</b>) at <a href=\"https://github.com/JuliaLang/julia/tree/0c24dca65c031820b91721139f0291068086955c/base/linalg/uniformscaling.jl#L75\" target=\"_blank\">linalg/uniformscaling.jl:75</a><li> *(J::<b>UniformScaling{T<:Number}</b>,x::<b>Number</b>) at <a href=\"https://github.com/JuliaLang/julia/tree/0c24dca65c031820b91721139f0291068086955c/base/linalg/uniformscaling.jl#L76\" target=\"_blank\">linalg/uniformscaling.jl:76</a><li> *<i>{Tv<:Float64}</i>(A::<b>CholmodSparse{Tv<:Float64,Int32}</b>,B::<b>CholmodSparse{Tv<:Float64,Int32}</b>) at <a href=\"https://github.com/JuliaLang/julia/tree/0c24dca65c031820b91721139f0291068086955c/base/linalg/cholmod.jl#L496\" target=\"_blank\">linalg/cholmod.jl:496</a><li> *<i>{Tv<:Float64}</i>(A::<b>CholmodSparse{Tv<:Float64,Int64}</b>,B::<b>CholmodSparse{Tv<:Float64,Int64}</b>) at <a href=\"https://github.com/JuliaLang/julia/tree/0c24dca65c031820b91721139f0291068086955c/base/linalg/cholmod.jl#L496\" target=\"_blank\">linalg/cholmod.jl:496</a><li> *<i>{Tv<:Union(Complex{Float64},Float64)}</i>(A::<b>CholmodSparse{Tv<:Union(Complex{Float64},Float64),Ti<:Union(Int64,Int32)}</b>,B::<b>CholmodDense{Tv<:Union(Complex{Float64},Float64)}</b>) at <a href=\"https://github.com/JuliaLang/julia/tree/0c24dca65c031820b91721139f0291068086955c/base/linalg/cholmod.jl#L870\" target=\"_blank\">linalg/cholmod.jl:870</a><li> *<i>{Tv<:Union(Complex{Float64},Float64)}</i>(A::<b>CholmodSparse{Tv<:Union(Complex{Float64},Float64),Ti<:Union(Int64,Int32)}</b>,B::<b>Union(Array{Tv<:Union(Complex{Float64},Float64),2},Array{Tv<:Union(Complex{Float64},Float64),1})</b>) at <a href=\"https://github.com/JuliaLang/julia/tree/0c24dca65c031820b91721139f0291068086955c/base/linalg/cholmod.jl#L871\" target=\"_blank\">linalg/cholmod.jl:871</a><li> *(p::<b>Vec2</b>,s::<b>Real</b>) at <a href=\"https://github.com/JuliaLang/julia/tree/0c24dca65c031820b91721139f0291068086955c/base/graphics.jl#L62\" target=\"_blank\">graphics.jl:62</a><li> *(bb::<b>BoundingBox</b>,s::<b>Real</b>) at <a href=\"https://github.com/JuliaLang/julia/tree/0c24dca65c031820b91721139f0291068086955c/base/graphics.jl#L147\" target=\"_blank\">graphics.jl:147</a><li> *(a,b,c) at <a href=\"https://github.com/JuliaLang/julia/tree/0c24dca65c031820b91721139f0291068086955c/base/operators.jl#L82\" target=\"_blank\">operators.jl:82</a><li> *(a,b,c,xs...) at <a href=\"https://github.com/JuliaLang/julia/tree/0c24dca65c031820b91721139f0291068086955c/base/operators.jl#L83\" target=\"_blank\">operators.jl:83</a></ul>"
      ],
      "text/plain": [
       "# 115 methods for generic function \"*\":\n",
       "*(x::Bool,y::Bool) at bool.jl:41\n",
       "*{T<:Unsigned}(x::Bool,y::T<:Unsigned) at bool.jl:56\n",
       "*(x::Bool,z::Complex{T<:Real}) at complex.jl:116\n",
       "*{T<:Number}(x::Bool,y::T<:Number) at bool.jl:52\n",
       "*(z::Complex{T<:Real},x::Bool) at complex.jl:117\n",
       "*(y::Number,x::Bool) at bool.jl:58\n",
       "*{T,S}(A::Union(DenseArray{T,2},SubArray{T,2,A<:DenseArray{T,N},I<:(Union(Range{Int64},Int64)...,)}),B::Union(DenseArray{S,2},SubArray{S,2,A<:DenseArray{T,N},I<:(Union(Range{Int64},Int64)...,)})) at linalg/matmul.jl:116\n",
       "*(A::Union(Symmetric{T},Hermitian{T}),B::Union(Symmetric{T},Hermitian{T})) at linalg/symmetric.jl:35\n",
       "*(A::Union(Symmetric{T},Hermitian{T}),B::Union(DenseArray{T,2},SubArray{T,2,A<:DenseArray{T,N},I<:(Union(Range{Int64},Int64)...,)})) at linalg/symmetric.jl:36\n",
       "*(A::Union(DenseArray{T,2},SubArray{T,2,A<:DenseArray{T,N},I<:(Union(Range{Int64},Int64)...,)}),B::Union(Symmetric{T},Hermitian{T})) at linalg/symmetric.jl:37\n",
       "*{T<:Union(Complex{Float64},Float64,Complex{Float32},Float32),S<:Union(DenseArray{T,2},SubArray{T,2,A<:DenseArray{T,N},I<:(Union(Range{Int64},Int64)...,)}),UpLo,IsUnit}(A::Triangular{T<:Union(Complex{Float64},Float64,Complex{Float32},Float32),S<:Union(DenseArray{T,2},SubArray{T,2,A<:DenseArray{T,N},I<:(Union(Range{Int64},Int64)...,)}),UpLo,IsUnit},B::Triangular{T<:Union(Complex{Float64},Float64,Complex{Float32},Float32),S<:Union(DenseArray{T,2},SubArray{T,2,A<:DenseArray{T,N},I<:(Union(Range{Int64},Int64)...,)}),UpLo,IsUnit}) at linalg/triangular.jl:23\n",
       "*(A::Tridiagonal{T},B::Triangular{T,S<:AbstractArray{T,2},UpLo,IsUnit}) at linalg/triangular.jl:206\n",
       "*{TA,TB,SA<:AbstractArray{T,2},SB<:AbstractArray{T,2},UpLoA,UpLoB,IsUnitA,IsUnitB}(A::Triangular{TA,SA<:AbstractArray{T,2},UpLoA,IsUnitA},B::Triangular{TB,SB<:AbstractArray{T,2},UpLoB,IsUnitB}) at linalg/triangular.jl:209\n",
       "*(Da::Diagonal{T},Db::Diagonal{T}) at linalg/diagonal.jl:53\n",
       "*(A::Union(SymTridiagonal{T},Diagonal{T},Tridiagonal{T},Bidiagonal{T},Triangular{T,S<:AbstractArray{T,2},UpLo,IsUnit}),B::Union(SymTridiagonal{T},Diagonal{T},Tridiagonal{T},Bidiagonal{T},Triangular{T,S<:AbstractArray{T,2},UpLo,IsUnit})) at linalg/bidiag.jl:114\n",
       "*{T<:Union(Int32,Int8,Int16)}(x::T<:Union(Int32,Int8,Int16),y::T<:Union(Int32,Int8,Int16)) at int.jl:18\n",
       "*{T<:Union(Uint8,Uint32,Uint16)}(x::T<:Union(Uint8,Uint32,Uint16),y::T<:Union(Uint8,Uint32,Uint16)) at int.jl:22\n",
       "*(x::Int64,y::Int64) at int.jl:47\n",
       "*(x::Uint64,y::Uint64) at int.jl:48\n",
       "*(x::Int128,y::Int128) at int.jl:586\n",
       "*(x::Uint128,y::Uint128) at int.jl:587\n",
       "*(x::Float32,y::Float32) at float.jl:123\n",
       "*(x::Float64,y::Float64) at float.jl:124\n",
       "*(z::Complex{T<:Real},w::Complex{T<:Real}) at complex.jl:112\n",
       "*(x::Real,z::Complex{T<:Real}) at complex.jl:118\n",
       "*(z::Complex{T<:Real},x::Real) at complex.jl:119\n",
       "*(x::Rational{T<:Integer},y::Rational{T<:Integer}) at rational.jl:118\n",
       "*(a::Float16,b::Float16) at float16.jl:132\n",
       "*(x::BigInt,y::BigInt) at gmp.jl:195\n",
       "*(a::BigInt,b::BigInt,c::BigInt) at gmp.jl:218\n",
       "*(a::BigInt,b::BigInt,c::BigInt,d::BigInt) at gmp.jl:224\n",
       "*(a::BigInt,b::BigInt,c::BigInt,d::BigInt,e::BigInt) at gmp.jl:231\n",
       "*(x::BigInt,c::Union(Uint8,Uint32,Uint16,Uint64)) at gmp.jl:265\n",
       "*(c::Union(Uint8,Uint32,Uint16,Uint64),x::BigInt) at gmp.jl:269\n",
       "*(x::BigInt,c::Union(Int32,Int64,Int8,Int16)) at gmp.jl:271\n",
       "*(c::Union(Int32,Int64,Int8,Int16),x::BigInt) at gmp.jl:275\n",
       "*(x::BigFloat,y::BigFloat) at mpfr.jl:149\n",
       "*(x::BigFloat,c::Union(Uint8,Uint32,Uint16,Uint64)) at mpfr.jl:156\n",
       "*(c::Union(Uint8,Uint32,Uint16,Uint64),x::BigFloat) at mpfr.jl:160\n",
       "*(x::BigFloat,c::Union(Int32,Int64,Int8,Int16)) at mpfr.jl:164\n",
       "*(c::Union(Int32,Int64,Int8,Int16),x::BigFloat) at mpfr.jl:168\n",
       "*(x::BigFloat,c::Union(Float16,Float64,Float32)) at mpfr.jl:172\n",
       "*(c::Union(Float16,Float64,Float32),x::BigFloat) at mpfr.jl:176\n",
       "*(x::BigFloat,c::BigInt) at mpfr.jl:180\n",
       "*(c::BigInt,x::BigFloat) at mpfr.jl:184\n",
       "*(a::BigFloat,b::BigFloat,c::BigFloat) at mpfr.jl:255\n",
       "*(a::BigFloat,b::BigFloat,c::BigFloat,d::BigFloat) at mpfr.jl:261\n",
       "*(a::BigFloat,b::BigFloat,c::BigFloat,d::BigFloat,e::BigFloat) at mpfr.jl:268\n",
       "*(x::MathConst{sym},y::MathConst{sym}) at constants.jl:23\n",
       "*{T<:Number}(x::T<:Number,y::T<:Number) at promotion.jl:189\n",
       "*(x::Number,y::Number) at promotion.jl:159\n",
       "*{T<:Number}(x::T<:Number,D::Diagonal{T}) at linalg/diagonal.jl:50\n",
       "*(s::Real,p::Vec2) at graphics.jl:64\n",
       "*(s::Real,bb::BoundingBox) at graphics.jl:151\n",
       "*(x::Number) at operators.jl:72\n",
       "*{T<:Union(Complex{Float64},Float64,Complex{Float32},Float32),S}(A::Union(DenseArray{T<:Union(Complex{Float64},Float64,Complex{Float32},Float32),2},SubArray{T<:Union(Complex{Float64},Float64,Complex{Float32},Float32),2,A<:DenseArray{T,N},I<:(Union(Range{Int64},Int64)...,)}),x::Union(SubArray{S,1,A<:DenseArray{T,N},I<:(Union(Range{Int64},Int64)...,)},DenseArray{S,1})) at linalg/matmul.jl:67\n",
       "*(A::SymTridiagonal{T},B::Number) at linalg/tridiag.jl:59\n",
       "*(A::Tridiagonal{T},B::Number) at linalg/tridiag.jl:249\n",
       "*{T<:Union(Complex{Float64},Float64,Complex{Float32},Float32),S<:Union(DenseArray{T,2},SubArray{T,2,A<:DenseArray{T,N},I<:(Union(Range{Int64},Int64)...,)}),UpLo,IsUnit}(A::Triangular{T<:Union(Complex{Float64},Float64,Complex{Float32},Float32),S<:Union(DenseArray{T,2},SubArray{T,2,A<:DenseArray{T,N},I<:(Union(Range{Int64},Int64)...,)}),UpLo,IsUnit},B::Union(DenseArray{T,2},DenseArray{T,1},SubArray{T,2,A<:DenseArray{T,N},I<:(Union(Range{Int64},Int64)...,)},SubArray{T,1,A<:DenseArray{T,N},I<:(Union(Range{Int64},Int64)...,)})) at linalg/triangular.jl:24\n",
       "*{T,S,UpLo,IsUnit}(A::Triangular{T,S,UpLo,IsUnit},x::Number) at linalg/triangular.jl:157\n",
       "*{TvA,TiA}(X::Triangular{T,S<:AbstractArray{T,2},UpLo,IsUnit},A::SparseMatrixCSC{TvA,TiA}) at linalg/sparse.jl:129\n",
       "*{T,S<:AbstractArray{T,2},UpLo,IsUnit}(A::Triangular{T,S<:AbstractArray{T,2},UpLo,IsUnit},B::Union(AbstractArray{T,2},AbstractArray{T,1})) at linalg/triangular.jl:210\n",
       "*{TA,Tb}(A::Union(QRCompactWYQ{TA},QRPackedQ{TA}),b::Union(DenseArray{Tb,1},SubArray{Tb,1,A<:DenseArray{T,N},I<:(Union(Range{Int64},Int64)...,)})) at linalg/factorization.jl:277\n",
       "*{TA,TB}(A::Union(QRCompactWYQ{TA},QRPackedQ{TA}),B::Union(SubArray{TB,2,A<:DenseArray{T,N},I<:(Union(Range{Int64},Int64)...,)},DenseArray{TB,2})) at linalg/factorization.jl:283\n",
       "*{TA,TQ,N}(A::Union(SubArray{TA,N,A<:DenseArray{T,N},I<:(Union(Range{Int64},Int64)...,)},DenseArray{TA,N}),Q::Union(QRPackedQ{TQ},QRCompactWYQ{TQ})) at linalg/factorization.jl:345\n",
       "*(W::Woodbury{T},B::Union(DenseArray{T,2},DenseArray{T,1},SubArray{T,2,A<:DenseArray{T,N},I<:(Union(Range{Int64},Int64)...,)},SubArray{T,1,A<:DenseArray{T,N},I<:(Union(Range{Int64},Int64)...,)})) at linalg/woodbury.jl:70\n",
       "*{T<:Number}(D::Diagonal{T},x::T<:Number) at linalg/diagonal.jl:51\n",
       "*(D::Diagonal{T},V::Array{T,1}) at linalg/diagonal.jl:54\n",
       "*(A::Array{T,2},D::Diagonal{T}) at linalg/diagonal.jl:55\n",
       "*(D::Diagonal{T},A::Array{T,2}) at linalg/diagonal.jl:56\n",
       "*(A::Bidiagonal{T},B::Number) at linalg/bidiag.jl:108\n",
       "*{T}(A::Bidiagonal{T},B::AbstractArray{T,1}) at linalg/bidiag.jl:119\n",
       "*(B::BitArray{2},J::UniformScaling{T<:Number}) at linalg/uniformscaling.jl:68\n",
       "*(S::SparseMatrixCSC{Tv,Ti<:Integer},J::UniformScaling{T<:Number}) at linalg/uniformscaling.jl:70\n",
       "*{T}(G1::Givens{T},G2::Givens{T}) at linalg/givens.jl:197\n",
       "*(G::Givens{T},B::BitArray{2}) at linalg/givens.jl:198\n",
       "*{TBf,TBi}(G::Givens{T},B::SparseMatrixCSC{TBf,TBi}) at linalg/givens.jl:199\n",
       "*(R::Union(Givens{T},Rotation{T}),A::AbstractArray{T,2}) at linalg/givens.jl:200\n",
       "*{Tv,Ti}(A::SparseMatrixCSC{Tv,Ti},B::SparseMatrixCSC{Tv,Ti}) at linalg/sparse.jl:143\n",
       "*{TvA,TiA,TvB,TiB}(A::SparseMatrixCSC{TvA,TiA},B::SparseMatrixCSC{TvB,TiB}) at linalg/sparse.jl:4\n",
       "*{TvA,TiA}(A::SparseMatrixCSC{TvA,TiA},X::BitArray{1}) at linalg/sparse.jl:11\n",
       "*{TvA,TiA}(A::SparseMatrixCSC{TvA,TiA},X::BitArray{2}) at linalg/sparse.jl:109\n",
       "*{TA,S,Tx}(A::SparseMatrixCSC{TA,S},x::AbstractArray{Tx,1}) at linalg/sparse.jl:32\n",
       "*(X::BitArray{1},A::SparseMatrixCSC{Tv,Ti<:Integer}) at linalg/sparse.jl:95\n",
       "*{TvA,TiA,TX}(A::SparseMatrixCSC{TvA,TiA},X::AbstractArray{TX,2}) at linalg/sparse.jl:111\n",
       "*{TvA,TiA}(X::BitArray{2},A::SparseMatrixCSC{TvA,TiA}) at linalg/sparse.jl:126\n",
       "*{TX,TvA,TiA}(X::Tridiagonal{TX},A::SparseMatrixCSC{TvA,TiA}) at linalg/sparse.jl:128\n",
       "*{T<:Number}(x::AbstractArray{T<:Number,N}) at abstractarray.jl:363\n",
       "*(B::Number,A::SymTridiagonal{T}) at linalg/tridiag.jl:60\n",
       "*(B::Number,A::Tridiagonal{T}) at linalg/tridiag.jl:250\n",
       "*{T,S,UpLo,IsUnit}(x::Number,A::Triangular{T,S,UpLo,IsUnit}) at linalg/triangular.jl:167\n",
       "*(B::Number,A::Bidiagonal{T}) at linalg/bidiag.jl:109\n",
       "*(A::Number,B::AbstractArray{T,N}) at abstractarray.jl:367\n",
       "*(A::AbstractArray{T,N},B::Number) at abstractarray.jl:368\n",
       "*(s::String...) at string.jl:76\n",
       "*{T,S<:AbstractArray{T,2},UpLo,IsUnit}(A::AbstractArray{T,2},B::Triangular{T,S<:AbstractArray{T,2},UpLo,IsUnit}) at linalg/triangular.jl:211\n",
       "*{TX,TvA,TiA}(X::AbstractArray{TX,2},A::SparseMatrixCSC{TvA,TiA}) at linalg/sparse.jl:131\n",
       "*{T,S}(A::AbstractArray{T,2},x::AbstractArray{S,1}) at linalg/matmul.jl:71\n",
       "*{T1,T2}(X::AbstractArray{T1,1},A::SparseMatrixCSC{T2,Ti<:Integer}) at linalg/sparse.jl:99\n",
       "*(A::AbstractArray{T,1},B::AbstractArray{T,2}) at linalg/matmul.jl:74\n",
       "*(J1::UniformScaling{T<:Number},J2::UniformScaling{T<:Number}) at linalg/uniformscaling.jl:67\n",
       "*(J::UniformScaling{T<:Number},B::BitArray{2}) at linalg/uniformscaling.jl:69\n",
       "*{Tv,Ti}(J::UniformScaling{T<:Number},S::SparseMatrixCSC{Tv,Ti}) at linalg/uniformscaling.jl:71\n",
       "*(A::AbstractArray{T,2},J::UniformScaling{T<:Number}) at linalg/uniformscaling.jl:72\n",
       "*(J::UniformScaling{T<:Number},A::Union(AbstractArray{T,2},AbstractArray{T,1})) at linalg/uniformscaling.jl:73\n",
       "*(x::Number,J::UniformScaling{T<:Number}) at linalg/uniformscaling.jl:75\n",
       "*(J::UniformScaling{T<:Number},x::Number) at linalg/uniformscaling.jl:76\n",
       "*{Tv<:Float64}(A::CholmodSparse{Tv<:Float64,Int32},B::CholmodSparse{Tv<:Float64,Int32}) at linalg/cholmod.jl:496\n",
       "*{Tv<:Float64}(A::CholmodSparse{Tv<:Float64,Int64},B::CholmodSparse{Tv<:Float64,Int64}) at linalg/cholmod.jl:496\n",
       "*{Tv<:Union(Complex{Float64},Float64)}(A::CholmodSparse{Tv<:Union(Complex{Float64},Float64),Ti<:Union(Int64,Int32)},B::CholmodDense{Tv<:Union(Complex{Float64},Float64)}) at linalg/cholmod.jl:870\n",
       "*{Tv<:Union(Complex{Float64},Float64)}(A::CholmodSparse{Tv<:Union(Complex{Float64},Float64),Ti<:Union(Int64,Int32)},B::Union(Array{Tv<:Union(Complex{Float64},Float64),2},Array{Tv<:Union(Complex{Float64},Float64),1})) at linalg/cholmod.jl:871\n",
       "*(p::Vec2,s::Real) at graphics.jl:62\n",
       "*(bb::BoundingBox,s::Real) at graphics.jl:147\n",
       "*(a,b,c) at operators.jl:82\n",
       "*(a,b,c,xs...) at operators.jl:83"
      ]
     },
     "execution_count": 46,
     "metadata": {},
     "output_type": "execute_result"
    }
   ],
   "source": [
    "methods(*)"
   ]
  },
  {
   "cell_type": "code",
   "execution_count": 47,
   "metadata": {
    "collapsed": false
   },
   "outputs": [
    {
     "data": {
      "text/html": [
       "*<i>{T,S}</i>(A::<b>AbstractArray{T,2}</b>,x::<b>AbstractArray{S,1}</b>) at <a href=\"https://github.com/JuliaLang/julia/tree/0c24dca65c031820b91721139f0291068086955c/base/linalg/matmul.jl#L71\" target=\"_blank\">linalg/matmul.jl:71</a>"
      ],
      "text/plain": [
       "*{T,S}(A::AbstractArray{T,2},x::AbstractArray{S,1}) at linalg/matmul.jl:71"
      ]
     },
     "execution_count": 47,
     "metadata": {},
     "output_type": "execute_result"
    }
   ],
   "source": [
    "@which m * v"
   ]
  },
  {
   "cell_type": "code",
   "execution_count": 1,
   "metadata": {
    "collapsed": false
   },
   "outputs": [
    {
     "name": "stderr",
     "output_type": "stream",
     "text": [
      "Warning: imported binding for ans overwritten in module Main\n"
     ]
    }
   ],
   "source": [
    "m = [2 1; 1 1]\n",
    "w = [1., 1]\n",
    "ans = m * w\n",
    "for i =1:10\n",
    "    ans = m * ans\n",
    "    ans = ans / norm(ans)\n",
    "end"
   ]
  },
  {
   "cell_type": "code",
   "execution_count": 2,
   "metadata": {
    "collapsed": false
   },
   "outputs": [
    {
     "data": {
      "text/plain": [
       "2-element Array{Float64,1}:\n",
       " 2.61803\n",
       " 2.61803"
      ]
     },
     "execution_count": 2,
     "metadata": {},
     "output_type": "execute_result"
    }
   ],
   "source": [
    "m * ans ./ ans"
   ]
  },
  {
   "cell_type": "code",
   "execution_count": 3,
   "metadata": {
    "collapsed": false
   },
   "outputs": [
    {
     "data": {
      "text/plain": [
       "([0.381966,2.61803],\n",
       "2x2 Array{Float64,2}:\n",
       "  0.525731  -0.850651\n",
       " -0.850651  -0.525731)"
      ]
     },
     "execution_count": 3,
     "metadata": {},
     "output_type": "execute_result"
    }
   ],
   "source": [
    "eig(m)"
   ]
  },
  {
   "cell_type": "code",
   "execution_count": 4,
   "metadata": {
    "collapsed": false
   },
   "outputs": [
    {
     "data": {
      "text/plain": [
       "2x2 Array{Float64,2}:\n",
       "  0.525731  -0.850651\n",
       " -0.850651  -0.525731"
      ]
     },
     "execution_count": 4,
     "metadata": {},
     "output_type": "execute_result"
    }
   ],
   "source": [
    "eigvecs(m)"
   ]
  },
  {
   "cell_type": "code",
   "execution_count": 5,
   "metadata": {
    "collapsed": false
   },
   "outputs": [
    {
     "ename": "LoadError",
     "evalue": "t not defined\nwhile loading In[5], in expression starting on line 4",
     "output_type": "error",
     "traceback": [
      "t not defined\nwhile loading In[5], in expression starting on line 4",
      ""
     ]
    }
   ],
   "source": [
    "for i = 1:3\n",
    "    t = 3\n",
    "end\n",
    "t     # variable in a loop is locally defined."
   ]
  },
  {
   "cell_type": "code",
   "execution_count": 6,
   "metadata": {
    "collapsed": false
   },
   "outputs": [
    {
     "name": "stdout",
     "output_type": "stream",
     "text": [
      "Unknown editor: no line number information passed.\n",
      "The method is defined at line 71.\n"
     ]
    }
   ],
   "source": [
    "@edit lu(m)"
   ]
  },
  {
   "cell_type": "code",
   "execution_count": 58,
   "metadata": {
    "collapsed": false
   },
   "outputs": [
    {
     "data": {
      "text/html": [
       "lu(A::<b>AbstractArray{T,2}</b>) at <a href=\"https://github.com/JuliaLang/julia/tree/0c24dca65c031820b91721139f0291068086955c/base/linalg/lu.jl#L71\" target=\"_blank\">linalg/lu.jl:71</a>"
      ],
      "text/plain": [
       "lu(A::AbstractArray{T,2}) at linalg/lu.jl:71"
      ]
     },
     "execution_count": 58,
     "metadata": {},
     "output_type": "execute_result"
    }
   ],
   "source": [
    "@which lu(m)"
   ]
  },
  {
   "cell_type": "code",
   "execution_count": 7,
   "metadata": {
    "collapsed": false
   },
   "outputs": [
    {
     "name": "stdout",
     "output_type": "stream",
     "text": [
      "Fractoal_in_Julia.ipynb\n",
      "Intro_to_Julia.ipynb\n",
      "sierpinski.svg\n"
     ]
    }
   ],
   "source": [
    ";ls"
   ]
  },
  {
   "cell_type": "code",
   "execution_count": 15,
   "metadata": {
    "collapsed": false
   },
   "outputs": [
    {
     "name": "stdout",
     "output_type": "stream",
     "text": [
      "Hello\n"
     ]
    }
   ],
   "source": [
    "a = run(`echo \"Hello\"`)"
   ]
  },
  {
   "cell_type": "code",
   "execution_count": 16,
   "metadata": {
    "collapsed": false
   },
   "outputs": [
    {
     "data": {
      "text/plain": [
       "Nothing (constructor with 1 method)"
      ]
     },
     "execution_count": 16,
     "metadata": {},
     "output_type": "execute_result"
    }
   ],
   "source": [
    "typeof(a)"
   ]
  },
  {
   "cell_type": "code",
   "execution_count": 19,
   "metadata": {
    "collapsed": false
   },
   "outputs": [
    {
     "ename": "LoadError",
     "evalue": "`+` has no method matching +(::ASCIIString, ::ASCIIString)\nwhile loading In[19], in expression starting on line 1",
     "output_type": "error",
     "traceback": [
      "`+` has no method matching +(::ASCIIString, ::ASCIIString)\nwhile loading In[19], in expression starting on line 1",
      ""
     ]
    }
   ],
   "source": [
    "\"a\" + \"ab\""
   ]
  },
  {
   "cell_type": "code",
   "execution_count": 20,
   "metadata": {
    "collapsed": false
   },
   "outputs": [
    {
     "data": {
      "text/html": [
       "117 methods for generic function <b>+</b>:<ul><li> +(x::<b>Bool</b>) at <a href=\"https://github.com/JuliaLang/julia/tree/0c24dca65c031820b91721139f0291068086955c/base/bool.jl#L36\" target=\"_blank\">bool.jl:36</a><li> +(x::<b>Bool</b>,y::<b>Bool</b>) at <a href=\"https://github.com/JuliaLang/julia/tree/0c24dca65c031820b91721139f0291068086955c/base/bool.jl#L39\" target=\"_blank\">bool.jl:39</a><li> +(y::<b>FloatingPoint</b>,x::<b>Bool</b>) at <a href=\"https://github.com/JuliaLang/julia/tree/0c24dca65c031820b91721139f0291068086955c/base/bool.jl#L49\" target=\"_blank\">bool.jl:49</a><li> +(A::<b>BitArray{N}</b>,B::<b>BitArray{N}</b>) at <a href=\"https://github.com/JuliaLang/julia/tree/0c24dca65c031820b91721139f0291068086955c/base/bitarray.jl#L848\" target=\"_blank\">bitarray.jl:848</a><li> +(A::<b>Union(SubArray{Bool,N,A<:DenseArray{T,N},I<:(Union(Range{Int64},Int64)...,)},DenseArray{Bool,N})</b>,B::<b>Union(SubArray{Bool,N,A<:DenseArray{T,N},I<:(Union(Range{Int64},Int64)...,)},DenseArray{Bool,N})</b>) at <a href=\"https://github.com/JuliaLang/julia/tree/0c24dca65c031820b91721139f0291068086955c/base/array.jl#L800\" target=\"_blank\">array.jl:800</a><li> +<i>{S,T}</i>(A::<b>Union(SubArray{S,N,A<:DenseArray{T,N},I<:(Union(Range{Int64},Int64)...,)},DenseArray{S,N})</b>,B::<b>Union(DenseArray{T,N},SubArray{T,N,A<:DenseArray{T,N},I<:(Union(Range{Int64},Int64)...,)})</b>) at <a href=\"https://github.com/JuliaLang/julia/tree/0c24dca65c031820b91721139f0291068086955c/base/array.jl#L722\" target=\"_blank\">array.jl:722</a><li> +<i>{T<:Union(Int32,Int8,Int16)}</i>(x::<b>T<:Union(Int32,Int8,Int16)</b>,y::<b>T<:Union(Int32,Int8,Int16)</b>) at <a href=\"https://github.com/JuliaLang/julia/tree/0c24dca65c031820b91721139f0291068086955c/base/int.jl#L16\" target=\"_blank\">int.jl:16</a><li> +<i>{T<:Union(Uint8,Uint32,Uint16)}</i>(x::<b>T<:Union(Uint8,Uint32,Uint16)</b>,y::<b>T<:Union(Uint8,Uint32,Uint16)</b>) at <a href=\"https://github.com/JuliaLang/julia/tree/0c24dca65c031820b91721139f0291068086955c/base/int.jl#L20\" target=\"_blank\">int.jl:20</a><li> +(x::<b>Int64</b>,y::<b>Int64</b>) at <a href=\"https://github.com/JuliaLang/julia/tree/0c24dca65c031820b91721139f0291068086955c/base/int.jl#L33\" target=\"_blank\">int.jl:33</a><li> +(x::<b>Uint64</b>,y::<b>Uint64</b>) at <a href=\"https://github.com/JuliaLang/julia/tree/0c24dca65c031820b91721139f0291068086955c/base/int.jl#L34\" target=\"_blank\">int.jl:34</a><li> +(x::<b>Int128</b>,y::<b>Int128</b>) at <a href=\"https://github.com/JuliaLang/julia/tree/0c24dca65c031820b91721139f0291068086955c/base/int.jl#L35\" target=\"_blank\">int.jl:35</a><li> +(x::<b>Uint128</b>,y::<b>Uint128</b>) at <a href=\"https://github.com/JuliaLang/julia/tree/0c24dca65c031820b91721139f0291068086955c/base/int.jl#L36\" target=\"_blank\">int.jl:36</a><li> +(x::<b>Float32</b>,y::<b>Float32</b>) at <a href=\"https://github.com/JuliaLang/julia/tree/0c24dca65c031820b91721139f0291068086955c/base/float.jl#L119\" target=\"_blank\">float.jl:119</a><li> +(x::<b>Float64</b>,y::<b>Float64</b>) at <a href=\"https://github.com/JuliaLang/julia/tree/0c24dca65c031820b91721139f0291068086955c/base/float.jl#L120\" target=\"_blank\">float.jl:120</a><li> +(z::<b>Complex{T<:Real}</b>,w::<b>Complex{T<:Real}</b>) at <a href=\"https://github.com/JuliaLang/julia/tree/0c24dca65c031820b91721139f0291068086955c/base/complex.jl#L110\" target=\"_blank\">complex.jl:110</a><li> +(x::<b>Real</b>,z::<b>Complex{T<:Real}</b>) at <a href=\"https://github.com/JuliaLang/julia/tree/0c24dca65c031820b91721139f0291068086955c/base/complex.jl#L120\" target=\"_blank\">complex.jl:120</a><li> +(z::<b>Complex{T<:Real}</b>,x::<b>Real</b>) at <a href=\"https://github.com/JuliaLang/julia/tree/0c24dca65c031820b91721139f0291068086955c/base/complex.jl#L121\" target=\"_blank\">complex.jl:121</a><li> +(x::<b>Rational{T<:Integer}</b>,y::<b>Rational{T<:Integer}</b>) at <a href=\"https://github.com/JuliaLang/julia/tree/0c24dca65c031820b91721139f0291068086955c/base/rational.jl#L113\" target=\"_blank\">rational.jl:113</a><li> +(x::<b>Char</b>,y::<b>Char</b>) at <a href=\"https://github.com/JuliaLang/julia/tree/0c24dca65c031820b91721139f0291068086955c/base/char.jl#L23\" target=\"_blank\">char.jl:23</a><li> +(x::<b>Char</b>,y::<b>Integer</b>) at <a href=\"https://github.com/JuliaLang/julia/tree/0c24dca65c031820b91721139f0291068086955c/base/char.jl#L26\" target=\"_blank\">char.jl:26</a><li> +(x::<b>Integer</b>,y::<b>Char</b>) at <a href=\"https://github.com/JuliaLang/julia/tree/0c24dca65c031820b91721139f0291068086955c/base/char.jl#L27\" target=\"_blank\">char.jl:27</a><li> +(a::<b>Float16</b>,b::<b>Float16</b>) at <a href=\"https://github.com/JuliaLang/julia/tree/0c24dca65c031820b91721139f0291068086955c/base/float16.jl#L132\" target=\"_blank\">float16.jl:132</a><li> +(x::<b>BigInt</b>,y::<b>BigInt</b>) at <a href=\"https://github.com/JuliaLang/julia/tree/0c24dca65c031820b91721139f0291068086955c/base/gmp.jl#L195\" target=\"_blank\">gmp.jl:195</a><li> +(a::<b>BigInt</b>,b::<b>BigInt</b>,c::<b>BigInt</b>) at <a href=\"https://github.com/JuliaLang/julia/tree/0c24dca65c031820b91721139f0291068086955c/base/gmp.jl#L218\" target=\"_blank\">gmp.jl:218</a><li> +(a::<b>BigInt</b>,b::<b>BigInt</b>,c::<b>BigInt</b>,d::<b>BigInt</b>) at <a href=\"https://github.com/JuliaLang/julia/tree/0c24dca65c031820b91721139f0291068086955c/base/gmp.jl#L224\" target=\"_blank\">gmp.jl:224</a><li> +(a::<b>BigInt</b>,b::<b>BigInt</b>,c::<b>BigInt</b>,d::<b>BigInt</b>,e::<b>BigInt</b>) at <a href=\"https://github.com/JuliaLang/julia/tree/0c24dca65c031820b91721139f0291068086955c/base/gmp.jl#L231\" target=\"_blank\">gmp.jl:231</a><li> +(x::<b>BigInt</b>,c::<b>Union(Uint8,Uint32,Uint16,Uint64)</b>) at <a href=\"https://github.com/JuliaLang/julia/tree/0c24dca65c031820b91721139f0291068086955c/base/gmp.jl#L243\" target=\"_blank\">gmp.jl:243</a><li> +(c::<b>Union(Uint8,Uint32,Uint16,Uint64)</b>,x::<b>BigInt</b>) at <a href=\"https://github.com/JuliaLang/julia/tree/0c24dca65c031820b91721139f0291068086955c/base/gmp.jl#L247\" target=\"_blank\">gmp.jl:247</a><li> +(x::<b>BigInt</b>,c::<b>Union(Int32,Int64,Int8,Int16)</b>) at <a href=\"https://github.com/JuliaLang/julia/tree/0c24dca65c031820b91721139f0291068086955c/base/gmp.jl#L259\" target=\"_blank\">gmp.jl:259</a><li> +(c::<b>Union(Int32,Int64,Int8,Int16)</b>,x::<b>BigInt</b>) at <a href=\"https://github.com/JuliaLang/julia/tree/0c24dca65c031820b91721139f0291068086955c/base/gmp.jl#L260\" target=\"_blank\">gmp.jl:260</a><li> +(x::<b>BigFloat</b>,y::<b>BigFloat</b>) at <a href=\"https://github.com/JuliaLang/julia/tree/0c24dca65c031820b91721139f0291068086955c/base/mpfr.jl#L149\" target=\"_blank\">mpfr.jl:149</a><li> +(x::<b>BigFloat</b>,c::<b>Union(Uint8,Uint32,Uint16,Uint64)</b>) at <a href=\"https://github.com/JuliaLang/julia/tree/0c24dca65c031820b91721139f0291068086955c/base/mpfr.jl#L156\" target=\"_blank\">mpfr.jl:156</a><li> +(c::<b>Union(Uint8,Uint32,Uint16,Uint64)</b>,x::<b>BigFloat</b>) at <a href=\"https://github.com/JuliaLang/julia/tree/0c24dca65c031820b91721139f0291068086955c/base/mpfr.jl#L160\" target=\"_blank\">mpfr.jl:160</a><li> +(x::<b>BigFloat</b>,c::<b>Union(Int32,Int64,Int8,Int16)</b>) at <a href=\"https://github.com/JuliaLang/julia/tree/0c24dca65c031820b91721139f0291068086955c/base/mpfr.jl#L164\" target=\"_blank\">mpfr.jl:164</a><li> +(c::<b>Union(Int32,Int64,Int8,Int16)</b>,x::<b>BigFloat</b>) at <a href=\"https://github.com/JuliaLang/julia/tree/0c24dca65c031820b91721139f0291068086955c/base/mpfr.jl#L168\" target=\"_blank\">mpfr.jl:168</a><li> +(x::<b>BigFloat</b>,c::<b>Union(Float16,Float64,Float32)</b>) at <a href=\"https://github.com/JuliaLang/julia/tree/0c24dca65c031820b91721139f0291068086955c/base/mpfr.jl#L172\" target=\"_blank\">mpfr.jl:172</a><li> +(c::<b>Union(Float16,Float64,Float32)</b>,x::<b>BigFloat</b>) at <a href=\"https://github.com/JuliaLang/julia/tree/0c24dca65c031820b91721139f0291068086955c/base/mpfr.jl#L176\" target=\"_blank\">mpfr.jl:176</a><li> +(x::<b>BigFloat</b>,c::<b>BigInt</b>) at <a href=\"https://github.com/JuliaLang/julia/tree/0c24dca65c031820b91721139f0291068086955c/base/mpfr.jl#L180\" target=\"_blank\">mpfr.jl:180</a><li> +(c::<b>BigInt</b>,x::<b>BigFloat</b>) at <a href=\"https://github.com/JuliaLang/julia/tree/0c24dca65c031820b91721139f0291068086955c/base/mpfr.jl#L184\" target=\"_blank\">mpfr.jl:184</a><li> +(a::<b>BigFloat</b>,b::<b>BigFloat</b>,c::<b>BigFloat</b>) at <a href=\"https://github.com/JuliaLang/julia/tree/0c24dca65c031820b91721139f0291068086955c/base/mpfr.jl#L255\" target=\"_blank\">mpfr.jl:255</a><li> +(a::<b>BigFloat</b>,b::<b>BigFloat</b>,c::<b>BigFloat</b>,d::<b>BigFloat</b>) at <a href=\"https://github.com/JuliaLang/julia/tree/0c24dca65c031820b91721139f0291068086955c/base/mpfr.jl#L261\" target=\"_blank\">mpfr.jl:261</a><li> +(a::<b>BigFloat</b>,b::<b>BigFloat</b>,c::<b>BigFloat</b>,d::<b>BigFloat</b>,e::<b>BigFloat</b>) at <a href=\"https://github.com/JuliaLang/julia/tree/0c24dca65c031820b91721139f0291068086955c/base/mpfr.jl#L268\" target=\"_blank\">mpfr.jl:268</a><li> +(x::<b>MathConst{sym}</b>,y::<b>MathConst{sym}</b>) at <a href=\"https://github.com/JuliaLang/julia/tree/0c24dca65c031820b91721139f0291068086955c/base/constants.jl#L23\" target=\"_blank\">constants.jl:23</a><li> +<i>{T<:Number}</i>(x::<b>T<:Number</b>,y::<b>T<:Number</b>) at <a href=\"https://github.com/JuliaLang/julia/tree/0c24dca65c031820b91721139f0291068086955c/base/promotion.jl#L188\" target=\"_blank\">promotion.jl:188</a><li> +<i>{T<:FloatingPoint}</i>(x::<b>Bool</b>,y::<b>T<:FloatingPoint</b>) at <a href=\"https://github.com/JuliaLang/julia/tree/0c24dca65c031820b91721139f0291068086955c/base/bool.jl#L46\" target=\"_blank\">bool.jl:46</a><li> +(x::<b>Number</b>,y::<b>Number</b>) at <a href=\"https://github.com/JuliaLang/julia/tree/0c24dca65c031820b91721139f0291068086955c/base/promotion.jl#L158\" target=\"_blank\">promotion.jl:158</a><li> +(x::<b>Integer</b>,y::<b>Ptr{T}</b>) at <a href=\"https://github.com/JuliaLang/julia/tree/0c24dca65c031820b91721139f0291068086955c/base/pointer.jl#L68\" target=\"_blank\">pointer.jl:68</a><li> +(x::<b>Bool</b>,A::<b>AbstractArray{Bool,N}</b>) at <a href=\"https://github.com/JuliaLang/julia/tree/0c24dca65c031820b91721139f0291068086955c/base/array.jl#L770\" target=\"_blank\">array.jl:770</a><li> +(x::<b>Number</b>) at <a href=\"https://github.com/JuliaLang/julia/tree/0c24dca65c031820b91721139f0291068086955c/base/operators.jl#L71\" target=\"_blank\">operators.jl:71</a><li> +(r1::<b>OrdinalRange{T,S}</b>,r2::<b>OrdinalRange{T,S}</b>) at <a href=\"https://github.com/JuliaLang/julia/tree/0c24dca65c031820b91721139f0291068086955c/base/operators.jl#L325\" target=\"_blank\">operators.jl:325</a><li> +<i>{T<:FloatingPoint}</i>(r1::<b>FloatRange{T<:FloatingPoint}</b>,r2::<b>FloatRange{T<:FloatingPoint}</b>) at <a href=\"https://github.com/JuliaLang/julia/tree/0c24dca65c031820b91721139f0291068086955c/base/operators.jl#L331\" target=\"_blank\">operators.jl:331</a><li> +(r1::<b>FloatRange{T<:FloatingPoint}</b>,r2::<b>FloatRange{T<:FloatingPoint}</b>) at <a href=\"https://github.com/JuliaLang/julia/tree/0c24dca65c031820b91721139f0291068086955c/base/operators.jl#L348\" target=\"_blank\">operators.jl:348</a><li> +(r1::<b>FloatRange{T<:FloatingPoint}</b>,r2::<b>OrdinalRange{T,S}</b>) at <a href=\"https://github.com/JuliaLang/julia/tree/0c24dca65c031820b91721139f0291068086955c/base/operators.jl#L349\" target=\"_blank\">operators.jl:349</a><li> +(r1::<b>OrdinalRange{T,S}</b>,r2::<b>FloatRange{T<:FloatingPoint}</b>) at <a href=\"https://github.com/JuliaLang/julia/tree/0c24dca65c031820b91721139f0291068086955c/base/operators.jl#L350\" target=\"_blank\">operators.jl:350</a><li> +(x::<b>Ptr{T}</b>,y::<b>Integer</b>) at <a href=\"https://github.com/JuliaLang/julia/tree/0c24dca65c031820b91721139f0291068086955c/base/pointer.jl#L66\" target=\"_blank\">pointer.jl:66</a><li> +<i>{S,T<:Real}</i>(A::<b>Union(SubArray{S,N,A<:DenseArray{T,N},I<:(Union(Range{Int64},Int64)...,)},DenseArray{S,N})</b>,B::<b>Range{T<:Real}</b>) at <a href=\"https://github.com/JuliaLang/julia/tree/0c24dca65c031820b91721139f0291068086955c/base/array.jl#L730\" target=\"_blank\">array.jl:730</a><li> +<i>{S<:Real,T}</i>(A::<b>Range{S<:Real}</b>,B::<b>Union(DenseArray{T,N},SubArray{T,N,A<:DenseArray{T,N},I<:(Union(Range{Int64},Int64)...,)})</b>) at <a href=\"https://github.com/JuliaLang/julia/tree/0c24dca65c031820b91721139f0291068086955c/base/array.jl#L739\" target=\"_blank\">array.jl:739</a><li> +(A::<b>AbstractArray{Bool,N}</b>,x::<b>Bool</b>) at <a href=\"https://github.com/JuliaLang/julia/tree/0c24dca65c031820b91721139f0291068086955c/base/array.jl#L769\" target=\"_blank\">array.jl:769</a><li> +<i>{Tv,Ti}</i>(A::<b>SparseMatrixCSC{Tv,Ti}</b>,B::<b>SparseMatrixCSC{Tv,Ti}</b>) at <a href=\"https://github.com/JuliaLang/julia/tree/0c24dca65c031820b91721139f0291068086955c/base/sparse/sparsematrix.jl#L541\" target=\"_blank\">sparse/sparsematrix.jl:541</a><li> +<i>{TvA,TiA,TvB,TiB}</i>(A::<b>SparseMatrixCSC{TvA,TiA}</b>,B::<b>SparseMatrixCSC{TvB,TiB}</b>) at <a href=\"https://github.com/JuliaLang/julia/tree/0c24dca65c031820b91721139f0291068086955c/base/sparse/sparsematrix.jl#L533\" target=\"_blank\">sparse/sparsematrix.jl:533</a><li> +(A::<b>SparseMatrixCSC{Tv,Ti<:Integer}</b>,B::<b>Array{T,N}</b>) at <a href=\"https://github.com/JuliaLang/julia/tree/0c24dca65c031820b91721139f0291068086955c/base/sparse/sparsematrix.jl#L632\" target=\"_blank\">sparse/sparsematrix.jl:632</a><li> +(A::<b>Array{T,N}</b>,B::<b>SparseMatrixCSC{Tv,Ti<:Integer}</b>) at <a href=\"https://github.com/JuliaLang/julia/tree/0c24dca65c031820b91721139f0291068086955c/base/sparse/sparsematrix.jl#L634\" target=\"_blank\">sparse/sparsematrix.jl:634</a><li> +(A::<b>SymTridiagonal{T}</b>,B::<b>SymTridiagonal{T}</b>) at <a href=\"https://github.com/JuliaLang/julia/tree/0c24dca65c031820b91721139f0291068086955c/base/linalg/tridiag.jl#L57\" target=\"_blank\">linalg/tridiag.jl:57</a><li> +(A::<b>Tridiagonal{T}</b>,B::<b>Tridiagonal{T}</b>) at <a href=\"https://github.com/JuliaLang/julia/tree/0c24dca65c031820b91721139f0291068086955c/base/linalg/tridiag.jl#L247\" target=\"_blank\">linalg/tridiag.jl:247</a><li> +(A::<b>Tridiagonal{T}</b>,B::<b>SymTridiagonal{T}</b>) at <a href=\"https://github.com/JuliaLang/julia/tree/0c24dca65c031820b91721139f0291068086955c/base/linalg/special.jl#L99\" target=\"_blank\">linalg/special.jl:99</a><li> +(A::<b>SymTridiagonal{T}</b>,B::<b>Tridiagonal{T}</b>) at <a href=\"https://github.com/JuliaLang/julia/tree/0c24dca65c031820b91721139f0291068086955c/base/linalg/special.jl#L98\" target=\"_blank\">linalg/special.jl:98</a><li> +<i>{T,MT,uplo}</i>(A::<b>Triangular{T,MT,uplo,IsUnit}</b>,B::<b>Triangular{T,MT,uplo,IsUnit}</b>) at <a href=\"https://github.com/JuliaLang/julia/tree/0c24dca65c031820b91721139f0291068086955c/base/linalg/triangular.jl#L11\" target=\"_blank\">linalg/triangular.jl:11</a><li> +<i>{T,MT,uplo1,uplo2}</i>(A::<b>Triangular{T,MT,uplo1,IsUnit}</b>,B::<b>Triangular{T,MT,uplo2,IsUnit}</b>) at <a href=\"https://github.com/JuliaLang/julia/tree/0c24dca65c031820b91721139f0291068086955c/base/linalg/triangular.jl#L12\" target=\"_blank\">linalg/triangular.jl:12</a><li> +(Da::<b>Diagonal{T}</b>,Db::<b>Diagonal{T}</b>) at <a href=\"https://github.com/JuliaLang/julia/tree/0c24dca65c031820b91721139f0291068086955c/base/linalg/diagonal.jl#L47\" target=\"_blank\">linalg/diagonal.jl:47</a><li> +(A::<b>Bidiagonal{T}</b>,B::<b>Bidiagonal{T}</b>) at <a href=\"https://github.com/JuliaLang/julia/tree/0c24dca65c031820b91721139f0291068086955c/base/linalg/bidiag.jl#L92\" target=\"_blank\">linalg/bidiag.jl:92</a><li> +<i>{T}</i>(B::<b>BitArray{2}</b>,J::<b>UniformScaling{T}</b>) at <a href=\"https://github.com/JuliaLang/julia/tree/0c24dca65c031820b91721139f0291068086955c/base/linalg/uniformscaling.jl#L26\" target=\"_blank\">linalg/uniformscaling.jl:26</a><li> +(A::<b>Diagonal{T}</b>,B::<b>Bidiagonal{T}</b>) at <a href=\"https://github.com/JuliaLang/julia/tree/0c24dca65c031820b91721139f0291068086955c/base/linalg/special.jl#L89\" target=\"_blank\">linalg/special.jl:89</a><li> +(A::<b>Bidiagonal{T}</b>,B::<b>Diagonal{T}</b>) at <a href=\"https://github.com/JuliaLang/julia/tree/0c24dca65c031820b91721139f0291068086955c/base/linalg/special.jl#L90\" target=\"_blank\">linalg/special.jl:90</a><li> +(A::<b>Diagonal{T}</b>,B::<b>Tridiagonal{T}</b>) at <a href=\"https://github.com/JuliaLang/julia/tree/0c24dca65c031820b91721139f0291068086955c/base/linalg/special.jl#L89\" target=\"_blank\">linalg/special.jl:89</a><li> +(A::<b>Tridiagonal{T}</b>,B::<b>Diagonal{T}</b>) at <a href=\"https://github.com/JuliaLang/julia/tree/0c24dca65c031820b91721139f0291068086955c/base/linalg/special.jl#L90\" target=\"_blank\">linalg/special.jl:90</a><li> +(A::<b>Diagonal{T}</b>,B::<b>Triangular{T,S<:AbstractArray{T,2},UpLo,IsUnit}</b>) at <a href=\"https://github.com/JuliaLang/julia/tree/0c24dca65c031820b91721139f0291068086955c/base/linalg/special.jl#L89\" target=\"_blank\">linalg/special.jl:89</a><li> +(A::<b>Triangular{T,S<:AbstractArray{T,2},UpLo,IsUnit}</b>,B::<b>Diagonal{T}</b>) at <a href=\"https://github.com/JuliaLang/julia/tree/0c24dca65c031820b91721139f0291068086955c/base/linalg/special.jl#L90\" target=\"_blank\">linalg/special.jl:90</a><li> +(A::<b>Diagonal{T}</b>,B::<b>Array{T,2}</b>) at <a href=\"https://github.com/JuliaLang/julia/tree/0c24dca65c031820b91721139f0291068086955c/base/linalg/special.jl#L89\" target=\"_blank\">linalg/special.jl:89</a><li> +(A::<b>Array{T,2}</b>,B::<b>Diagonal{T}</b>) at <a href=\"https://github.com/JuliaLang/julia/tree/0c24dca65c031820b91721139f0291068086955c/base/linalg/special.jl#L90\" target=\"_blank\">linalg/special.jl:90</a><li> +(A::<b>Bidiagonal{T}</b>,B::<b>Tridiagonal{T}</b>) at <a href=\"https://github.com/JuliaLang/julia/tree/0c24dca65c031820b91721139f0291068086955c/base/linalg/special.jl#L89\" target=\"_blank\">linalg/special.jl:89</a><li> +(A::<b>Tridiagonal{T}</b>,B::<b>Bidiagonal{T}</b>) at <a href=\"https://github.com/JuliaLang/julia/tree/0c24dca65c031820b91721139f0291068086955c/base/linalg/special.jl#L90\" target=\"_blank\">linalg/special.jl:90</a><li> +(A::<b>Bidiagonal{T}</b>,B::<b>Triangular{T,S<:AbstractArray{T,2},UpLo,IsUnit}</b>) at <a href=\"https://github.com/JuliaLang/julia/tree/0c24dca65c031820b91721139f0291068086955c/base/linalg/special.jl#L89\" target=\"_blank\">linalg/special.jl:89</a><li> +(A::<b>Triangular{T,S<:AbstractArray{T,2},UpLo,IsUnit}</b>,B::<b>Bidiagonal{T}</b>) at <a href=\"https://github.com/JuliaLang/julia/tree/0c24dca65c031820b91721139f0291068086955c/base/linalg/special.jl#L90\" target=\"_blank\">linalg/special.jl:90</a><li> +(A::<b>Bidiagonal{T}</b>,B::<b>Array{T,2}</b>) at <a href=\"https://github.com/JuliaLang/julia/tree/0c24dca65c031820b91721139f0291068086955c/base/linalg/special.jl#L89\" target=\"_blank\">linalg/special.jl:89</a><li> +(A::<b>Array{T,2}</b>,B::<b>Bidiagonal{T}</b>) at <a href=\"https://github.com/JuliaLang/julia/tree/0c24dca65c031820b91721139f0291068086955c/base/linalg/special.jl#L90\" target=\"_blank\">linalg/special.jl:90</a><li> +(A::<b>Tridiagonal{T}</b>,B::<b>Triangular{T,S<:AbstractArray{T,2},UpLo,IsUnit}</b>) at <a href=\"https://github.com/JuliaLang/julia/tree/0c24dca65c031820b91721139f0291068086955c/base/linalg/special.jl#L89\" target=\"_blank\">linalg/special.jl:89</a><li> +(A::<b>Triangular{T,S<:AbstractArray{T,2},UpLo,IsUnit}</b>,B::<b>Tridiagonal{T}</b>) at <a href=\"https://github.com/JuliaLang/julia/tree/0c24dca65c031820b91721139f0291068086955c/base/linalg/special.jl#L90\" target=\"_blank\">linalg/special.jl:90</a><li> +(A::<b>Tridiagonal{T}</b>,B::<b>Array{T,2}</b>) at <a href=\"https://github.com/JuliaLang/julia/tree/0c24dca65c031820b91721139f0291068086955c/base/linalg/special.jl#L89\" target=\"_blank\">linalg/special.jl:89</a><li> +(A::<b>Array{T,2}</b>,B::<b>Tridiagonal{T}</b>) at <a href=\"https://github.com/JuliaLang/julia/tree/0c24dca65c031820b91721139f0291068086955c/base/linalg/special.jl#L90\" target=\"_blank\">linalg/special.jl:90</a><li> +(A::<b>Triangular{T,S<:AbstractArray{T,2},UpLo,IsUnit}</b>,B::<b>Array{T,2}</b>) at <a href=\"https://github.com/JuliaLang/julia/tree/0c24dca65c031820b91721139f0291068086955c/base/linalg/special.jl#L89\" target=\"_blank\">linalg/special.jl:89</a><li> +(A::<b>Array{T,2}</b>,B::<b>Triangular{T,S<:AbstractArray{T,2},UpLo,IsUnit}</b>) at <a href=\"https://github.com/JuliaLang/julia/tree/0c24dca65c031820b91721139f0291068086955c/base/linalg/special.jl#L90\" target=\"_blank\">linalg/special.jl:90</a><li> +(A::<b>SymTridiagonal{T}</b>,B::<b>Triangular{T,S<:AbstractArray{T,2},UpLo,IsUnit}</b>) at <a href=\"https://github.com/JuliaLang/julia/tree/0c24dca65c031820b91721139f0291068086955c/base/linalg/special.jl#L98\" target=\"_blank\">linalg/special.jl:98</a><li> +(A::<b>Triangular{T,S<:AbstractArray{T,2},UpLo,IsUnit}</b>,B::<b>SymTridiagonal{T}</b>) at <a href=\"https://github.com/JuliaLang/julia/tree/0c24dca65c031820b91721139f0291068086955c/base/linalg/special.jl#L99\" target=\"_blank\">linalg/special.jl:99</a><li> +(A::<b>SymTridiagonal{T}</b>,B::<b>Array{T,2}</b>) at <a href=\"https://github.com/JuliaLang/julia/tree/0c24dca65c031820b91721139f0291068086955c/base/linalg/special.jl#L98\" target=\"_blank\">linalg/special.jl:98</a><li> +(A::<b>Array{T,2}</b>,B::<b>SymTridiagonal{T}</b>) at <a href=\"https://github.com/JuliaLang/julia/tree/0c24dca65c031820b91721139f0291068086955c/base/linalg/special.jl#L99\" target=\"_blank\">linalg/special.jl:99</a><li> +(A::<b>Diagonal{T}</b>,B::<b>SymTridiagonal{T}</b>) at <a href=\"https://github.com/JuliaLang/julia/tree/0c24dca65c031820b91721139f0291068086955c/base/linalg/special.jl#L107\" target=\"_blank\">linalg/special.jl:107</a><li> +(A::<b>SymTridiagonal{T}</b>,B::<b>Diagonal{T}</b>) at <a href=\"https://github.com/JuliaLang/julia/tree/0c24dca65c031820b91721139f0291068086955c/base/linalg/special.jl#L108\" target=\"_blank\">linalg/special.jl:108</a><li> +(A::<b>Bidiagonal{T}</b>,B::<b>SymTridiagonal{T}</b>) at <a href=\"https://github.com/JuliaLang/julia/tree/0c24dca65c031820b91721139f0291068086955c/base/linalg/special.jl#L107\" target=\"_blank\">linalg/special.jl:107</a><li> +(A::<b>SymTridiagonal{T}</b>,B::<b>Bidiagonal{T}</b>) at <a href=\"https://github.com/JuliaLang/julia/tree/0c24dca65c031820b91721139f0291068086955c/base/linalg/special.jl#L108\" target=\"_blank\">linalg/special.jl:108</a><li> +<i>{T<:Number}</i>(x::<b>AbstractArray{T<:Number,N}</b>) at <a href=\"https://github.com/JuliaLang/julia/tree/0c24dca65c031820b91721139f0291068086955c/base/abstractarray.jl#L362\" target=\"_blank\">abstractarray.jl:362</a><li> +(A::<b>AbstractArray{T,N}</b>,x::<b>Number</b>) at <a href=\"https://github.com/JuliaLang/julia/tree/0c24dca65c031820b91721139f0291068086955c/base/array.jl#L773\" target=\"_blank\">array.jl:773</a><li> +(x::<b>Number</b>,A::<b>AbstractArray{T,N}</b>) at <a href=\"https://github.com/JuliaLang/julia/tree/0c24dca65c031820b91721139f0291068086955c/base/array.jl#L774\" target=\"_blank\">array.jl:774</a><li> +(J1::<b>UniformScaling{T<:Number}</b>,J2::<b>UniformScaling{T<:Number}</b>) at <a href=\"https://github.com/JuliaLang/julia/tree/0c24dca65c031820b91721139f0291068086955c/base/linalg/uniformscaling.jl#L25\" target=\"_blank\">linalg/uniformscaling.jl:25</a><li> +(J::<b>UniformScaling{T<:Number}</b>,B::<b>BitArray{2}</b>) at <a href=\"https://github.com/JuliaLang/julia/tree/0c24dca65c031820b91721139f0291068086955c/base/linalg/uniformscaling.jl#L27\" target=\"_blank\">linalg/uniformscaling.jl:27</a><li> +(J::<b>UniformScaling{T<:Number}</b>,A::<b>AbstractArray{T,2}</b>) at <a href=\"https://github.com/JuliaLang/julia/tree/0c24dca65c031820b91721139f0291068086955c/base/linalg/uniformscaling.jl#L28\" target=\"_blank\">linalg/uniformscaling.jl:28</a><li> +(J::<b>UniformScaling{T<:Number}</b>,x::<b>Number</b>) at <a href=\"https://github.com/JuliaLang/julia/tree/0c24dca65c031820b91721139f0291068086955c/base/linalg/uniformscaling.jl#L29\" target=\"_blank\">linalg/uniformscaling.jl:29</a><li> +(x::<b>Number</b>,J::<b>UniformScaling{T<:Number}</b>) at <a href=\"https://github.com/JuliaLang/julia/tree/0c24dca65c031820b91721139f0291068086955c/base/linalg/uniformscaling.jl#L30\" target=\"_blank\">linalg/uniformscaling.jl:30</a><li> +<i>{TA,TJ}</i>(A::<b>AbstractArray{TA,2}</b>,J::<b>UniformScaling{TJ}</b>) at <a href=\"https://github.com/JuliaLang/julia/tree/0c24dca65c031820b91721139f0291068086955c/base/linalg/uniformscaling.jl#L33\" target=\"_blank\">linalg/uniformscaling.jl:33</a><li> +<i>{T}</i>(a::<b>HierarchicalValue{T}</b>,b::<b>HierarchicalValue{T}</b>) at <a href=\"https://github.com/JuliaLang/julia/tree/0c24dca65c031820b91721139f0291068086955c/base/pkg/resolve/versionweight.jl#L19\" target=\"_blank\">pkg/resolve/versionweight.jl:19</a><li> +(a::<b>VWPreBuildItem</b>,b::<b>VWPreBuildItem</b>) at <a href=\"https://github.com/JuliaLang/julia/tree/0c24dca65c031820b91721139f0291068086955c/base/pkg/resolve/versionweight.jl#L82\" target=\"_blank\">pkg/resolve/versionweight.jl:82</a><li> +(a::<b>VWPreBuild</b>,b::<b>VWPreBuild</b>) at <a href=\"https://github.com/JuliaLang/julia/tree/0c24dca65c031820b91721139f0291068086955c/base/pkg/resolve/versionweight.jl#L120\" target=\"_blank\">pkg/resolve/versionweight.jl:120</a><li> +(a::<b>VersionWeight</b>,b::<b>VersionWeight</b>) at <a href=\"https://github.com/JuliaLang/julia/tree/0c24dca65c031820b91721139f0291068086955c/base/pkg/resolve/versionweight.jl#L164\" target=\"_blank\">pkg/resolve/versionweight.jl:164</a><li> +(a::<b>FieldValue</b>,b::<b>FieldValue</b>) at <a href=\"https://github.com/JuliaLang/julia/tree/0c24dca65c031820b91721139f0291068086955c/base/pkg/resolve/fieldvalue.jl#L41\" target=\"_blank\">pkg/resolve/fieldvalue.jl:41</a><li> +(a::<b>Vec2</b>,b::<b>Vec2</b>) at <a href=\"https://github.com/JuliaLang/julia/tree/0c24dca65c031820b91721139f0291068086955c/base/graphics.jl#L60\" target=\"_blank\">graphics.jl:60</a><li> +(bb1::<b>BoundingBox</b>,bb2::<b>BoundingBox</b>) at <a href=\"https://github.com/JuliaLang/julia/tree/0c24dca65c031820b91721139f0291068086955c/base/graphics.jl#L123\" target=\"_blank\">graphics.jl:123</a><li> +(a,b,c) at <a href=\"https://github.com/JuliaLang/julia/tree/0c24dca65c031820b91721139f0291068086955c/base/operators.jl#L82\" target=\"_blank\">operators.jl:82</a><li> +(a,b,c,xs...) at <a href=\"https://github.com/JuliaLang/julia/tree/0c24dca65c031820b91721139f0291068086955c/base/operators.jl#L83\" target=\"_blank\">operators.jl:83</a></ul>"
      ],
      "text/plain": [
       "# 117 methods for generic function \"+\":\n",
       "+(x::Bool) at bool.jl:36\n",
       "+(x::Bool,y::Bool) at bool.jl:39\n",
       "+(y::FloatingPoint,x::Bool) at bool.jl:49\n",
       "+(A::BitArray{N},B::BitArray{N}) at bitarray.jl:848\n",
       "+(A::Union(SubArray{Bool,N,A<:DenseArray{T,N},I<:(Union(Range{Int64},Int64)...,)},DenseArray{Bool,N}),B::Union(SubArray{Bool,N,A<:DenseArray{T,N},I<:(Union(Range{Int64},Int64)...,)},DenseArray{Bool,N})) at array.jl:800\n",
       "+{S,T}(A::Union(SubArray{S,N,A<:DenseArray{T,N},I<:(Union(Range{Int64},Int64)...,)},DenseArray{S,N}),B::Union(DenseArray{T,N},SubArray{T,N,A<:DenseArray{T,N},I<:(Union(Range{Int64},Int64)...,)})) at array.jl:722\n",
       "+{T<:Union(Int32,Int8,Int16)}(x::T<:Union(Int32,Int8,Int16),y::T<:Union(Int32,Int8,Int16)) at int.jl:16\n",
       "+{T<:Union(Uint8,Uint32,Uint16)}(x::T<:Union(Uint8,Uint32,Uint16),y::T<:Union(Uint8,Uint32,Uint16)) at int.jl:20\n",
       "+(x::Int64,y::Int64) at int.jl:33\n",
       "+(x::Uint64,y::Uint64) at int.jl:34\n",
       "+(x::Int128,y::Int128) at int.jl:35\n",
       "+(x::Uint128,y::Uint128) at int.jl:36\n",
       "+(x::Float32,y::Float32) at float.jl:119\n",
       "+(x::Float64,y::Float64) at float.jl:120\n",
       "+(z::Complex{T<:Real},w::Complex{T<:Real}) at complex.jl:110\n",
       "+(x::Real,z::Complex{T<:Real}) at complex.jl:120\n",
       "+(z::Complex{T<:Real},x::Real) at complex.jl:121\n",
       "+(x::Rational{T<:Integer},y::Rational{T<:Integer}) at rational.jl:113\n",
       "+(x::Char,y::Char) at char.jl:23\n",
       "+(x::Char,y::Integer) at char.jl:26\n",
       "+(x::Integer,y::Char) at char.jl:27\n",
       "+(a::Float16,b::Float16) at float16.jl:132\n",
       "+(x::BigInt,y::BigInt) at gmp.jl:195\n",
       "+(a::BigInt,b::BigInt,c::BigInt) at gmp.jl:218\n",
       "+(a::BigInt,b::BigInt,c::BigInt,d::BigInt) at gmp.jl:224\n",
       "+(a::BigInt,b::BigInt,c::BigInt,d::BigInt,e::BigInt) at gmp.jl:231\n",
       "+(x::BigInt,c::Union(Uint8,Uint32,Uint16,Uint64)) at gmp.jl:243\n",
       "+(c::Union(Uint8,Uint32,Uint16,Uint64),x::BigInt) at gmp.jl:247\n",
       "+(x::BigInt,c::Union(Int32,Int64,Int8,Int16)) at gmp.jl:259\n",
       "+(c::Union(Int32,Int64,Int8,Int16),x::BigInt) at gmp.jl:260\n",
       "+(x::BigFloat,y::BigFloat) at mpfr.jl:149\n",
       "+(x::BigFloat,c::Union(Uint8,Uint32,Uint16,Uint64)) at mpfr.jl:156\n",
       "+(c::Union(Uint8,Uint32,Uint16,Uint64),x::BigFloat) at mpfr.jl:160\n",
       "+(x::BigFloat,c::Union(Int32,Int64,Int8,Int16)) at mpfr.jl:164\n",
       "+(c::Union(Int32,Int64,Int8,Int16),x::BigFloat) at mpfr.jl:168\n",
       "+(x::BigFloat,c::Union(Float16,Float64,Float32)) at mpfr.jl:172\n",
       "+(c::Union(Float16,Float64,Float32),x::BigFloat) at mpfr.jl:176\n",
       "+(x::BigFloat,c::BigInt) at mpfr.jl:180\n",
       "+(c::BigInt,x::BigFloat) at mpfr.jl:184\n",
       "+(a::BigFloat,b::BigFloat,c::BigFloat) at mpfr.jl:255\n",
       "+(a::BigFloat,b::BigFloat,c::BigFloat,d::BigFloat) at mpfr.jl:261\n",
       "+(a::BigFloat,b::BigFloat,c::BigFloat,d::BigFloat,e::BigFloat) at mpfr.jl:268\n",
       "+(x::MathConst{sym},y::MathConst{sym}) at constants.jl:23\n",
       "+{T<:Number}(x::T<:Number,y::T<:Number) at promotion.jl:188\n",
       "+{T<:FloatingPoint}(x::Bool,y::T<:FloatingPoint) at bool.jl:46\n",
       "+(x::Number,y::Number) at promotion.jl:158\n",
       "+(x::Integer,y::Ptr{T}) at pointer.jl:68\n",
       "+(x::Bool,A::AbstractArray{Bool,N}) at array.jl:770\n",
       "+(x::Number) at operators.jl:71\n",
       "+(r1::OrdinalRange{T,S},r2::OrdinalRange{T,S}) at operators.jl:325\n",
       "+{T<:FloatingPoint}(r1::FloatRange{T<:FloatingPoint},r2::FloatRange{T<:FloatingPoint}) at operators.jl:331\n",
       "+(r1::FloatRange{T<:FloatingPoint},r2::FloatRange{T<:FloatingPoint}) at operators.jl:348\n",
       "+(r1::FloatRange{T<:FloatingPoint},r2::OrdinalRange{T,S}) at operators.jl:349\n",
       "+(r1::OrdinalRange{T,S},r2::FloatRange{T<:FloatingPoint}) at operators.jl:350\n",
       "+(x::Ptr{T},y::Integer) at pointer.jl:66\n",
       "+{S,T<:Real}(A::Union(SubArray{S,N,A<:DenseArray{T,N},I<:(Union(Range{Int64},Int64)...,)},DenseArray{S,N}),B::Range{T<:Real}) at array.jl:730\n",
       "+{S<:Real,T}(A::Range{S<:Real},B::Union(DenseArray{T,N},SubArray{T,N,A<:DenseArray{T,N},I<:(Union(Range{Int64},Int64)...,)})) at array.jl:739\n",
       "+(A::AbstractArray{Bool,N},x::Bool) at array.jl:769\n",
       "+{Tv,Ti}(A::SparseMatrixCSC{Tv,Ti},B::SparseMatrixCSC{Tv,Ti}) at sparse/sparsematrix.jl:541\n",
       "+{TvA,TiA,TvB,TiB}(A::SparseMatrixCSC{TvA,TiA},B::SparseMatrixCSC{TvB,TiB}) at sparse/sparsematrix.jl:533\n",
       "+(A::SparseMatrixCSC{Tv,Ti<:Integer},B::Array{T,N}) at sparse/sparsematrix.jl:632\n",
       "+(A::Array{T,N},B::SparseMatrixCSC{Tv,Ti<:Integer}) at sparse/sparsematrix.jl:634\n",
       "+(A::SymTridiagonal{T},B::SymTridiagonal{T}) at linalg/tridiag.jl:57\n",
       "+(A::Tridiagonal{T},B::Tridiagonal{T}) at linalg/tridiag.jl:247\n",
       "+(A::Tridiagonal{T},B::SymTridiagonal{T}) at linalg/special.jl:99\n",
       "+(A::SymTridiagonal{T},B::Tridiagonal{T}) at linalg/special.jl:98\n",
       "+{T,MT,uplo}(A::Triangular{T,MT,uplo,IsUnit},B::Triangular{T,MT,uplo,IsUnit}) at linalg/triangular.jl:11\n",
       "+{T,MT,uplo1,uplo2}(A::Triangular{T,MT,uplo1,IsUnit},B::Triangular{T,MT,uplo2,IsUnit}) at linalg/triangular.jl:12\n",
       "+(Da::Diagonal{T},Db::Diagonal{T}) at linalg/diagonal.jl:47\n",
       "+(A::Bidiagonal{T},B::Bidiagonal{T}) at linalg/bidiag.jl:92\n",
       "+{T}(B::BitArray{2},J::UniformScaling{T}) at linalg/uniformscaling.jl:26\n",
       "+(A::Diagonal{T},B::Bidiagonal{T}) at linalg/special.jl:89\n",
       "+(A::Bidiagonal{T},B::Diagonal{T}) at linalg/special.jl:90\n",
       "+(A::Diagonal{T},B::Tridiagonal{T}) at linalg/special.jl:89\n",
       "+(A::Tridiagonal{T},B::Diagonal{T}) at linalg/special.jl:90\n",
       "+(A::Diagonal{T},B::Triangular{T,S<:AbstractArray{T,2},UpLo,IsUnit}) at linalg/special.jl:89\n",
       "+(A::Triangular{T,S<:AbstractArray{T,2},UpLo,IsUnit},B::Diagonal{T}) at linalg/special.jl:90\n",
       "+(A::Diagonal{T},B::Array{T,2}) at linalg/special.jl:89\n",
       "+(A::Array{T,2},B::Diagonal{T}) at linalg/special.jl:90\n",
       "+(A::Bidiagonal{T},B::Tridiagonal{T}) at linalg/special.jl:89\n",
       "+(A::Tridiagonal{T},B::Bidiagonal{T}) at linalg/special.jl:90\n",
       "+(A::Bidiagonal{T},B::Triangular{T,S<:AbstractArray{T,2},UpLo,IsUnit}) at linalg/special.jl:89\n",
       "+(A::Triangular{T,S<:AbstractArray{T,2},UpLo,IsUnit},B::Bidiagonal{T}) at linalg/special.jl:90\n",
       "+(A::Bidiagonal{T},B::Array{T,2}) at linalg/special.jl:89\n",
       "+(A::Array{T,2},B::Bidiagonal{T}) at linalg/special.jl:90\n",
       "+(A::Tridiagonal{T},B::Triangular{T,S<:AbstractArray{T,2},UpLo,IsUnit}) at linalg/special.jl:89\n",
       "+(A::Triangular{T,S<:AbstractArray{T,2},UpLo,IsUnit},B::Tridiagonal{T}) at linalg/special.jl:90\n",
       "+(A::Tridiagonal{T},B::Array{T,2}) at linalg/special.jl:89\n",
       "+(A::Array{T,2},B::Tridiagonal{T}) at linalg/special.jl:90\n",
       "+(A::Triangular{T,S<:AbstractArray{T,2},UpLo,IsUnit},B::Array{T,2}) at linalg/special.jl:89\n",
       "+(A::Array{T,2},B::Triangular{T,S<:AbstractArray{T,2},UpLo,IsUnit}) at linalg/special.jl:90\n",
       "+(A::SymTridiagonal{T},B::Triangular{T,S<:AbstractArray{T,2},UpLo,IsUnit}) at linalg/special.jl:98\n",
       "+(A::Triangular{T,S<:AbstractArray{T,2},UpLo,IsUnit},B::SymTridiagonal{T}) at linalg/special.jl:99\n",
       "+(A::SymTridiagonal{T},B::Array{T,2}) at linalg/special.jl:98\n",
       "+(A::Array{T,2},B::SymTridiagonal{T}) at linalg/special.jl:99\n",
       "+(A::Diagonal{T},B::SymTridiagonal{T}) at linalg/special.jl:107\n",
       "+(A::SymTridiagonal{T},B::Diagonal{T}) at linalg/special.jl:108\n",
       "+(A::Bidiagonal{T},B::SymTridiagonal{T}) at linalg/special.jl:107\n",
       "+(A::SymTridiagonal{T},B::Bidiagonal{T}) at linalg/special.jl:108\n",
       "+{T<:Number}(x::AbstractArray{T<:Number,N}) at abstractarray.jl:362\n",
       "+(A::AbstractArray{T,N},x::Number) at array.jl:773\n",
       "+(x::Number,A::AbstractArray{T,N}) at array.jl:774\n",
       "+(J1::UniformScaling{T<:Number},J2::UniformScaling{T<:Number}) at linalg/uniformscaling.jl:25\n",
       "+(J::UniformScaling{T<:Number},B::BitArray{2}) at linalg/uniformscaling.jl:27\n",
       "+(J::UniformScaling{T<:Number},A::AbstractArray{T,2}) at linalg/uniformscaling.jl:28\n",
       "+(J::UniformScaling{T<:Number},x::Number) at linalg/uniformscaling.jl:29\n",
       "+(x::Number,J::UniformScaling{T<:Number}) at linalg/uniformscaling.jl:30\n",
       "+{TA,TJ}(A::AbstractArray{TA,2},J::UniformScaling{TJ}) at linalg/uniformscaling.jl:33\n",
       "+{T}(a::HierarchicalValue{T},b::HierarchicalValue{T}) at pkg/resolve/versionweight.jl:19\n",
       "+(a::VWPreBuildItem,b::VWPreBuildItem) at pkg/resolve/versionweight.jl:82\n",
       "+(a::VWPreBuild,b::VWPreBuild) at pkg/resolve/versionweight.jl:120\n",
       "+(a::VersionWeight,b::VersionWeight) at pkg/resolve/versionweight.jl:164\n",
       "+(a::FieldValue,b::FieldValue) at pkg/resolve/fieldvalue.jl:41\n",
       "+(a::Vec2,b::Vec2) at graphics.jl:60\n",
       "+(bb1::BoundingBox,bb2::BoundingBox) at graphics.jl:123\n",
       "+(a,b,c) at operators.jl:82\n",
       "+(a,b,c,xs...) at operators.jl:83"
      ]
     },
     "execution_count": 20,
     "metadata": {},
     "output_type": "execute_result"
    }
   ],
   "source": [
    "methods(+)"
   ]
  },
  {
   "cell_type": "code",
   "execution_count": 3,
   "metadata": {
    "collapsed": false
   },
   "outputs": [
    {
     "data": {
      "text/plain": [
       "+ (generic function with 120 methods)"
      ]
     },
     "execution_count": 3,
     "metadata": {},
     "output_type": "execute_result"
    }
   ],
   "source": [
    "+(s1::String, s2::String) = string(s1, s2)"
   ]
  },
  {
   "cell_type": "code",
   "execution_count": 23,
   "metadata": {
    "collapsed": false
   },
   "outputs": [
    {
     "data": {
      "text/plain": [
       "\"aab\""
      ]
     },
     "execution_count": 23,
     "metadata": {},
     "output_type": "execute_result"
    }
   ],
   "source": [
    "\"a\" + \"ab\""
   ]
  },
  {
   "cell_type": "code",
   "execution_count": 24,
   "metadata": {
    "collapsed": false
   },
   "outputs": [
    {
     "data": {
      "text/plain": [
       "7.5"
      ]
     },
     "execution_count": 24,
     "metadata": {},
     "output_type": "execute_result"
    }
   ],
   "source": [
    "3.5 + 4"
   ]
  },
  {
   "cell_type": "code",
   "execution_count": null,
   "metadata": {
    "collapsed": false
   },
   "outputs": [
    {
     "name": "stderr",
     "output_type": "stream",
     "text": [
      "Warning: Method definition +(Int64"
     ]
    }
   ],
   "source": [
    "+(a::Int64, b::Int64) = a - b "
   ]
  },
  {
   "cell_type": "code",
   "execution_count": 1,
   "metadata": {
    "collapsed": false
   },
   "outputs": [
    {
     "data": {
      "text/plain": [
       "3"
      ]
     },
     "execution_count": 1,
     "metadata": {},
     "output_type": "execute_result"
    }
   ],
   "source": [
    "1 + 2"
   ]
  },
  {
   "cell_type": "code",
   "execution_count": 4,
   "metadata": {
    "collapsed": false
   },
   "outputs": [
    {
     "data": {
      "text/plain": [
       "+ (generic function with 120 methods)"
      ]
     },
     "execution_count": 4,
     "metadata": {},
     "output_type": "execute_result"
    }
   ],
   "source": [
    "+(s::String, x) = s + string(x)\n",
    "+(x, s::String) = string(x) + s"
   ]
  },
  {
   "cell_type": "code",
   "execution_count": 5,
   "metadata": {
    "collapsed": false
   },
   "outputs": [
    {
     "data": {
      "text/plain": [
       "\"a3\""
      ]
     },
     "execution_count": 5,
     "metadata": {},
     "output_type": "execute_result"
    }
   ],
   "source": [
    "\"a\" + 3"
   ]
  },
  {
   "cell_type": "code",
   "execution_count": 6,
   "metadata": {
    "collapsed": false
   },
   "outputs": [
    {
     "data": {
      "text/plain": [
       "\"3a\""
      ]
     },
     "execution_count": 6,
     "metadata": {},
     "output_type": "execute_result"
    }
   ],
   "source": [
    "3 + \"a\""
   ]
  },
  {
   "cell_type": "code",
   "execution_count": 8,
   "metadata": {
    "collapsed": false
   },
   "outputs": [
    {
     "data": {
      "text/plain": [
       "\"a [1,2,3]\""
      ]
     },
     "execution_count": 8,
     "metadata": {},
     "output_type": "execute_result"
    }
   ],
   "source": [
    "\"a \" + [1, 2, 3]"
   ]
  },
  {
   "cell_type": "code",
   "execution_count": 9,
   "metadata": {
    "collapsed": false
   },
   "outputs": [
    {
     "data": {
      "text/plain": [
       "DataType"
      ]
     },
     "execution_count": 9,
     "metadata": {},
     "output_type": "execute_result"
    }
   ],
   "source": [
    "typeof(Number)"
   ]
  },
  {
   "cell_type": "code",
   "execution_count": 10,
   "metadata": {
    "collapsed": false
   },
   "outputs": [
    {
     "data": {
      "text/plain": [
       "Signed"
      ]
     },
     "execution_count": 10,
     "metadata": {},
     "output_type": "execute_result"
    }
   ],
   "source": [
    "super(Int64)"
   ]
  },
  {
   "cell_type": "code",
   "execution_count": 11,
   "metadata": {
    "collapsed": false
   },
   "outputs": [
    {
     "data": {
      "text/plain": [
       "Integer"
      ]
     },
     "execution_count": 11,
     "metadata": {},
     "output_type": "execute_result"
    }
   ],
   "source": [
    "super(Signed)"
   ]
  },
  {
   "cell_type": "code",
   "execution_count": 12,
   "metadata": {
    "collapsed": false
   },
   "outputs": [
    {
     "data": {
      "text/plain": [
       "Real"
      ]
     },
     "execution_count": 12,
     "metadata": {},
     "output_type": "execute_result"
    }
   ],
   "source": [
    "super(Integer)"
   ]
  },
  {
   "cell_type": "code",
   "execution_count": 13,
   "metadata": {
    "collapsed": false
   },
   "outputs": [
    {
     "data": {
      "text/plain": [
       "Number"
      ]
     },
     "execution_count": 13,
     "metadata": {},
     "output_type": "execute_result"
    }
   ],
   "source": [
    "super(Real)"
   ]
  },
  {
   "cell_type": "code",
   "execution_count": 14,
   "metadata": {
    "collapsed": false
   },
   "outputs": [
    {
     "data": {
      "text/plain": [
       "Any"
      ]
     },
     "execution_count": 14,
     "metadata": {},
     "output_type": "execute_result"
    }
   ],
   "source": [
    "super(Number)"
   ]
  },
  {
   "cell_type": "code",
   "execution_count": 15,
   "metadata": {
    "collapsed": false
   },
   "outputs": [
    {
     "data": {
      "text/plain": [
       "Any"
      ]
     },
     "execution_count": 15,
     "metadata": {},
     "output_type": "execute_result"
    }
   ],
   "source": [
    "super(Any)"
   ]
  },
  {
   "cell_type": "code",
   "execution_count": 16,
   "metadata": {
    "collapsed": false
   },
   "outputs": [
    {
     "data": {
      "text/plain": [
       "\"/Users/DboyLiao/.julia/v0.3\""
      ]
     },
     "execution_count": 16,
     "metadata": {},
     "output_type": "execute_result"
    }
   ],
   "source": [
    "Pkg.dir()"
   ]
  },
  {
   "cell_type": "code",
   "execution_count": 19,
   "metadata": {
    "collapsed": false
   },
   "outputs": [
    {
     "name": "stdout",
     "output_type": "stream",
     "text": [
      "Unknown editor: no line number information passed.\n",
      "The method is defined at line 15.\n"
     ]
    }
   ],
   "source": [
    "@edit 2//3"
   ]
  },
  {
   "cell_type": "code",
   "execution_count": 1,
   "metadata": {
    "collapsed": false
   },
   "outputs": [],
   "source": [
    "immutable Vector2DArray{T <:Real} # type\n",
    "    x::T\n",
    "    y::T\n",
    "end"
   ]
  },
  {
   "cell_type": "code",
   "execution_count": 2,
   "metadata": {
    "collapsed": false
   },
   "outputs": [
    {
     "data": {
      "text/plain": [
       "Vector2DArray{Float64}(2.0,4.0)"
      ]
     },
     "execution_count": 2,
     "metadata": {},
     "output_type": "execute_result"
    }
   ],
   "source": [
    "v = Vector2DArray{Float64}(2, 4)"
   ]
  },
  {
   "cell_type": "code",
   "execution_count": 5,
   "metadata": {
    "collapsed": false
   },
   "outputs": [
    {
     "data": {
      "text/plain": [
       "Vector2DArray{Int64}(2,3)"
      ]
     },
     "execution_count": 5,
     "metadata": {},
     "output_type": "execute_result"
    }
   ],
   "source": [
    "w = Vector2DArray{Int64}(2, 3)"
   ]
  },
  {
   "cell_type": "code",
   "execution_count": 3,
   "metadata": {
    "collapsed": false
   },
   "outputs": [
    {
     "data": {
      "text/plain": [
       "DataType"
      ]
     },
     "execution_count": 3,
     "metadata": {},
     "output_type": "execute_result"
    }
   ],
   "source": [
    "typeof(Vector2DArray)"
   ]
  },
  {
   "cell_type": "code",
   "execution_count": 4,
   "metadata": {
    "collapsed": false
   },
   "outputs": [
    {
     "data": {
      "text/plain": [
       "+ (generic function with 118 methods)"
      ]
     },
     "execution_count": 4,
     "metadata": {},
     "output_type": "execute_result"
    }
   ],
   "source": [
    "+(v::Vector2DArray, w::Vector2DArray) = Vector2DArray(v.x + w.x, v.y+w.y)"
   ]
  },
  {
   "cell_type": "code",
   "execution_count": 6,
   "metadata": {
    "collapsed": false
   },
   "outputs": [
    {
     "data": {
      "text/plain": [
       "Vector2DArray{Float64}(4.0,7.0)"
      ]
     },
     "execution_count": 6,
     "metadata": {},
     "output_type": "execute_result"
    }
   ],
   "source": [
    "v + w"
   ]
  },
  {
   "cell_type": "code",
   "execution_count": 7,
   "metadata": {
    "collapsed": false
   },
   "outputs": [
    {
     "data": {
      "text/plain": [
       "show (generic function with 89 methods)"
      ]
     },
     "execution_count": 7,
     "metadata": {},
     "output_type": "execute_result"
    }
   ],
   "source": [
    "show"
   ]
  },
  {
   "cell_type": "code",
   "execution_count": 9,
   "metadata": {
    "collapsed": false
   },
   "outputs": [
    {
     "name": "stdout",
     "output_type": "stream",
     "text": [
      "Vector2DArray{Float64}(2.0,4.0)"
     ]
    }
   ],
   "source": [
    "show(v)"
   ]
  },
  {
   "cell_type": "code",
   "execution_count": 10,
   "metadata": {
    "collapsed": false
   },
   "outputs": [
    {
     "name": "stderr",
     "output_type": "stream",
     "text": [
      "INFO: Loading help data...\n"
     ]
    },
    {
     "name": "stdout",
     "output_type": "stream",
     "text": [
      "Base.show(x)\n",
      "\n",
      "   Write an informative text representation of a value to the current\n",
      "   output stream. New types should overload \"show(io, x)\" where the\n",
      "   first argument is a stream. The representation used by \"show\"\n",
      "   generally includes Julia-specific formatting and type information.\n"
     ]
    }
   ],
   "source": [
    "?Base.show"
   ]
  },
  {
   "cell_type": "code",
   "execution_count": null,
   "metadata": {
    "collapsed": true
   },
   "outputs": [],
   "source": []
  }
 ],
 "metadata": {
  "kernelspec": {
   "display_name": "Julia 0.3.6",
   "language": "julia",
   "name": "julia 0.3"
  },
  "language_info": {
   "name": "julia",
   "version": "0.3.6"
  }
 },
 "nbformat": 4,
 "nbformat_minor": 0
}
